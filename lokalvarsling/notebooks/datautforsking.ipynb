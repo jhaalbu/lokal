{
 "cells": [
  {
   "cell_type": "code",
   "execution_count": 9,
   "metadata": {},
   "outputs": [
    {
     "name": "stdout",
     "output_type": "stream",
     "text": [
      "C:\\Users\\Eigar\\koding\\lokal\\lokalvarsling\n"
     ]
    }
   ],
   "source": [
    "import sys\n",
    "import os\n",
    "os.chdir(r'C:\\Users\\Eigar\\koding\\lokal\\lokalvarsling') \n",
    "base_path = os.path.abspath(os.path.join(os.getcwd(), 'vardata'))\n",
    "sys.path.append(base_path)\n",
    "print(os.getcwd())\n",
    "#sys.path.append(os.path.abspath(os.path.join(os.path.dirname(__file__), r'C:\\Users\\Eigar\\koding\\lokal\\lokalvarsling', 'vardata')))\n",
    "from vaerdata.apidata.griddata import nve_api, klima_dataframe"
   ]
  },
  {
   "cell_type": "code",
   "execution_count": null,
   "metadata": {},
   "outputs": [
    {
     "name": "stdout",
     "output_type": "stream",
     "text": [
      "dict_keys(['rr', 'rr3h', 'rrl', 'rrprrxrm5', 'tm', 'tm3h', 'tmgr', 'swe', 'swepr', 'swechange7d', 'swerank', 'snowload', 'age', 'lwc', 'fsw', 'fsw7d', 'sdfsw', 'sdfsw7d', 'sdfsw3d', 'additional_snow_depth', 'qsw', 'qsw7d', 'qtt', 'qtt7d', 'qttls', 'qtt3dls', 'gwb_qtt', 'gwb_qtt3d', 'gwb_qtt3dlst', 'gwb_qttprrxm200', 'gwb_qtt3dprrxm200', 'gwb_qttprgwb_qttyxrx30yr', 'gwb_qtt3dprgwb_qtt3dxyrx30yr', 'gwb_gwt', 'gwb_gwtdev', 'gwb_gtwtyxrx30yr', 'gwb_q', 'gwb_qprgwb_qxyxrx30yr', 'gwb_eva', 'gwb_sssdev', 'gwb_frd', 'gwb_sssrel', 'gwb_landslideindex1', 'gwb_landslideindex2', 'indDirection10m3h', 'windSpeed10m24h06', 'windSpeed10m3h', 'qsweenergy', 'qsweenergy3h'])\n",
      "['rr', 'rr3h', 'rrl', 'rrprrxrm5', 'tm', 'tm3h', 'tmgr', 'swe', 'swepr', 'swechange7d', 'swerank', 'snowload', 'age', 'lwc', 'fsw', 'fsw7d', 'sdfsw', 'sdfsw7d', 'sdfsw3d', 'additional_snow_depth', 'qsw', 'qsw7d', 'qtt', 'qtt7d', 'qttls', 'qtt3dls', 'gwb_qtt', 'gwb_qtt3d', 'gwb_qtt3dlst', 'gwb_qttprrxm200', 'gwb_qtt3dprrxm200', 'gwb_qttprgwb_qttyxrx30yr', 'gwb_qtt3dprgwb_qtt3dxyrx30yr', 'gwb_gwt', 'gwb_gwtdev', 'gwb_gtwtyxrx30yr', 'gwb_q', 'gwb_qprgwb_qxyxrx30yr', 'gwb_eva', 'gwb_sssdev', 'gwb_frd', 'gwb_sssrel', 'gwb_landslideindex1', 'gwb_landslideindex2', 'indDirection10m3h', 'windSpeed10m24h06', 'windSpeed10m3h', 'qsweenergy', 'qsweenergy3h']\n"
     ]
    }
   ],
   "source": [
    "parametere = [\"rr\", \"rrl\", \"tm\", \"lwc\", \"fsw\", \"fsw7d\", \"sdfsw\", \"sdfsw7d\", \"sdfsw3d\"]\n",
    "\n",
    "parameters = {\n",
    "    \"rr\": \"Døgnnedbør\",\n",
    "    \"rr3h\": \"Nedbør 3 timer\",\n",
    "    \"rrl\": \"Regn\",\n",
    "    \"rrprrxrm5\": \"Nedbør i % av 5 år\",\n",
    "    \"tm\": \"Temperatur\",\n",
    "    \"tm3h\": \"Temperatur 3 timer\",\n",
    "    \"tmgr\": \"Temperaturendring\",\n",
    "    \"swe\": \"Snømengde\",\n",
    "    \"swepr\": \"Snømengde i prosent\",\n",
    "    \"swechange7d\": \"Snø endring siste uke\",\n",
    "    \"swerank\": \"Snømengde rangert\",\n",
    "    \"snowload\": \"Snølast\",\n",
    "    \"age\": \"Snøens alder\",\n",
    "    \"lwc\": \"Snøtilstand\",\n",
    "    \"fsw\": \"Nysnø siste døgn\",\n",
    "    \"fsw7d\": \"Nysnø siste uke\",\n",
    "    \"sdfsw\": \"Nysnødybde\",\n",
    "    \"sdfsw7d\": \"Nysnødybde 7 døgn\",\n",
    "    \"sdfsw3d\": \"Nysnødybde 3 døgn\",\n",
    "    \"additional_snow_depth\": \"Fokksnøindeks\",\n",
    "    \"qsw\": \"Snøsmelting siste døgn\",\n",
    "    \"qsw7d\": \"Snøsmelting sum siste uke\",\n",
    "    \"qtt\": \"Regn og snøsmelting\",\n",
    "    \"qtt7d\": \"Regn og snøsmelting siste uke\",\n",
    "    \"qttls\": \"Vanntilførsel\",\n",
    "    \"qtt3dls\": \"Vanntilførsel 3 døgn\",\n",
    "    \"gwb_qtt\": \"HBV Vanntilførsel\",\n",
    "    \"gwb_qtt3d\": \"HBV Vanntilførsel 3 døgn\",\n",
    "    \"gwb_qtt3dlst\": \"Vanntilførsel 3 døgn\",\n",
    "    \"gwb_qttprrxm200\": \"Vanntilførsel 1 døgn i % av 200 år\",\n",
    "    \"gwb_qtt3dprrxm200\": \"Vanntilførsel 3 døgn i % av 200 år\",\n",
    "    \"gwb_qttprgwb_qttyxrx30yr\": \"Vanntilførsel 1 døgn i % maks\",\n",
    "    \"gwb_qtt3dprgwb_qtt3dxyrx30yr\": \"Vanntilførsel 3 døgn i % maks\",\n",
    "    \"gwb_gwt\": \"Grunnvann\",\n",
    "    \"gwb_gwtdev\": \"Døgnendring grunnvann\",\n",
    "    \"gwb_gtwtyxrx30yr\": \"Grunnvann i % av maksimum\",\n",
    "    \"gwb_q\": \"Avrenning\",\n",
    "    \"gwb_qprgwb_qxyxrx30yr\": \"Avrenning i % av maksimum\",\n",
    "    \"gwb_eva\": \"Fordamping\",\n",
    "    \"gwb_sssdev\": \"Jordas vannkapasitet\",\n",
    "    \"gwb_frd\": \"Teledyb\",\n",
    "    \"gwb_sssrel\": \"Vannmetning\",\n",
    "    \"gwb_landslideindex1\": \"Jordskredindeks1\",\n",
    "    \"gwb_landslideindex2\": \"Jordskredindeks2\",\n",
    "    \"indDirection10m3h\": \"Vindretning 10m 3 timer\",\n",
    "    \"windSpeed10m24h06\": \"Vindhastighet 10m døgn\",\n",
    "    \"windSpeed10m3h\": \"Vindhastighet 10m 3 timer\",\n",
    "    \"qsweenergy\": \"Snøsmelting fra energibalanse modell\",\n",
    "    \"qsweenergy3h\": \"Snøsmelting 3 timer fra energibalanse modell\"\n",
    "}\n",
    "print(parameters.keys())\n",
    "keyliste = list(parameters.keys())\n",
    "print(keyliste)"
   ]
  },
  {
   "cell_type": "code",
   "execution_count": null,
   "metadata": {},
   "outputs": [],
   "source": [
    "df = klima_dataframe(46073, 6663531, '2024-11-25', '2024-12-2', parametere)"
   ]
  },
  {
   "cell_type": "code",
   "execution_count": null,
   "metadata": {},
   "outputs": [],
   "source": []
  },
  {
   "cell_type": "code",
   "execution_count": null,
   "metadata": {},
   "outputs": [],
   "source": []
  }
 ],
 "metadata": {
  "kernelspec": {
   "display_name": "varsling",
   "language": "python",
   "name": "python3"
  },
  "language_info": {
   "codemirror_mode": {
    "name": "ipython",
    "version": 3
   },
   "file_extension": ".py",
   "mimetype": "text/x-python",
   "name": "python",
   "nbconvert_exporter": "python",
   "pygments_lexer": "ipython3",
   "version": "3.10.13"
  }
 },
 "nbformat": 4,
 "nbformat_minor": 2
}
