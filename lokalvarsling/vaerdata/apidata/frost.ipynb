{
 "cells": [
  {
   "cell_type": "code",
   "execution_count": 36,
   "id": "35648655-da1a-4de8-997c-6fad94d51546",
   "metadata": {},
   "outputs": [],
   "source": [
    "from frost2df import frost2df, obs2df, help, obsthin\n",
    "from datetime import datetime, timedelta\n",
    "from dateutil import parser, tz\n",
    "import pandas as pd\n",
    "import numpy as np\n",
    "import requests\n",
    "import json"
   ]
  },
  {
   "cell_type": "raw",
   "id": "d1af5881-f88e-4ea2-9b81-fa4e866ae3cb",
   "metadata": {},
   "source": [
    "print(obsthin(sources=46425))"
   ]
  },
  {
   "cell_type": "code",
   "execution_count": 19,
   "id": "488f6e91-2d64-469d-9a26-e590fefa6977",
   "metadata": {},
   "outputs": [],
   "source": [
    "elements = [\n",
    "        'air_temperature',\n",
    "        'surface_snow_thickness',\n",
    "        'wind_speed',\n",
    "        'wind_from_direction',\n",
    "        'sum(precipitation_amount PT10M)'\n",
    "]"
   ]
  },
  {
   "cell_type": "code",
   "execution_count": 21,
   "id": "ff655601-531c-450b-8f9d-8484036515de",
   "metadata": {},
   "outputs": [
    {
     "name": "stdout",
     "output_type": "stream",
     "text": [
      "https://frost.met.no/observations/v0.jsonld?sources=SN33950&elements=air_temperature%2Csurface_snow_thickness%2Cwind_speed%2Cwind_from_direction%2Csum%28precipitation_amount+PT10M%29&referencetime=2024-11-17T22%3A00%3A00%2F2024-11-22T22%3A00%3A00&timeoffsets=PT0H\n"
     ]
    }
   ],
   "source": [
    "fra_frost = frost_api('33950', 5, elements)"
   ]
  },
  {
   "cell_type": "code",
   "execution_count": 22,
   "id": "25f9d55b-5b19-4a54-a6c4-3c842341ccc5",
   "metadata": {},
   "outputs": [
    {
     "name": "stdout",
     "output_type": "stream",
     "text": [
      "       sourceId                        elementId             referenceTime  \\\n",
      "0     SN33950:0                  air_temperature 2024-11-17 22:00:00+00:00   \n",
      "1     SN33950:0                  air_temperature 2024-11-17 22:00:00+00:00   \n",
      "2     SN33950:0                       wind_speed 2024-11-17 22:00:00+00:00   \n",
      "3     SN33950:0                       wind_speed 2024-11-17 22:00:00+00:00   \n",
      "4     SN33950:0              wind_from_direction 2024-11-17 22:00:00+00:00   \n",
      "...         ...                              ...                       ...   \n",
      "3213  SN33950:0                       wind_speed 2024-11-22 21:00:00+00:00   \n",
      "3214  SN33950:0                       wind_speed 2024-11-22 21:00:00+00:00   \n",
      "3215  SN33950:0              wind_from_direction 2024-11-22 21:00:00+00:00   \n",
      "3216  SN33950:0              wind_from_direction 2024-11-22 21:00:00+00:00   \n",
      "3217  SN33950:0  sum(precipitation_amount PT10M) 2024-11-22 21:00:00+00:00   \n",
      "\n",
      "      value     unit  qualityCode timeOffset timeResolution  level.value  \n",
      "0      -1.4     degC            0       PT0H           PT1H          2.0  \n",
      "1      -1.4     degC            0       PT0H          PT10M          2.0  \n",
      "2       1.9      m/s            0       PT0H           PT1H         10.0  \n",
      "3       1.9      m/s            0       PT0H          PT10M         10.0  \n",
      "4     314.0  degrees            0       PT0H           PT1H         10.0  \n",
      "...     ...      ...          ...        ...            ...          ...  \n",
      "3213   10.2      m/s            0       PT0H           PT1H         10.0  \n",
      "3214   10.2      m/s            0       PT0H          PT10M         10.0  \n",
      "3215  273.0  degrees            0       PT0H           PT1H         10.0  \n",
      "3216  273.0  degrees            0       PT0H          PT10M         10.0  \n",
      "3217    0.0       mm            0       PT0H          PT10M          NaN  \n",
      "\n",
      "[3218 rows x 9 columns]\n"
     ]
    }
   ],
   "source": [
    "print(fra_frost)"
   ]
  },
  {
   "cell_type": "code",
   "execution_count": null,
   "id": "922c06a9-86e6-4728-869c-b62a2eaacd67",
   "metadata": {},
   "outputs": [],
   "source": []
  },
  {
   "cell_type": "code",
   "execution_count": 4,
   "id": "d6df350a-df49-4d74-99d2-8ef807aefa24",
   "metadata": {},
   "outputs": [],
   "source": [
    "def frost_api(stasjonsid, dager_tidligere, elements, timeoffsets='PT0H'):\n",
    "    \"\"\"\n",
    "    Denne funksjonen henter værdata fra Frost API for en gitt stasjon og tidsperiode.\n",
    "    Den konverterer svaret til en pandas DataFrame, setter 'referenceTime' som indeksen, sorterer DataFrame etter indeksen,\n",
    "    og konverterer 'value' kolonnen til numerisk.\n",
    "\n",
    "    Parametere:\n",
    "    stasjonsid (str): IDen til stasjonen som dataene skal hentes fra.\n",
    "    dager_tidligere (int): Antall dager tilbake i tid for å hente data.\n",
    "    elements (str eller liste): Værelementene som skal hentes. Hvis en liste er gitt, blir den konvertert til en kommaseparert streng.\n",
    "    timeoffsets (str, valgfritt): Tidsforskyvningene som skal brukes. Standard er 'PT0H'.\n",
    "\n",
    "    Returnerer:\n",
    "    df (DataFrame): En DataFrame som inneholder de hentede værdataene.\n",
    "    \"\"\"\n",
    "    now = datetime.now().replace(minute=0, second=0, microsecond=0)\n",
    "\n",
    "    #Finner tidspunkt for xx dager siden\n",
    "    earlier_date = now - timedelta(days=dager_tidligere)\n",
    "\n",
    "    # Konverterer til string\n",
    "    now_str = now.isoformat()\n",
    "    earlier_date_str = earlier_date.isoformat()\n",
    "\n",
    "    # Hvis elements er en liste, altså fleire værelementer, konverterer til string\n",
    "    if type(elements) == list:\n",
    "        elements = ','.join(elements)\n",
    "\n",
    "    # Lager parameterene som skal sendes til Frost API\n",
    "    parameters = {\n",
    "    'sources':'SN' + str(stasjonsid),\n",
    "    'elements': elements,\n",
    "    'referencetime': earlier_date_str + '/' + now_str,\n",
    "    'timeoffsets': timeoffsets\n",
    "    }\n",
    "\n",
    "    # Henter data fra Frost API med hjelp av frost2df pakken\n",
    "    df = obs2df(parameters=parameters, verbose=True)\n",
    "    df['value'] = pd.to_numeric(df['value'], errors='coerce')\n",
    "\n",
    "    return df\n",
    "\n",
    "\n",
    "\n",
    "def bearbeid_frost(df):\n",
    "    \"\"\"\n",
    "    Denne funksjonen resampler data til timeverdier for bedre visualisering. \n",
    "    Hvis elementet er lufttemperatur, snødybde, vindhastighet eller vindretning, beregnes gjennomsnittet for hver time.\n",
    "    Hvis elementet er nedbør, summeres nedbøren for hver time.\n",
    "    Funksjonen returnerer en DataFrame med resamplede verdier for hvert element.\n",
    "\n",
    "    Parametere:\n",
    "    df (DataFrame): DataFrame som inneholder data hentet fra Frost API.\n",
    "\n",
    "    Returnerer:\n",
    "    df_resampled (DataFrame): DataFrame med resamplede verdier for hvert element.\n",
    "    \"\"\"\n",
    "\n",
    "    # Define the resampling operation for each element\n",
    "    resampling_operations = {\n",
    "        'air_temperature': 'mean',\n",
    "        'surface_snow_thickness': 'mean',\n",
    "        'wind_speed': 'mean',\n",
    "        'wind_from_direction': 'mean',\n",
    "        'sum(precipitation_amount PT10M)': 'sum'\n",
    "    }\n",
    "\n",
    "    # Group by 'elementId' and 'referenceTime', then resample and apply the operation for each group\n",
    "    df_resampled = df.groupby('elementId').resample('H', on='referenceTime').agg({\n",
    "        'value': lambda group: group.agg(resampling_operations[group.name])\n",
    "    })\n",
    "    # Reset the index and replace NaN with None\n",
    "    df_resampled.reset_index(inplace=True)\n",
    "    df_resampled['value'] = df_resampled['value'].replace({np.nan: None})\n",
    "\n",
    "    return df_resampled\n",
    "\n",
    "\n",
    "\n",
    "def frost_samledf(df):\n",
    "    df_pivot = df.pivot(index='referenceTime', columns='elementId', values='value')\n",
    "    return df_pivot\n",
    "\n",
    "\n",
    "def assign_direction_to_bin(value):\n",
    "    if value >= 337.5 or value < 22.5:\n",
    "        return 'N'\n",
    "    elif value < 67.5:\n",
    "        return 'NØ'\n",
    "    elif value < 112.5:\n",
    "        return 'Ø'\n",
    "    elif value < 157.5:\n",
    "        return 'SØ'\n",
    "    elif value < 202.5:\n",
    "        return 'S'\n",
    "    elif value < 247.5:\n",
    "        return 'SV'\n",
    "    elif value < 292.5:\n",
    "        return 'V'\n",
    "    elif value < 337.5:\n",
    "        return 'NV'\n",
    "\n",
    "def vindrose(stasjonsid, dager_tidligere):\n",
    "    \"\"\"\n",
    "    Denne funksjonen henter vindhastighet og vindretning fra Frost API for en gitt stasjon og tidsperiode.\n",
    "    Den kombinerer deretter disse dataene i en enkelt DataFrame, og kategoriserer vindhastigheten og vindretningen i binner.\n",
    "    Til slutt, den returnerer en pivotert DataFrame som viser frekvensen av vindhastighet og retning kombinasjoner.\n",
    "\n",
    "    Parametere:\n",
    "    stasjonsid (str): IDen til stasjonen som dataene skal hentes fra.\n",
    "    dager_tidligere (int): Antall dager tilbake i tid for å hente data.\n",
    "\n",
    "    Returnerer:\n",
    "    pivot_df (DataFrame): En DataFrame som viser frekvensen av vindhastighet og retning kombinasjoner.\n",
    "    \"\"\"\n",
    "    direction_order = ['N', 'NØ', 'Ø', 'SØ', 'S', 'SV', 'V', 'NV']\n",
    "\n",
    "    df_wind_speed = frost_api(stasjonsid, dager_tidligere, 'wind_speed', timeoffsets='PT0H')\n",
    "    df_wind_from_direction = frost_api(stasjonsid, dager_tidligere, 'wind_from_direction', timeoffsets='PT0H')\n",
    "    df_wind_speed = df_wind_speed.rename(columns={'value': 'wind_speed'})\n",
    "    df_wind_from_direction = df_wind_from_direction.rename(columns={'value': 'wind_from_direction'})\n",
    "\n",
    "    df_combined = df_wind_speed[['wind_speed']].merge(df_wind_from_direction[['wind_from_direction']], left_index=True, right_index=True)\n",
    "\n",
    "\n",
    "    speed_bins = [0, 4, 8, 11, 14, 17, 20, 25, float('inf')]\n",
    "    speed_labels = ['0-4 m/s', '4-8 m/s', '8-11 m/s', '11-14 m/s', '14-17 m/s', '17-20 m/s', '20-25 m/s', '>25 m/s']\n",
    "\n",
    "    df_combined['direction_bin'] = df_combined['wind_from_direction'].apply(assign_direction_to_bin)\n",
    "    df_combined['speed_bin'] = pd.cut(df_combined['wind_speed'], bins=speed_bins, labels=speed_labels, right=True)\n",
    "\n",
    "    frequency_2d_df = df_combined.groupby(['direction_bin', 'speed_bin']).size().reset_index(name='Frequency')\n",
    "\n",
    "  # Pivot the table to have wind speeds as columns and directions as rows\n",
    "    pivot_df = frequency_2d_df.pivot(index='direction_bin', columns='speed_bin', values='Frequency')\n",
    "\n",
    "    # Replace NaNs with 0s and ensure all direction bins are present\n",
    "    pivot_df = pivot_df.reindex(direction_order, fill_value=0)\n",
    "\n",
    "    # Convert the index to a categorical with the specified order\n",
    "    pivot_df.index = pd.CategoricalIndex(pivot_df.index, categories=direction_order, ordered=True)\n",
    "\n",
    "    # Sorting by index is not needed since reindexing has already ordered the index as per `direction_order`\n",
    "\n",
    "    # Printing the pivot_df for verification\n",
    "    print(pivot_df)\n",
    "\n",
    "    return pivot_df\n",
    "\n",
    "    "
   ]
  },
  {
   "cell_type": "code",
   "execution_count": 5,
   "id": "50288378-a70a-4c57-9abd-4a995ab03f70",
   "metadata": {},
   "outputs": [
    {
     "name": "stdout",
     "output_type": "stream",
     "text": [
      "https://frost.met.no/observations/v0.jsonld?sources=SN58703&elements=air_temperature%2Csurface_snow_thickness%2Cwind_speed%2Cwind_from_direction%2Csum%28precipitation_amount+PT10M%29&referencetime=2024-11-17T18%3A00%3A00%2F2024-11-22T18%3A00%3A00&timeoffsets=PT0H\n"
     ]
    }
   ],
   "source": [
    "fra_frost = frost_api('58703', 5, elements)"
   ]
  },
  {
   "cell_type": "code",
   "execution_count": 23,
   "id": "d2a08bcd-9626-46e6-8d23-bdf9fcbd31b3",
   "metadata": {},
   "outputs": [],
   "source": [
    "client_id = 'b8b1793b-27ff-4f4d-a081-fcbcc5065b53'\n",
    "client_secret = '7f24c0ca-ca82-4ed6-afcd-23e657c2e78c'\n"
   ]
  },
  {
   "cell_type": "code",
   "execution_count": null,
   "id": "7352ac46-c989-4301-8c0b-30d390363fb5",
   "metadata": {},
   "outputs": [],
   "source": []
  },
  {
   "cell_type": "code",
   "execution_count": 31,
   "id": "54dccbcb-ff9b-4773-988c-4f3580c8f026",
   "metadata": {},
   "outputs": [],
   "source": [
    "r = requests.get(f'https://frost.met.no/sources/v0.jsonld?ids=SN18700,SN50500,SN100&types=SensorSystem', auth=(client_id,client_secret))"
   ]
  },
  {
   "cell_type": "code",
   "execution_count": 38,
   "id": "458e00c1-617d-4b9b-affa-a0fa41724e5e",
   "metadata": {},
   "outputs": [],
   "source": [
    "#print(json.dumps(r.json(), indent=2))"
   ]
  },
  {
   "cell_type": "code",
   "execution_count": 53,
   "id": "a3ba64c2-c945-4670-902c-935d79cc5d5b",
   "metadata": {},
   "outputs": [],
   "source": [
    "def finn_element_ids(json_data):\n",
    "    \"\"\"\n",
    "    Finner og printer ut alle unike elementId-verdier fra JSON-data.\n",
    "\n",
    "    Args:\n",
    "        json_data (dict): JSON-datastruktur.\n",
    "    \"\"\"\n",
    "    # Hent 'data'-nøkkelen fra JSON-strukturen\n",
    "    data = json_data.get(\"data\", [])\n",
    "    \n",
    "    # Samle unike elementId-verdier\n",
    "    element_ids = {item.get(\"elementId\") for item in data if \"elementId\" in item}\n",
    "    \n",
    "    # Print unike elementId-verdier\n",
    "    print(\"Unike elementId-verdier:\")\n",
    "    for element_id in sorted(element_ids):\n",
    "        print(f\"- {element_id}\")\n",
    "\n",
    "def sjekk_element_ids(json_data, elements):\n",
    "    \"\"\"\n",
    "    Sjekker om noen elementId-verdier fra JSON-data finnes i en liste av elementer.\n",
    "\n",
    "    Args:\n",
    "        json_data (dict): JSON-datastruktur.\n",
    "        elements (list): Liste over elementer som skal sjekkes mot.\n",
    "\n",
    "    Returns:\n",
    "        list: Liste over elementId-verdier som finnes i både JSON-data og elementlisten.\n",
    "    \"\"\"\n",
    "    # Hent 'data'-nøkkelen fra JSON-strukturen\n",
    "    data = json_data.get(\"data\", [])\n",
    "    \n",
    "    # Samle elementId-verdier fra JSON-data\n",
    "    element_ids = {item.get(\"elementId\") for item in data if \"elementId\" in item}\n",
    "    \n",
    "    # Finn elementId-verdier som finnes i begge lister\n",
    "    felles_elementer = [eid for eid in element_ids if any(eid.startswith(elem) for elem in elements)]\n",
    "    \n",
    "    return felles_elementer\n",
    "    \n",
    "elements = [\n",
    "        'air_temperature',\n",
    "        'surface_snow_thickness',\n",
    "        'wind_speed',\n",
    "        'wind_from_direction',\n",
    "        'sum(precipitation_amount PT10M)'\n",
    "]"
   ]
  },
  {
   "cell_type": "code",
   "execution_count": 57,
   "id": "2b70e35a-f62b-4913-aa57-625e6322c84a",
   "metadata": {},
   "outputs": [],
   "source": [
    "r = requests.get('https://frost.met.no/observations/availableTimeSeries/v0.jsonld?sources=SN46430&referencetime=2024-11-23',auth=(client_id,client_secret))  "
   ]
  },
  {
   "cell_type": "code",
   "execution_count": 58,
   "id": "cc26ca0b-f394-4b57-b2c3-c99d98eadcd5",
   "metadata": {},
   "outputs": [
    {
     "data": {
      "text/plain": [
       "['air_temperature',\n",
       " 'surface_snow_thickness',\n",
       " 'sum(precipitation_amount PT10M)']"
      ]
     },
     "execution_count": 58,
     "metadata": {},
     "output_type": "execute_result"
    }
   ],
   "source": [
    "sjekk_element_ids(r.json(), elements)\n",
    "#finn_element_ids(r.json())\n",
    "#print(json.dumps(r.json(), indent=2))"
   ]
  },
  {
   "cell_type": "code",
   "execution_count": 61,
   "id": "9633366c-7fa3-45b2-aae3-f05f5fef409e",
   "metadata": {},
   "outputs": [
    {
     "name": "stdout",
     "output_type": "stream",
     "text": [
      "{\n",
      "  \"@context\": \"https://frost.met.no/schema\",\n",
      "  \"@type\": \"SourceResponse\",\n",
      "  \"apiVersion\": \"v0\",\n",
      "  \"license\": \"https://creativecommons.org/licenses/by/3.0/no/\",\n",
      "  \"createdAt\": \"2024-11-24T10:22:26Z\",\n",
      "  \"queryTime\": 1.423,\n",
      "  \"currentItemCount\": 1,\n",
      "  \"itemsPerPage\": 1,\n",
      "  \"offset\": 0,\n",
      "  \"totalItemCount\": 1,\n",
      "  \"currentLink\": \"https://frost.met.no/sources/v0.jsonld?ids=SN18700&types=SensorSystem\",\n",
      "  \"data\": [\n",
      "    {\n",
      "      \"@type\": \"SensorSystem\",\n",
      "      \"id\": \"SN18700\",\n",
      "      \"name\": \"OSLO - BLINDERN\",\n",
      "      \"shortName\": \"Oslo (Blindern)\",\n",
      "      \"country\": \"Norge\",\n",
      "      \"countryCode\": \"NO\",\n",
      "      \"wmoId\": 1492,\n",
      "      \"geometry\": {\n",
      "        \"@type\": \"Point\",\n",
      "        \"coordinates\": [\n",
      "          10.72,\n",
      "          59.9423\n",
      "        ],\n",
      "        \"nearest\": false\n",
      "      },\n",
      "      \"masl\": 94,\n",
      "      \"validFrom\": \"1931-01-01T00:00:00.000Z\",\n",
      "      \"county\": \"OSLO\",\n",
      "      \"countyId\": 3,\n",
      "      \"municipality\": \"OSLO\",\n",
      "      \"municipalityId\": 301,\n",
      "      \"ontologyId\": 0,\n",
      "      \"stationHolders\": [\n",
      "        \"MET.NO\"\n",
      "      ],\n",
      "      \"externalIds\": [\n",
      "        \"0-20000-0-01492\",\n",
      "        \"0-20001-0-01492\",\n",
      "        \"0-20008-0-OSL\",\n",
      "        \"10.240.10.11:6785\",\n",
      "        \"157.249.0.180:6785\"\n",
      "      ],\n",
      "      \"wigosId\": \"0-20000-0-01492\"\n",
      "    }\n",
      "  ]\n",
      "}\n"
     ]
    }
   ],
   "source": [
    "r = requests.get('https://frost.met.no/sources/v0.jsonld?ids=SN18700&types=SensorSystem',auth=(client_id,client_secret)) \n",
    "print(json.dumps(r.json(), indent=2))"
   ]
  },
  {
   "cell_type": "code",
   "execution_count": 70,
   "id": "8a3a4a0f-a153-4d1c-8cde-552c2fb8e818",
   "metadata": {},
   "outputs": [],
   "source": [
    "def hent_stasjonsdata(json_data):\n",
    "    \"\"\"\n",
    "    Ekstraherer spesifikke felt fra stasjonsdata i JSON-format.\n",
    "\n",
    "    Args:\n",
    "        json_data (dict): JSON-data fra API-et.\n",
    "\n",
    "    Returns:\n",
    "        dict: Et dictionary med ønskede felt.\n",
    "    \"\"\"\n",
    "    # Sjekk om det er data i JSON-strukturen\n",
    "    data = json_data.get(\"data\", [])\n",
    "    if not data:\n",
    "        return None  # Returner None hvis det ikke er data\n",
    "\n",
    "    # Hent første element (hvis flere elementer finnes, kan det utvides)\n",
    "    stasjon = data[0]\n",
    "\n",
    "    # Ekstraher ønskede felt\n",
    "    stasjonsinfo = {\n",
    "        \"name\": stasjon.get(\"name\"),\n",
    "        \"shortName\": stasjon.get(\"shortName\"),\n",
    "        \"masl\": stasjon.get(\"masl\"),\n",
    "        \"stationHolder\": stasjon.get(\"stationHolders\", []),\n",
    "        \"coordinates\": stasjon.get(\"geometry\", {}).get(\"coordinates\", [])\n",
    "    }\n",
    "\n",
    "    return stasjonsinfo"
   ]
  },
  {
   "cell_type": "code",
   "execution_count": 71,
   "id": "ec7b66ad-9626-46dd-ab55-182ff3233fe5",
   "metadata": {},
   "outputs": [
    {
     "name": "stdout",
     "output_type": "stream",
     "text": [
      "{'name': 'OSLO - BLINDERN', 'shortName': 'Oslo (Blindern)', 'masl': 94, 'stationHolder': ['MET.NO'], 'coordinates': [10.72, 59.9423]}\n"
     ]
    }
   ],
   "source": [
    "print(hent_stasjonsdata(r.json()))"
   ]
  },
  {
   "cell_type": "code",
   "execution_count": 85,
   "id": "51e766a2-f812-4d26-b7d4-a7a85579ac0c",
   "metadata": {},
   "outputs": [],
   "source": [
    "def hent_stasjonsdata2(stasjon_id):\n",
    "    \"\"\"\n",
    "    Ekstraherer spesifikke felt fra stasjonsdata i JSON-format.\n",
    "\n",
    "    Args:\n",
    "        json_data (dict): JSON-data fra API-et.\n",
    "\n",
    "    Returns:\n",
    "        dict: Et dictionary med ønskede felt.\n",
    "    \"\"\"\n",
    "\n",
    "    client_id = 'b8b1793b-27ff-4f4d-a081-fcbcc5065b53'\n",
    "    client_secret = '7f24c0ca-ca82-4ed6-afcd-23e657c2e78c'\n",
    "\n",
    "    api_url_stasjonsdata = f\"https://frost.met.no/sources/v0.jsonld?ids=SN{stasjon_id}&types=SensorSystem\"\n",
    "    \n",
    "    response_stasjonsdata = requests.get(api_url_stasjonsdata,auth=(client_id,client_secret)) \n",
    "    response_stasjonsdata.raise_for_status()\n",
    "    json_data_stasjonsdata = response_stasjonsdata.json()  # Parse JSON-responsen\n",
    "    \n",
    "    # Sjekk om det er data i JSON-strukturen\n",
    "    data = json_data_stasjonsdata.get(\"data\", [])\n",
    "   \n",
    "    if not data:\n",
    "        return None  # Returner None hvis det ikke er data\n",
    "\n",
    "    # Hent første element (hvis flere elementer finnes, kan det utvides)\n",
    "    stasjon = data[0]\n",
    "\n",
    "    # Ekstraher ønskede felt\n",
    "    stasjonsinfo = {\n",
    "        \"name\": stasjon.get(\"name\"),\n",
    "        \"shortName\": stasjon.get(\"shortName\"),\n",
    "        \"masl\": stasjon.get(\"masl\"),\n",
    "        \"stationHolder\": stasjon.get(\"stationHolders\", []),\n",
    "        \"coordinates\": stasjon.get(\"geometry\", {}).get(\"coordinates\", [])\n",
    "    }\n",
    "\n",
    "    return stasjonsinfo"
   ]
  },
  {
   "cell_type": "code",
   "execution_count": 86,
   "id": "eebed284-cee1-4d42-b540-fa4d81f2f0d0",
   "metadata": {},
   "outputs": [
    {
     "name": "stdout",
     "output_type": "stream",
     "text": [
      "{'name': 'OSLO - BLINDERN', 'shortName': 'Oslo (Blindern)', 'masl': 94, 'stationHolder': ['MET.NO'], 'coordinates': [10.72, 59.9423]}\n"
     ]
    }
   ],
   "source": [
    "print(hent_stasjonsdata2(18700))"
   ]
  },
  {
   "cell_type": "code",
   "execution_count": null,
   "id": "403d2c3a-480e-47bc-8f8b-66b8506b0f91",
   "metadata": {},
   "outputs": [],
   "source": []
  }
 ],
 "metadata": {
  "kernelspec": {
   "display_name": "Python 3 (ipykernel)",
   "language": "python",
   "name": "python3"
  },
  "language_info": {
   "codemirror_mode": {
    "name": "ipython",
    "version": 3
   },
   "file_extension": ".py",
   "mimetype": "text/x-python",
   "name": "python",
   "nbconvert_exporter": "python",
   "pygments_lexer": "ipython3",
   "version": "3.10.13"
  }
 },
 "nbformat": 4,
 "nbformat_minor": 5
}
