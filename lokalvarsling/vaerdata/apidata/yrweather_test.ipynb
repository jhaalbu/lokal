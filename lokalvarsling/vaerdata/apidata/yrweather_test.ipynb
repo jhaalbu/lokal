{
 "cells": [
  {
   "cell_type": "code",
   "execution_count": 3,
   "metadata": {},
   "outputs": [
    {
     "ename": "ImportError",
     "evalue": "attempted relative import with no known parent package",
     "output_type": "error",
     "traceback": [
      "\u001b[1;31m---------------------------------------------------------------------------\u001b[0m",
      "\u001b[1;31mImportError\u001b[0m                               Traceback (most recent call last)",
      "Cell \u001b[1;32mIn[3], line 2\u001b[0m\n\u001b[0;32m      1\u001b[0m \u001b[38;5;28;01mimport\u001b[39;00m \u001b[38;5;21;01mfrost2df\u001b[39;00m\n\u001b[1;32m----> 2\u001b[0m \u001b[38;5;28;01mimport\u001b[39;00m \u001b[38;5;21;01mstasjon\u001b[39;00m\n",
      "File \u001b[1;32m~\\Documents\\Koding\\lokal\\lokalvarsling\\vaerdata\\apidata\\stasjon.py:7\u001b[0m\n\u001b[0;32m      1\u001b[0m \u001b[38;5;66;03m# Funksjoner for å hente værdata fra stasjoner. Hovedsakling met sitt Frost API.\u001b[39;00m\n\u001b[0;32m      2\u001b[0m \u001b[38;5;66;03m# Funksjonene bruker funksjoner fra frost2df.py for å hente data fra Frost API.\u001b[39;00m\n\u001b[0;32m      3\u001b[0m \u001b[38;5;66;03m# Frost2df er utviklet av met.no \u001b[39;00m\n\u001b[0;32m      6\u001b[0m \u001b[38;5;28;01mimport\u001b[39;00m \u001b[38;5;21;01mjson\u001b[39;00m\n\u001b[1;32m----> 7\u001b[0m \u001b[38;5;28;01mfrom\u001b[39;00m \u001b[38;5;21;01m.\u001b[39;00m\u001b[38;5;21;01mfrost2df\u001b[39;00m \u001b[38;5;28;01mimport\u001b[39;00m frost2df, obs2df\n\u001b[0;32m      8\u001b[0m \u001b[38;5;28;01mfrom\u001b[39;00m \u001b[38;5;21;01mdatetime\u001b[39;00m \u001b[38;5;28;01mimport\u001b[39;00m datetime, timedelta\n\u001b[0;32m      9\u001b[0m \u001b[38;5;28;01mfrom\u001b[39;00m \u001b[38;5;21;01mdateutil\u001b[39;00m \u001b[38;5;28;01mimport\u001b[39;00m parser, tz\n",
      "\u001b[1;31mImportError\u001b[0m: attempted relative import with no known parent package"
     ]
    }
   ],
   "source": [
    "import frost2df\n",
    "\n",
    "# Replace with your own User-Agent. See MET API Terms of Service for correct User-Agents.\n",
    "\n"
   ]
  },
  {
   "cell_type": "code",
   "execution_count": 3,
   "metadata": {},
   "outputs": [],
   "source": [
    "import metno"
   ]
  },
  {
   "cell_type": "code",
   "execution_count": 4,
   "metadata": {},
   "outputs": [],
   "source": [
    "params = {\n",
    "    \"lat\": 61.98,\n",
    "    \"lon\": 7.33\n",
    "}"
   ]
  },
  {
   "cell_type": "code",
   "execution_count": 17,
   "metadata": {},
   "outputs": [
    {
     "ename": "RuntimeError",
     "evalue": "This event loop is already running",
     "output_type": "error",
     "traceback": [
      "\u001b[1;31m---------------------------------------------------------------------------\u001b[0m",
      "\u001b[1;31mRuntimeError\u001b[0m                              Traceback (most recent call last)",
      "\u001b[1;32mc:\\Users\\janaal\\Documents\\Koding\\varslingsdata\\varslingsdata\\vaerdata\\apidata\\yrweather_test.ipynb Cell 4\u001b[0m line \u001b[0;36m1\n\u001b[1;32m----> <a href='vscode-notebook-cell:/c%3A/Users/janaal/Documents/Koding/varslingsdata/varslingsdata/vaerdata/apidata/yrweather_test.ipynb#W2sZmlsZQ%3D%3D?line=0'>1</a>\u001b[0m data \u001b[39m=\u001b[39m metno\u001b[39m.\u001b[39mMetWeatherData(params)\n",
      "File \u001b[1;32mc:\\Users\\janaal\\AppData\\Local\\anaconda3\\envs\\varslingsdata\\Lib\\site-packages\\metno\\__init__.py:103\u001b[0m, in \u001b[0;36mMetWeatherData.__init__\u001b[1;34m(self, urlparams, websession, api_url)\u001b[0m\n\u001b[0;32m    100\u001b[0m         \u001b[39mreturn\u001b[39;00m aiohttp\u001b[39m.\u001b[39mClientSession()\n\u001b[0;32m    102\u001b[0m     loop \u001b[39m=\u001b[39m asyncio\u001b[39m.\u001b[39mget_event_loop()\n\u001b[1;32m--> 103\u001b[0m     \u001b[39mself\u001b[39m\u001b[39m.\u001b[39m_websession \u001b[39m=\u001b[39m loop\u001b[39m.\u001b[39mrun_until_complete(_create_session())\n\u001b[0;32m    104\u001b[0m \u001b[39melse\u001b[39;00m:\n\u001b[0;32m    105\u001b[0m     \u001b[39mself\u001b[39m\u001b[39m.\u001b[39m_websession \u001b[39m=\u001b[39m websession\n",
      "File \u001b[1;32mc:\\Users\\janaal\\AppData\\Local\\anaconda3\\envs\\varslingsdata\\Lib\\asyncio\\base_events.py:629\u001b[0m, in \u001b[0;36mBaseEventLoop.run_until_complete\u001b[1;34m(self, future)\u001b[0m\n\u001b[0;32m    618\u001b[0m \u001b[39m\u001b[39m\u001b[39m\"\"\"Run until the Future is done.\u001b[39;00m\n\u001b[0;32m    619\u001b[0m \n\u001b[0;32m    620\u001b[0m \u001b[39mIf the argument is a coroutine, it is wrapped in a Task.\u001b[39;00m\n\u001b[1;32m   (...)\u001b[0m\n\u001b[0;32m    626\u001b[0m \u001b[39mReturn the Future's result, or raise its exception.\u001b[39;00m\n\u001b[0;32m    627\u001b[0m \u001b[39m\"\"\"\u001b[39;00m\n\u001b[0;32m    628\u001b[0m \u001b[39mself\u001b[39m\u001b[39m.\u001b[39m_check_closed()\n\u001b[1;32m--> 629\u001b[0m \u001b[39mself\u001b[39m\u001b[39m.\u001b[39m_check_running()\n\u001b[0;32m    631\u001b[0m new_task \u001b[39m=\u001b[39m \u001b[39mnot\u001b[39;00m futures\u001b[39m.\u001b[39misfuture(future)\n\u001b[0;32m    632\u001b[0m future \u001b[39m=\u001b[39m tasks\u001b[39m.\u001b[39mensure_future(future, loop\u001b[39m=\u001b[39m\u001b[39mself\u001b[39m)\n",
      "File \u001b[1;32mc:\\Users\\janaal\\AppData\\Local\\anaconda3\\envs\\varslingsdata\\Lib\\asyncio\\base_events.py:588\u001b[0m, in \u001b[0;36mBaseEventLoop._check_running\u001b[1;34m(self)\u001b[0m\n\u001b[0;32m    586\u001b[0m \u001b[39mdef\u001b[39;00m \u001b[39m_check_running\u001b[39m(\u001b[39mself\u001b[39m):\n\u001b[0;32m    587\u001b[0m     \u001b[39mif\u001b[39;00m \u001b[39mself\u001b[39m\u001b[39m.\u001b[39mis_running():\n\u001b[1;32m--> 588\u001b[0m         \u001b[39mraise\u001b[39;00m \u001b[39mRuntimeError\u001b[39;00m(\u001b[39m'\u001b[39m\u001b[39mThis event loop is already running\u001b[39m\u001b[39m'\u001b[39m)\n\u001b[0;32m    589\u001b[0m     \u001b[39mif\u001b[39;00m events\u001b[39m.\u001b[39m_get_running_loop() \u001b[39mis\u001b[39;00m \u001b[39mnot\u001b[39;00m \u001b[39mNone\u001b[39;00m:\n\u001b[0;32m    590\u001b[0m         \u001b[39mraise\u001b[39;00m \u001b[39mRuntimeError\u001b[39;00m(\n\u001b[0;32m    591\u001b[0m             \u001b[39m'\u001b[39m\u001b[39mCannot run the event loop while another loop is running\u001b[39m\u001b[39m'\u001b[39m)\n",
      "\u001b[1;31mRuntimeError\u001b[0m: This event loop is already running"
     ]
    }
   ],
   "source": [
    "data = metno.MetWeatherData(params)"
   ]
  },
  {
   "cell_type": "code",
   "execution_count": 5,
   "metadata": {},
   "outputs": [],
   "source": [
    "import pytz\n",
    "from aiohttp import ClientSession\n"
   ]
  },
  {
   "cell_type": "code",
   "execution_count": 6,
   "metadata": {},
   "outputs": [],
   "source": [
    "\n",
    "\n",
    "# Define your location's coordinates\n",
    "urlparams = {\n",
    "    'lat': '59.91',  # Latitude\n",
    "    'lon': '10.75',  # Longitude\n",
    "}\n",
    "\n",
    "# Create an asynchronous web session\n",
    "async with ClientSession() as session:\n",
    "    met_weather_data = metno.MetWeatherData(urlparams, websession=session)"
   ]
  },
  {
   "cell_type": "code",
   "execution_count": 7,
   "metadata": {},
   "outputs": [
    {
     "data": {
      "text/plain": [
       "<coroutine object MetWeatherData.fetching_data at 0x000001FC18EC3AB0>"
      ]
     },
     "execution_count": 7,
     "metadata": {},
     "output_type": "execute_result"
    }
   ],
   "source": [
    "met_weather_data.fetching_data()"
   ]
  },
  {
   "cell_type": "code",
   "execution_count": 8,
   "metadata": {},
   "outputs": [],
   "source": [
    "\n",
    "\n",
    "# Get current weather\n",
    "current_weather = met_weather_data.get_current_weather()\n",
    "\n",
    "# Get forecast (for example, hourly for the next 24 hours)\n",
    "forecast_data = met_weather_data.get_forecast(pytz.timezone('Europe/Oslo'), hourly=True, range_start=1, range_stop=24)"
   ]
  },
  {
   "cell_type": "code",
   "execution_count": 9,
   "metadata": {},
   "outputs": [
    {
     "name": "stdout",
     "output_type": "stream",
     "text": [
      "[]\n"
     ]
    }
   ],
   "source": [
    "print(forecast_data)"
   ]
  },
  {
   "cell_type": "code",
   "execution_count": 10,
   "metadata": {},
   "outputs": [
    {
     "ename": "RuntimeError",
     "evalue": "asyncio.run() cannot be called from a running event loop",
     "output_type": "error",
     "traceback": [
      "\u001b[1;31m---------------------------------------------------------------------------\u001b[0m",
      "\u001b[1;31mRuntimeError\u001b[0m                              Traceback (most recent call last)",
      "Cell \u001b[1;32mIn[10], line 20\u001b[0m\n\u001b[0;32m     16\u001b[0m         \u001b[38;5;28mprint\u001b[39m(current_weather)\n\u001b[0;32m     17\u001b[0m         \u001b[38;5;66;03m# Add more processing as needed...\u001b[39;00m\n\u001b[0;32m     18\u001b[0m \n\u001b[0;32m     19\u001b[0m \u001b[38;5;66;03m# Run the main coroutine\u001b[39;00m\n\u001b[1;32m---> 20\u001b[0m asyncio\u001b[38;5;241m.\u001b[39mrun(main())\n",
      "File \u001b[1;32mc:\\Users\\janaal\\AppData\\Local\\anaconda3\\envs\\varslingsdata\\Lib\\asyncio\\runners.py:186\u001b[0m, in \u001b[0;36mrun\u001b[1;34m(main, debug)\u001b[0m\n\u001b[0;32m    161\u001b[0m \u001b[38;5;250m\u001b[39m\u001b[38;5;124;03m\"\"\"Execute the coroutine and return the result.\u001b[39;00m\n\u001b[0;32m    162\u001b[0m \n\u001b[0;32m    163\u001b[0m \u001b[38;5;124;03mThis function runs the passed coroutine, taking care of\u001b[39;00m\n\u001b[1;32m   (...)\u001b[0m\n\u001b[0;32m    182\u001b[0m \u001b[38;5;124;03m    asyncio.run(main())\u001b[39;00m\n\u001b[0;32m    183\u001b[0m \u001b[38;5;124;03m\"\"\"\u001b[39;00m\n\u001b[0;32m    184\u001b[0m \u001b[38;5;28;01mif\u001b[39;00m events\u001b[38;5;241m.\u001b[39m_get_running_loop() \u001b[38;5;129;01mis\u001b[39;00m \u001b[38;5;129;01mnot\u001b[39;00m \u001b[38;5;28;01mNone\u001b[39;00m:\n\u001b[0;32m    185\u001b[0m     \u001b[38;5;66;03m# fail fast with short traceback\u001b[39;00m\n\u001b[1;32m--> 186\u001b[0m     \u001b[38;5;28;01mraise\u001b[39;00m \u001b[38;5;167;01mRuntimeError\u001b[39;00m(\n\u001b[0;32m    187\u001b[0m         \u001b[38;5;124m\"\u001b[39m\u001b[38;5;124masyncio.run() cannot be called from a running event loop\u001b[39m\u001b[38;5;124m\"\u001b[39m)\n\u001b[0;32m    189\u001b[0m \u001b[38;5;28;01mwith\u001b[39;00m Runner(debug\u001b[38;5;241m=\u001b[39mdebug) \u001b[38;5;28;01mas\u001b[39;00m runner:\n\u001b[0;32m    190\u001b[0m     \u001b[38;5;28;01mreturn\u001b[39;00m runner\u001b[38;5;241m.\u001b[39mrun(main)\n",
      "\u001b[1;31mRuntimeError\u001b[0m: asyncio.run() cannot be called from a running event loop"
     ]
    }
   ],
   "source": [
    "import asyncio\n",
    "from aiohttp import ClientSession\n",
    "from metno import MetWeatherData  # Replace 'your_module' with the actual module name\n",
    "\n",
    "async def main():\n",
    "    # Define your location's coordinates\n",
    "    urlparams = {'lat': '61.98', 'lon': '10.75'}  # Example coordinates\n",
    "\n",
    "    # Create an asynchronous web session and fetch weather data\n",
    "    async with ClientSession() as session:\n",
    "        met_weather_data = MetWeatherData(urlparams, websession=session)\n",
    "        await met_weather_data.fetching_data()\n",
    "\n",
    "        # Get current weather or forecast\n",
    "        current_weather = met_weather_data.get_current_weather()\n",
    "        print(current_weather)\n",
    "        # Add more processing as needed...\n",
    "\n",
    "# Run the main coroutine\n",
    "asyncio.run(main())"
   ]
  },
  {
   "cell_type": "code",
   "execution_count": 14,
   "metadata": {},
   "outputs": [],
   "source": [
    "from metno_locationforecast import Place, Forecast\n",
    "user_agent = \"Stedspesifikk v/0.1 jan.helge.aalbu@vegvesen.no\""
   ]
  },
  {
   "cell_type": "code",
   "execution_count": 15,
   "metadata": {},
   "outputs": [],
   "source": [
    "kvitenova = Place(\"New York\", 61.98, 7.33, 10)"
   ]
  },
  {
   "cell_type": "code",
   "execution_count": 16,
   "metadata": {},
   "outputs": [],
   "source": [
    "kvitenova_forecast = Forecast(kvitenova, user_agent)"
   ]
  },
  {
   "cell_type": "code",
   "execution_count": 17,
   "metadata": {},
   "outputs": [
    {
     "data": {
      "text/plain": [
       "'Data-Modified'"
      ]
     },
     "execution_count": 17,
     "metadata": {},
     "output_type": "execute_result"
    }
   ],
   "source": [
    "kvitenova_forecast.update()"
   ]
  },
  {
   "cell_type": "code",
   "execution_count": 46,
   "metadata": {},
   "outputs": [],
   "source": [
    "from pprint import pprint\n",
    "import matplotlib.pyplot as plt"
   ]
  },
  {
   "cell_type": "code",
   "execution_count": 22,
   "metadata": {},
   "outputs": [
    {
     "name": "stdout",
     "output_type": "stream",
     "text": [
      "Forecast for New York:\n",
      "\tForecast between 2023-12-11 09:00:00 and 2023-12-11 10:00:00:\n",
      "\t\tair_pressure_at_sea_level: 1004.9hPa\n",
      "\t\tair_temperature: -1.8celsius\n",
      "\t\tcloud_area_fraction: 0.0%\n",
      "\t\trelative_humidity: 71.5%\n",
      "\t\twind_from_direction: 118.6degrees\n",
      "\t\twind_speed: 6.3m/s\n",
      "\t\tprecipitation_amount: 0.0mm\n",
      "\tForecast between 2023-12-11 10:00:00 and 2023-12-11 11:00:00:\n",
      "\t\tair_pressure_at_sea_level: 1005.0hPa\n",
      "\t\tair_temperature: -1.7celsius\n",
      "\t\tcloud_area_fraction: 0.0%\n",
      "\t\trelative_humidity: 71.3%\n",
      "\t\twind_from_direction: 115.9degrees\n",
      "\t\twind_speed: 6.2m/s\n",
      "\t\tprecipitation_amount: 0.0mm\n",
      "\tForecast between 2023-12-11 11:00:00 and 2023-12-11 12:00:00:\n",
      "\t\tair_pressure_at_sea_level: 1005.0hPa\n",
      "\t\tair_temperature: -1.7celsius\n",
      "\t\tcloud_area_fraction: 0.0%\n",
      "\t\trelative_humidity: 71.2%\n",
      "\t\twind_from_direction: 106.3degrees\n",
      "\t\twind_speed: 6.0m/s\n",
      "\t\tprecipitation_amount: 0.0mm\n",
      "\tForecast between 2023-12-11 12:00:00 and 2023-12-11 13:00:00:\n",
      "\t\tair_pressure_at_sea_level: 1005.1hPa\n",
      "\t\tair_temperature: -1.4celsius\n",
      "\t\tcloud_area_fraction: 0.0%\n",
      "\t\trelative_humidity: 70.0%\n",
      "\t\twind_from_direction: 109.6degrees\n",
      "\t\twind_speed: 5.9m/s\n",
      "\t\tprecipitation_amount: 0.0mm\n",
      "\tForecast between 2023-12-11 13:00:00 and 2023-12-11 14:00:00:\n",
      "\t\tair_pressure_at_sea_level: 1005.4hPa\n",
      "\t\tair_temperature: -1.3celsius\n",
      "\t\tcloud_area_fraction: 0.2%\n",
      "\t\trelative_humidity: 69.3%\n",
      "\t\twind_from_direction: 114.2degrees\n",
      "\t\twind_speed: 5.6m/s\n",
      "\t\tprecipitation_amount: 0.0mm\n",
      "\tForecast between 2023-12-11 14:00:00 and 2023-12-11 15:00:00:\n",
      "\t\tair_pressure_at_sea_level: 1005.7hPa\n",
      "\t\tair_temperature: -1.2celsius\n",
      "\t\tcloud_area_fraction: 0.5%\n",
      "\t\trelative_humidity: 68.0%\n",
      "\t\twind_from_direction: 118.3degrees\n",
      "\t\twind_speed: 5.3m/s\n",
      "\t\tprecipitation_amount: 0.0mm\n",
      "\tForecast between 2023-12-11 15:00:00 and 2023-12-11 16:00:00:\n",
      "\t\tair_pressure_at_sea_level: 1006.1hPa\n",
      "\t\tair_temperature: -1.8celsius\n",
      "\t\tcloud_area_fraction: 2.3%\n",
      "\t\trelative_humidity: 68.7%\n",
      "\t\twind_from_direction: 121.9degrees\n",
      "\t\twind_speed: 4.6m/s\n",
      "\t\tprecipitation_amount: 0.0mm\n",
      "\tForecast between 2023-12-11 16:00:00 and 2023-12-11 17:00:00:\n",
      "\t\tair_pressure_at_sea_level: 1006.5hPa\n",
      "\t\tair_temperature: -2.7celsius\n",
      "\t\tcloud_area_fraction: 1.3%\n",
      "\t\trelative_humidity: 69.8%\n",
      "\t\twind_from_direction: 116.3degrees\n",
      "\t\twind_speed: 4.5m/s\n",
      "\t\tprecipitation_amount: 0.0mm\n",
      "\tForecast between 2023-12-11 17:00:00 and 2023-12-11 18:00:00:\n",
      "\t\tair_pressure_at_sea_level: 1006.9hPa\n",
      "\t\tair_temperature: -3.9celsius\n",
      "\t\tcloud_area_fraction: 0.0%\n",
      "\t\trelative_humidity: 71.0%\n",
      "\t\twind_from_direction: 120.3degrees\n",
      "\t\twind_speed: 4.3m/s\n",
      "\t\tprecipitation_amount: 0.0mm\n",
      "\tForecast between 2023-12-11 18:00:00 and 2023-12-11 19:00:00:\n",
      "\t\tair_pressure_at_sea_level: 1007.3hPa\n",
      "\t\tair_temperature: -5.4celsius\n",
      "\t\tcloud_area_fraction: 0.0%\n",
      "\t\trelative_humidity: 71.9%\n",
      "\t\twind_from_direction: 130.6degrees\n",
      "\t\twind_speed: 3.8m/s\n",
      "\t\tprecipitation_amount: 0.0mm\n",
      "\tForecast between 2023-12-11 19:00:00 and 2023-12-11 20:00:00:\n",
      "\t\tair_pressure_at_sea_level: 1007.6hPa\n",
      "\t\tair_temperature: -6.8celsius\n",
      "\t\tcloud_area_fraction: 0.0%\n",
      "\t\trelative_humidity: 73.3%\n",
      "\t\twind_from_direction: 141.1degrees\n",
      "\t\twind_speed: 3.0m/s\n",
      "\t\tprecipitation_amount: 0.0mm\n",
      "\tForecast between 2023-12-11 20:00:00 and 2023-12-11 21:00:00:\n",
      "\t\tair_pressure_at_sea_level: 1008.2hPa\n",
      "\t\tair_temperature: -8.2celsius\n",
      "\t\tcloud_area_fraction: 0.0%\n",
      "\t\trelative_humidity: 75.6%\n",
      "\t\twind_from_direction: 124.6degrees\n",
      "\t\twind_speed: 2.7m/s\n",
      "\t\tprecipitation_amount: 0.0mm\n",
      "\tForecast between 2023-12-11 21:00:00 and 2023-12-11 22:00:00:\n",
      "\t\tair_pressure_at_sea_level: 1008.6hPa\n",
      "\t\tair_temperature: -8.9celsius\n",
      "\t\tcloud_area_fraction: 0.0%\n",
      "\t\trelative_humidity: 76.3%\n",
      "\t\twind_from_direction: 129.0degrees\n",
      "\t\twind_speed: 2.5m/s\n",
      "\t\tprecipitation_amount: 0.0mm\n",
      "\tForecast between 2023-12-11 22:00:00 and 2023-12-11 23:00:00:\n",
      "\t\tair_pressure_at_sea_level: 1008.9hPa\n",
      "\t\tair_temperature: -9.4celsius\n",
      "\t\tcloud_area_fraction: 0.0%\n",
      "\t\trelative_humidity: 77.5%\n",
      "\t\twind_from_direction: 106.3degrees\n",
      "\t\twind_speed: 1.8m/s\n",
      "\t\tprecipitation_amount: 0.0mm\n",
      "\tForecast between 2023-12-11 23:00:00 and 2023-12-12 00:00:00:\n",
      "\t\tair_pressure_at_sea_level: 1009.3hPa\n",
      "\t\tair_temperature: -10.3celsius\n",
      "\t\tcloud_area_fraction: 0.0%\n",
      "\t\trelative_humidity: 79.4%\n",
      "\t\twind_from_direction: 71.8degrees\n",
      "\t\twind_speed: 2.3m/s\n",
      "\t\tprecipitation_amount: 0.0mm\n",
      "\tForecast between 2023-12-12 00:00:00 and 2023-12-12 01:00:00:\n",
      "\t\tair_pressure_at_sea_level: 1009.4hPa\n",
      "\t\tair_temperature: -10.5celsius\n",
      "\t\tcloud_area_fraction: 0.0%\n",
      "\t\trelative_humidity: 80.0%\n",
      "\t\twind_from_direction: 73.0degrees\n",
      "\t\twind_speed: 2.6m/s\n",
      "\t\tprecipitation_amount: 0.0mm\n",
      "\tForecast between 2023-12-12 01:00:00 and 2023-12-12 02:00:00:\n",
      "\t\tair_pressure_at_sea_level: 1009.4hPa\n",
      "\t\tair_temperature: -10.8celsius\n",
      "\t\tcloud_area_fraction: 0.0%\n",
      "\t\trelative_humidity: 80.6%\n",
      "\t\twind_from_direction: 69.1degrees\n",
      "\t\twind_speed: 2.3m/s\n",
      "\t\tprecipitation_amount: 0.0mm\n",
      "\tForecast between 2023-12-12 02:00:00 and 2023-12-12 03:00:00:\n",
      "\t\tair_pressure_at_sea_level: 1009.5hPa\n",
      "\t\tair_temperature: -11.2celsius\n",
      "\t\tcloud_area_fraction: 0.0%\n",
      "\t\trelative_humidity: 81.4%\n",
      "\t\twind_from_direction: 59.7degrees\n",
      "\t\twind_speed: 1.8m/s\n",
      "\t\tprecipitation_amount: 0.0mm\n",
      "\tForecast between 2023-12-12 03:00:00 and 2023-12-12 04:00:00:\n",
      "\t\tair_pressure_at_sea_level: 1009.6hPa\n",
      "\t\tair_temperature: -11.5celsius\n",
      "\t\tcloud_area_fraction: 0.0%\n",
      "\t\trelative_humidity: 81.9%\n",
      "\t\twind_from_direction: 53.2degrees\n",
      "\t\twind_speed: 1.4m/s\n",
      "\t\tprecipitation_amount: 0.0mm\n",
      "\tForecast between 2023-12-12 04:00:00 and 2023-12-12 05:00:00:\n",
      "\t\tair_pressure_at_sea_level: 1009.6hPa\n",
      "\t\tair_temperature: -11.8celsius\n",
      "\t\tcloud_area_fraction: 0.0%\n",
      "\t\trelative_humidity: 82.4%\n",
      "\t\twind_from_direction: 56.2degrees\n",
      "\t\twind_speed: 1.2m/s\n",
      "\t\tprecipitation_amount: 0.0mm\n",
      "\tForecast between 2023-12-12 05:00:00 and 2023-12-12 06:00:00:\n",
      "\t\tair_pressure_at_sea_level: 1009.8hPa\n",
      "\t\tair_temperature: -12.1celsius\n",
      "\t\tcloud_area_fraction: 0.0%\n",
      "\t\trelative_humidity: 82.9%\n",
      "\t\twind_from_direction: 59.0degrees\n",
      "\t\twind_speed: 1.1m/s\n",
      "\t\tprecipitation_amount: 0.0mm\n",
      "\tForecast between 2023-12-12 06:00:00 and 2023-12-12 07:00:00:\n",
      "\t\tair_pressure_at_sea_level: 1009.9hPa\n",
      "\t\tair_temperature: -12.2celsius\n",
      "\t\tcloud_area_fraction: 0.0%\n",
      "\t\trelative_humidity: 83.5%\n",
      "\t\twind_from_direction: 72.1degrees\n",
      "\t\twind_speed: 1.2m/s\n",
      "\t\tprecipitation_amount: 0.0mm\n",
      "\tForecast between 2023-12-12 07:00:00 and 2023-12-12 08:00:00:\n",
      "\t\tair_pressure_at_sea_level: 1010.2hPa\n",
      "\t\tair_temperature: -12.4celsius\n",
      "\t\tcloud_area_fraction: 0.0%\n",
      "\t\trelative_humidity: 83.7%\n",
      "\t\twind_from_direction: 68.7degrees\n",
      "\t\twind_speed: 1.2m/s\n",
      "\t\tprecipitation_amount: 0.0mm\n",
      "\tForecast between 2023-12-12 08:00:00 and 2023-12-12 09:00:00:\n",
      "\t\tair_pressure_at_sea_level: 1010.3hPa\n",
      "\t\tair_temperature: -12.5celsius\n",
      "\t\tcloud_area_fraction: 0.0%\n",
      "\t\trelative_humidity: 83.3%\n",
      "\t\twind_from_direction: 77.7degrees\n",
      "\t\twind_speed: 1.6m/s\n",
      "\t\tprecipitation_amount: 0.0mm\n",
      "\tForecast between 2023-12-12 09:00:00 and 2023-12-12 10:00:00:\n",
      "\t\tair_pressure_at_sea_level: 1010.5hPa\n",
      "\t\tair_temperature: -12.6celsius\n",
      "\t\tcloud_area_fraction: 0.0%\n",
      "\t\trelative_humidity: 83.0%\n",
      "\t\twind_from_direction: 78.7degrees\n",
      "\t\twind_speed: 1.5m/s\n",
      "\t\tprecipitation_amount: 0.0mm\n",
      "\tForecast between 2023-12-12 10:00:00 and 2023-12-12 11:00:00:\n",
      "\t\tair_pressure_at_sea_level: 1010.6hPa\n",
      "\t\tair_temperature: -12.5celsius\n",
      "\t\tcloud_area_fraction: 0.0%\n",
      "\t\trelative_humidity: 82.2%\n",
      "\t\twind_from_direction: 76.1degrees\n",
      "\t\twind_speed: 1.1m/s\n",
      "\t\tprecipitation_amount: 0.0mm\n",
      "\tForecast between 2023-12-12 11:00:00 and 2023-12-12 12:00:00:\n",
      "\t\tair_pressure_at_sea_level: 1010.4hPa\n",
      "\t\tair_temperature: -12.1celsius\n",
      "\t\tcloud_area_fraction: 0.2%\n",
      "\t\trelative_humidity: 80.3%\n",
      "\t\twind_from_direction: 66.0degrees\n",
      "\t\twind_speed: 1.2m/s\n",
      "\t\tprecipitation_amount: 0.0mm\n",
      "\tForecast between 2023-12-12 12:00:00 and 2023-12-12 13:00:00:\n",
      "\t\tair_pressure_at_sea_level: 1010.2hPa\n",
      "\t\tair_temperature: -11.8celsius\n",
      "\t\tcloud_area_fraction: 4.6%\n",
      "\t\trelative_humidity: 79.2%\n",
      "\t\twind_from_direction: 54.9degrees\n",
      "\t\twind_speed: 1.2m/s\n",
      "\t\tprecipitation_amount: 0.0mm\n",
      "\tForecast between 2023-12-12 13:00:00 and 2023-12-12 14:00:00:\n",
      "\t\tair_pressure_at_sea_level: 1010.2hPa\n",
      "\t\tair_temperature: -11.9celsius\n",
      "\t\tcloud_area_fraction: 6.6%\n",
      "\t\trelative_humidity: 79.1%\n",
      "\t\twind_from_direction: 63.9degrees\n",
      "\t\twind_speed: 1.1m/s\n",
      "\t\tprecipitation_amount: 0.0mm\n",
      "\tForecast between 2023-12-12 14:00:00 and 2023-12-12 15:00:00:\n",
      "\t\tair_pressure_at_sea_level: 1010.0hPa\n",
      "\t\tair_temperature: -12.4celsius\n",
      "\t\tcloud_area_fraction: 12.5%\n",
      "\t\trelative_humidity: 80.4%\n",
      "\t\twind_from_direction: 70.5degrees\n",
      "\t\twind_speed: 1.5m/s\n",
      "\t\tprecipitation_amount: 0.0mm\n",
      "\tForecast between 2023-12-12 15:00:00 and 2023-12-12 16:00:00:\n",
      "\t\tair_pressure_at_sea_level: 1009.6hPa\n",
      "\t\tair_temperature: -12.8celsius\n",
      "\t\tcloud_area_fraction: 16.8%\n",
      "\t\trelative_humidity: 82.7%\n",
      "\t\twind_from_direction: 76.2degrees\n",
      "\t\twind_speed: 1.8m/s\n",
      "\t\tprecipitation_amount: 0.0mm\n",
      "\tForecast between 2023-12-12 16:00:00 and 2023-12-12 17:00:00:\n",
      "\t\tair_pressure_at_sea_level: 1009.5hPa\n",
      "\t\tair_temperature: -13.0celsius\n",
      "\t\tcloud_area_fraction: 32.0%\n",
      "\t\trelative_humidity: 85.0%\n",
      "\t\twind_from_direction: 74.1degrees\n",
      "\t\twind_speed: 2.0m/s\n",
      "\t\tprecipitation_amount: 0.0mm\n",
      "\tForecast between 2023-12-12 17:00:00 and 2023-12-12 18:00:00:\n",
      "\t\tair_pressure_at_sea_level: 1009.5hPa\n",
      "\t\tair_temperature: -13.0celsius\n",
      "\t\tcloud_area_fraction: 81.4%\n",
      "\t\trelative_humidity: 87.0%\n",
      "\t\twind_from_direction: 83.6degrees\n",
      "\t\twind_speed: 1.9m/s\n",
      "\t\tprecipitation_amount: 0.0mm\n",
      "\tForecast between 2023-12-12 18:00:00 and 2023-12-12 19:00:00:\n",
      "\t\tair_pressure_at_sea_level: 1009.6hPa\n",
      "\t\tair_temperature: -12.8celsius\n",
      "\t\tcloud_area_fraction: 53.1%\n",
      "\t\trelative_humidity: 88.1%\n",
      "\t\twind_from_direction: 102.3degrees\n",
      "\t\twind_speed: 1.7m/s\n",
      "\t\tprecipitation_amount: 0.0mm\n",
      "\tForecast between 2023-12-12 19:00:00 and 2023-12-12 20:00:00:\n",
      "\t\tair_pressure_at_sea_level: 1009.6hPa\n",
      "\t\tair_temperature: -12.6celsius\n",
      "\t\tcloud_area_fraction: 14.6%\n",
      "\t\trelative_humidity: 87.5%\n",
      "\t\twind_from_direction: 107.0degrees\n",
      "\t\twind_speed: 2.6m/s\n",
      "\t\tprecipitation_amount: 0.0mm\n",
      "\tForecast between 2023-12-12 20:00:00 and 2023-12-12 21:00:00:\n",
      "\t\tair_pressure_at_sea_level: 1009.6hPa\n",
      "\t\tair_temperature: -12.1celsius\n",
      "\t\tcloud_area_fraction: 16.6%\n",
      "\t\trelative_humidity: 85.6%\n",
      "\t\twind_from_direction: 113.0degrees\n",
      "\t\twind_speed: 3.5m/s\n",
      "\t\tprecipitation_amount: 0.0mm\n",
      "\tForecast between 2023-12-12 21:00:00 and 2023-12-12 22:00:00:\n",
      "\t\tair_pressure_at_sea_level: 1009.8hPa\n",
      "\t\tair_temperature: -11.5celsius\n",
      "\t\tcloud_area_fraction: 42.0%\n",
      "\t\trelative_humidity: 84.6%\n",
      "\t\twind_from_direction: 124.9degrees\n",
      "\t\twind_speed: 3.3m/s\n",
      "\t\tprecipitation_amount: 0.0mm\n",
      "\tForecast between 2023-12-12 22:00:00 and 2023-12-12 23:00:00:\n",
      "\t\tair_pressure_at_sea_level: 1009.6hPa\n",
      "\t\tair_temperature: -11.2celsius\n",
      "\t\tcloud_area_fraction: 58.3%\n",
      "\t\trelative_humidity: 84.0%\n",
      "\t\twind_from_direction: 104.4degrees\n",
      "\t\twind_speed: 2.5m/s\n",
      "\t\tprecipitation_amount: 0.0mm\n",
      "\tForecast between 2023-12-12 23:00:00 and 2023-12-13 00:00:00:\n",
      "\t\tair_pressure_at_sea_level: 1009.4hPa\n",
      "\t\tair_temperature: -11.5celsius\n",
      "\t\tcloud_area_fraction: 60.3%\n",
      "\t\trelative_humidity: 84.2%\n",
      "\t\twind_from_direction: 100.6degrees\n",
      "\t\twind_speed: 2.2m/s\n",
      "\t\tprecipitation_amount: 0.0mm\n",
      "\tForecast between 2023-12-13 00:00:00 and 2023-12-13 01:00:00:\n",
      "\t\tair_pressure_at_sea_level: 1009.3hPa\n",
      "\t\tair_temperature: -12.0celsius\n",
      "\t\tcloud_area_fraction: 60.6%\n",
      "\t\trelative_humidity: 86.6%\n",
      "\t\twind_from_direction: 69.0degrees\n",
      "\t\twind_speed: 2.0m/s\n",
      "\t\tprecipitation_amount: 0.0mm\n",
      "\tForecast between 2023-12-13 01:00:00 and 2023-12-13 02:00:00:\n",
      "\t\tair_pressure_at_sea_level: 1009.5hPa\n",
      "\t\tair_temperature: -11.8celsius\n",
      "\t\tcloud_area_fraction: 53.8%\n",
      "\t\trelative_humidity: 88.2%\n",
      "\t\twind_from_direction: 69.9degrees\n",
      "\t\twind_speed: 2.1m/s\n",
      "\t\tprecipitation_amount: 0.0mm\n",
      "\tForecast between 2023-12-13 02:00:00 and 2023-12-13 03:00:00:\n",
      "\t\tair_pressure_at_sea_level: 1009.8hPa\n",
      "\t\tair_temperature: -11.1celsius\n",
      "\t\tcloud_area_fraction: 56.4%\n",
      "\t\trelative_humidity: 87.1%\n",
      "\t\twind_from_direction: 62.0degrees\n",
      "\t\twind_speed: 1.4m/s\n",
      "\t\tprecipitation_amount: 0.0mm\n",
      "\tForecast between 2023-12-13 03:00:00 and 2023-12-13 04:00:00:\n",
      "\t\tair_pressure_at_sea_level: 1009.8hPa\n",
      "\t\tair_temperature: -10.6celsius\n",
      "\t\tcloud_area_fraction: 55.5%\n",
      "\t\trelative_humidity: 87.4%\n",
      "\t\twind_from_direction: 64.0degrees\n",
      "\t\twind_speed: 1.2m/s\n",
      "\t\tprecipitation_amount: 0.0mm\n",
      "\tForecast between 2023-12-13 04:00:00 and 2023-12-13 05:00:00:\n",
      "\t\tair_pressure_at_sea_level: 1009.8hPa\n",
      "\t\tair_temperature: -10.5celsius\n",
      "\t\tcloud_area_fraction: 43.0%\n",
      "\t\trelative_humidity: 89.5%\n",
      "\t\twind_from_direction: 109.4degrees\n",
      "\t\twind_speed: 1.1m/s\n",
      "\t\tprecipitation_amount: 0.0mm\n",
      "\tForecast between 2023-12-13 05:00:00 and 2023-12-13 06:00:00:\n",
      "\t\tair_pressure_at_sea_level: 1009.8hPa\n",
      "\t\tair_temperature: -10.6celsius\n",
      "\t\tcloud_area_fraction: 40.3%\n",
      "\t\trelative_humidity: 91.8%\n",
      "\t\twind_from_direction: 149.9degrees\n",
      "\t\twind_speed: 1.5m/s\n",
      "\t\tprecipitation_amount: 0.0mm\n",
      "\tForecast between 2023-12-13 06:00:00 and 2023-12-13 07:00:00:\n",
      "\t\tair_pressure_at_sea_level: 1009.9hPa\n",
      "\t\tair_temperature: -10.4celsius\n",
      "\t\tcloud_area_fraction: 47.0%\n",
      "\t\trelative_humidity: 92.5%\n",
      "\t\twind_from_direction: 162.8degrees\n",
      "\t\twind_speed: 1.9m/s\n",
      "\t\tprecipitation_amount: 0.0mm\n",
      "\tForecast between 2023-12-13 07:00:00 and 2023-12-13 08:00:00:\n",
      "\t\tair_pressure_at_sea_level: 1010.1hPa\n",
      "\t\tair_temperature: -9.7celsius\n",
      "\t\tcloud_area_fraction: 58.0%\n",
      "\t\trelative_humidity: 90.4%\n",
      "\t\twind_from_direction: 165.5degrees\n",
      "\t\twind_speed: 1.8m/s\n",
      "\t\tprecipitation_amount: 0.0mm\n",
      "\tForecast between 2023-12-13 08:00:00 and 2023-12-13 09:00:00:\n",
      "\t\tair_pressure_at_sea_level: 1010.5hPa\n",
      "\t\tair_temperature: -8.5celsius\n",
      "\t\tcloud_area_fraction: 72.7%\n",
      "\t\trelative_humidity: 89.4%\n",
      "\t\twind_from_direction: 189.1degrees\n",
      "\t\twind_speed: 1.9m/s\n",
      "\t\tprecipitation_amount: 0.0mm\n",
      "\tForecast between 2023-12-13 09:00:00 and 2023-12-13 10:00:00:\n",
      "\t\tair_pressure_at_sea_level: 1010.9hPa\n",
      "\t\tair_temperature: -8.3celsius\n",
      "\t\tcloud_area_fraction: 68.0%\n",
      "\t\trelative_humidity: 90.5%\n",
      "\t\twind_from_direction: 195.0degrees\n",
      "\t\twind_speed: 2.7m/s\n",
      "\t\tprecipitation_amount: 0.0mm\n",
      "\tForecast between 2023-12-13 10:00:00 and 2023-12-13 11:00:00:\n",
      "\t\tair_pressure_at_sea_level: 1011.1hPa\n",
      "\t\tair_temperature: -8.4celsius\n",
      "\t\tcloud_area_fraction: 50.4%\n",
      "\t\trelative_humidity: 89.8%\n",
      "\t\twind_from_direction: 200.3degrees\n",
      "\t\twind_speed: 2.8m/s\n",
      "\t\tprecipitation_amount: 0.0mm\n",
      "\tForecast between 2023-12-13 11:00:00 and 2023-12-13 12:00:00:\n",
      "\t\tair_pressure_at_sea_level: 1011.4hPa\n",
      "\t\tair_temperature: -8.6celsius\n",
      "\t\tcloud_area_fraction: 28.7%\n",
      "\t\trelative_humidity: 88.8%\n",
      "\t\twind_from_direction: 202.0degrees\n",
      "\t\twind_speed: 2.6m/s\n",
      "\t\tprecipitation_amount: 0.0mm\n",
      "\tForecast between 2023-12-13 12:00:00 and 2023-12-13 18:00:00:\n",
      "\t\tair_pressure_at_sea_level: 1011.7hPa\n",
      "\t\tair_temperature: -9.2celsius\n",
      "\t\tcloud_area_fraction: 14.4%\n",
      "\t\trelative_humidity: 90.6%\n",
      "\t\twind_from_direction: 205.0degrees\n",
      "\t\twind_speed: 2.3m/s\n",
      "\t\tprecipitation_amount: 0.0mm\n",
      "\tForecast between 2023-12-13 18:00:00 and 2023-12-14 00:00:00:\n",
      "\t\tair_pressure_at_sea_level: 1013.3hPa\n",
      "\t\tair_temperature: -2.0celsius\n",
      "\t\tcloud_area_fraction: 93.7%\n",
      "\t\trelative_humidity: 88.3%\n",
      "\t\twind_from_direction: 116.0degrees\n",
      "\t\twind_speed: 3.2m/s\n",
      "\t\tprecipitation_amount: 0.0mm\n",
      "\tForecast between 2023-12-14 00:00:00 and 2023-12-14 06:00:00:\n",
      "\t\tair_pressure_at_sea_level: 1013.2hPa\n",
      "\t\tair_temperature: -3.0celsius\n",
      "\t\tcloud_area_fraction: 80.1%\n",
      "\t\trelative_humidity: 83.2%\n",
      "\t\twind_from_direction: 118.6degrees\n",
      "\t\twind_speed: 4.8m/s\n",
      "\t\tprecipitation_amount: 0.0mm\n",
      "\tForecast between 2023-12-14 06:00:00 and 2023-12-14 12:00:00:\n",
      "\t\tair_pressure_at_sea_level: 1011.8hPa\n",
      "\t\tair_temperature: -1.2celsius\n",
      "\t\tcloud_area_fraction: 100.0%\n",
      "\t\trelative_humidity: 85.6%\n",
      "\t\twind_from_direction: 119.9degrees\n",
      "\t\twind_speed: 7.7m/s\n",
      "\t\tprecipitation_amount: 0.0mm\n",
      "\tForecast between 2023-12-14 12:00:00 and 2023-12-14 18:00:00:\n",
      "\t\tair_pressure_at_sea_level: 1012.0hPa\n",
      "\t\tair_temperature: 0.2celsius\n",
      "\t\tcloud_area_fraction: 100.0%\n",
      "\t\trelative_humidity: 85.7%\n",
      "\t\twind_from_direction: 148.5degrees\n",
      "\t\twind_speed: 8.9m/s\n",
      "\t\tprecipitation_amount: 0.0mm\n",
      "\tForecast between 2023-12-14 18:00:00 and 2023-12-15 00:00:00:\n",
      "\t\tair_pressure_at_sea_level: 1013.1hPa\n",
      "\t\tair_temperature: 1.2celsius\n",
      "\t\tcloud_area_fraction: 100.0%\n",
      "\t\trelative_humidity: 87.1%\n",
      "\t\twind_from_direction: 150.8degrees\n",
      "\t\twind_speed: 8.2m/s\n",
      "\t\tprecipitation_amount: 1.9mm\n",
      "\tForecast between 2023-12-15 00:00:00 and 2023-12-15 06:00:00:\n",
      "\t\tair_pressure_at_sea_level: 1014.3hPa\n",
      "\t\tair_temperature: 1.9celsius\n",
      "\t\tcloud_area_fraction: 100.0%\n",
      "\t\trelative_humidity: 89.6%\n",
      "\t\twind_from_direction: 149.4degrees\n",
      "\t\twind_speed: 7.3m/s\n",
      "\t\tprecipitation_amount: 2.3mm\n",
      "\tForecast between 2023-12-15 06:00:00 and 2023-12-15 12:00:00:\n",
      "\t\tair_pressure_at_sea_level: 1016.4hPa\n",
      "\t\tair_temperature: 3.1celsius\n",
      "\t\tcloud_area_fraction: 100.0%\n",
      "\t\trelative_humidity: 91.1%\n",
      "\t\twind_from_direction: 153.8degrees\n",
      "\t\twind_speed: 7.7m/s\n",
      "\t\tprecipitation_amount: 0.0mm\n",
      "\tForecast between 2023-12-15 12:00:00 and 2023-12-15 18:00:00:\n",
      "\t\tair_pressure_at_sea_level: 1017.7hPa\n",
      "\t\tair_temperature: 3.4celsius\n",
      "\t\tcloud_area_fraction: 100.0%\n",
      "\t\trelative_humidity: 91.6%\n",
      "\t\twind_from_direction: 158.0degrees\n",
      "\t\twind_speed: 9.3m/s\n",
      "\t\tprecipitation_amount: 3.2mm\n",
      "\tForecast between 2023-12-15 18:00:00 and 2023-12-16 00:00:00:\n",
      "\t\tair_pressure_at_sea_level: 1016.3hPa\n",
      "\t\tair_temperature: 4.3celsius\n",
      "\t\tcloud_area_fraction: 100.0%\n",
      "\t\trelative_humidity: 93.6%\n",
      "\t\twind_from_direction: 164.5degrees\n",
      "\t\twind_speed: 11.0m/s\n",
      "\t\tprecipitation_amount: 4.8mm\n",
      "\tForecast between 2023-12-16 00:00:00 and 2023-12-16 06:00:00:\n",
      "\t\tair_pressure_at_sea_level: 1013.1hPa\n",
      "\t\tair_temperature: 5.6celsius\n",
      "\t\tcloud_area_fraction: 100.0%\n",
      "\t\trelative_humidity: 94.8%\n",
      "\t\twind_from_direction: 168.0degrees\n",
      "\t\twind_speed: 12.4m/s\n",
      "\t\tprecipitation_amount: 0.0mm\n",
      "\tForecast between 2023-12-16 06:00:00 and 2023-12-16 12:00:00:\n",
      "\t\tair_pressure_at_sea_level: 1009.5hPa\n",
      "\t\tair_temperature: 7.3celsius\n",
      "\t\tcloud_area_fraction: 100.0%\n",
      "\t\trelative_humidity: 95.6%\n",
      "\t\twind_from_direction: 198.8degrees\n",
      "\t\twind_speed: 12.9m/s\n",
      "\t\tprecipitation_amount: 13.4mm\n",
      "\tForecast between 2023-12-16 12:00:00 and 2023-12-16 18:00:00:\n",
      "\t\tair_pressure_at_sea_level: 1005.7hPa\n",
      "\t\tair_temperature: 7.6celsius\n",
      "\t\tcloud_area_fraction: 100.0%\n",
      "\t\trelative_humidity: 96.1%\n",
      "\t\twind_from_direction: 253.1degrees\n",
      "\t\twind_speed: 14.7m/s\n",
      "\t\tprecipitation_amount: 6.7mm\n",
      "\tForecast between 2023-12-16 18:00:00 and 2023-12-17 00:00:00:\n",
      "\t\tair_pressure_at_sea_level: 1007.6hPa\n",
      "\t\tair_temperature: 5.4celsius\n",
      "\t\tcloud_area_fraction: 100.0%\n",
      "\t\trelative_humidity: 96.1%\n",
      "\t\twind_from_direction: 245.2degrees\n",
      "\t\twind_speed: 13.4m/s\n",
      "\t\tprecipitation_amount: 5.7mm\n",
      "\tForecast between 2023-12-17 00:00:00 and 2023-12-17 06:00:00:\n",
      "\t\tair_pressure_at_sea_level: 1008.0hPa\n",
      "\t\tair_temperature: 4.3celsius\n",
      "\t\tcloud_area_fraction: 100.0%\n",
      "\t\trelative_humidity: 96.6%\n",
      "\t\twind_from_direction: 246.7degrees\n",
      "\t\twind_speed: 12.3m/s\n",
      "\t\tprecipitation_amount: 5.7mm\n",
      "\tForecast between 2023-12-17 06:00:00 and 2023-12-17 12:00:00:\n",
      "\t\tair_pressure_at_sea_level: 1005.7hPa\n",
      "\t\tair_temperature: 4.7celsius\n",
      "\t\tcloud_area_fraction: 100.0%\n",
      "\t\trelative_humidity: 96.6%\n",
      "\t\twind_from_direction: 246.3degrees\n",
      "\t\twind_speed: 12.1m/s\n",
      "\t\tprecipitation_amount: 5.6mm\n",
      "\tForecast between 2023-12-17 12:00:00 and 2023-12-17 18:00:00:\n",
      "\t\tair_pressure_at_sea_level: 1009.6hPa\n",
      "\t\tair_temperature: 4.1celsius\n",
      "\t\tcloud_area_fraction: 100.0%\n",
      "\t\trelative_humidity: 95.7%\n",
      "\t\twind_from_direction: 252.8degrees\n",
      "\t\twind_speed: 12.6m/s\n",
      "\t\tprecipitation_amount: 3.7mm\n",
      "\tForecast between 2023-12-17 18:00:00 and 2023-12-18 00:00:00:\n",
      "\t\tair_pressure_at_sea_level: 1013.2hPa\n",
      "\t\tair_temperature: 4.2celsius\n",
      "\t\tcloud_area_fraction: 100.0%\n",
      "\t\trelative_humidity: 95.9%\n",
      "\t\twind_from_direction: 253.6degrees\n",
      "\t\twind_speed: 12.2m/s\n",
      "\t\tprecipitation_amount: 3.0mm\n",
      "\tForecast between 2023-12-18 00:00:00 and 2023-12-18 06:00:00:\n",
      "\t\tair_pressure_at_sea_level: 1014.1hPa\n",
      "\t\tair_temperature: 4.4celsius\n",
      "\t\tcloud_area_fraction: 100.0%\n",
      "\t\trelative_humidity: 96.2%\n",
      "\t\twind_from_direction: 251.6degrees\n",
      "\t\twind_speed: 12.1m/s\n",
      "\t\tprecipitation_amount: 0.0mm\n",
      "\tForecast between 2023-12-18 06:00:00 and 2023-12-18 12:00:00:\n",
      "\t\tair_pressure_at_sea_level: 1011.9hPa\n",
      "\t\tair_temperature: 4.7celsius\n",
      "\t\tcloud_area_fraction: 100.0%\n",
      "\t\trelative_humidity: 95.9%\n",
      "\t\twind_from_direction: 211.2degrees\n",
      "\t\twind_speed: 10.0m/s\n",
      "\t\tprecipitation_amount: 4.2mm\n",
      "\tForecast between 2023-12-18 12:00:00 and 2023-12-18 18:00:00:\n",
      "\t\tair_pressure_at_sea_level: 1006.3hPa\n",
      "\t\tair_temperature: 5.8celsius\n",
      "\t\tcloud_area_fraction: 100.0%\n",
      "\t\trelative_humidity: 94.9%\n",
      "\t\twind_from_direction: 202.7degrees\n",
      "\t\twind_speed: 11.2m/s\n",
      "\t\tprecipitation_amount: 3.1mm\n",
      "\tForecast between 2023-12-18 18:00:00 and 2023-12-19 00:00:00:\n",
      "\t\tair_pressure_at_sea_level: 1002.4hPa\n",
      "\t\tair_temperature: 6.1celsius\n",
      "\t\tcloud_area_fraction: 100.0%\n",
      "\t\trelative_humidity: 95.2%\n",
      "\t\twind_from_direction: 245.2degrees\n",
      "\t\twind_speed: 12.4m/s\n",
      "\t\tprecipitation_amount: 4.0mm\n",
      "\tForecast between 2023-12-19 00:00:00 and 2023-12-19 06:00:00:\n",
      "\t\tair_pressure_at_sea_level: 998.6hPa\n",
      "\t\tair_temperature: 5.4celsius\n",
      "\t\tcloud_area_fraction: 100.0%\n",
      "\t\trelative_humidity: 94.9%\n",
      "\t\twind_from_direction: 242.8degrees\n",
      "\t\twind_speed: 12.4m/s\n",
      "\t\tprecipitation_amount: 5.8mm\n",
      "\tForecast between 2023-12-19 06:00:00 and 2023-12-19 12:00:00:\n",
      "\t\tair_pressure_at_sea_level: 995.7hPa\n",
      "\t\tair_temperature: 4.1celsius\n",
      "\t\tcloud_area_fraction: 100.0%\n",
      "\t\trelative_humidity: 93.7%\n",
      "\t\twind_from_direction: 250.6degrees\n",
      "\t\twind_speed: 13.6m/s\n",
      "\t\tprecipitation_amount: 0.0mm\n",
      "\tForecast between 2023-12-19 12:00:00 and 2023-12-19 18:00:00:\n",
      "\t\tair_pressure_at_sea_level: 1000.1hPa\n",
      "\t\tair_temperature: 2.7celsius\n",
      "\t\tcloud_area_fraction: 100.0%\n",
      "\t\trelative_humidity: 94.0%\n",
      "\t\twind_from_direction: 244.6degrees\n",
      "\t\twind_speed: 13.6m/s\n",
      "\t\tprecipitation_amount: 3.8mm\n",
      "\tForecast between 2023-12-19 18:00:00 and 2023-12-20 00:00:00:\n",
      "\t\tair_pressure_at_sea_level: 1000.8hPa\n",
      "\t\tair_temperature: 2.1celsius\n",
      "\t\tcloud_area_fraction: 100.0%\n",
      "\t\trelative_humidity: 93.3%\n",
      "\t\twind_from_direction: 256.5degrees\n",
      "\t\twind_speed: 13.1m/s\n",
      "\t\tprecipitation_amount: 4.0mm\n",
      "\tForecast between 2023-12-20 00:00:00 and 2023-12-20 06:00:00:\n",
      "\t\tair_pressure_at_sea_level: 1004.1hPa\n",
      "\t\tair_temperature: 2.0celsius\n",
      "\t\tcloud_area_fraction: 100.0%\n",
      "\t\trelative_humidity: 93.9%\n",
      "\t\twind_from_direction: 259.3degrees\n",
      "\t\twind_speed: 11.8m/s\n",
      "\t\tprecipitation_amount: 3.6mm\n",
      "\tForecast between 2023-12-20 06:00:00 and 2023-12-20 12:00:00:\n",
      "\t\tair_pressure_at_sea_level: 1006.3hPa\n",
      "\t\tair_temperature: 2.2celsius\n",
      "\t\tcloud_area_fraction: 100.0%\n",
      "\t\trelative_humidity: 92.8%\n",
      "\t\twind_from_direction: 282.0degrees\n",
      "\t\twind_speed: 12.7m/s\n",
      "\t\tprecipitation_amount: 3.5mm\n",
      "\tForecast between 2023-12-20 12:00:00 and 2023-12-20 18:00:00:\n",
      "\t\tair_pressure_at_sea_level: 1010.2hPa\n",
      "\t\tair_temperature: 1.9celsius\n",
      "\t\tcloud_area_fraction: 100.0%\n",
      "\t\trelative_humidity: 93.9%\n",
      "\t\twind_from_direction: 257.6degrees\n",
      "\t\twind_speed: 12.5m/s\n",
      "\t\tprecipitation_amount: 0.0mm\n",
      "\tForecast between 2023-12-20 18:00:00 and 2023-12-21 00:00:00:\n",
      "\t\tair_pressure_at_sea_level: 1013.0hPa\n",
      "\t\tair_temperature: 1.6celsius\n",
      "\t\tcloud_area_fraction: 100.0%\n",
      "\t\trelative_humidity: 93.1%\n",
      "\t\twind_from_direction: 251.6degrees\n",
      "\t\twind_speed: 11.4m/s\n",
      "\t\tprecipitation_amount: 2.9mm\n",
      "\tForecast between 2023-12-21 00:00:00 and 2023-12-21 06:00:00:\n",
      "\t\tair_pressure_at_sea_level: 1008.2hPa\n",
      "\t\tair_temperature: 2.3celsius\n",
      "\t\tcloud_area_fraction: 100.0%\n",
      "\t\trelative_humidity: 93.9%\n",
      "\t\twind_from_direction: 211.4degrees\n",
      "\t\twind_speed: 8.8m/s\n",
      "\t\tprecipitation_amount: 2.6mm\n",
      "\tForecast between 2023-12-21 06:00:00 and 2023-12-21 06:00:00:\n",
      "\t\tair_pressure_at_sea_level: 1005.8hPa\n",
      "\t\tair_temperature: 2.9celsius\n",
      "\t\tcloud_area_fraction: 100.0%\n",
      "\t\trelative_humidity: 93.0%\n",
      "\t\twind_from_direction: 246.6degrees\n",
      "\t\twind_speed: 9.3m/s\n"
     ]
    }
   ],
   "source": [
    "print(kvitenova_forecast)"
   ]
  },
  {
   "cell_type": "code",
   "execution_count": 23,
   "metadata": {},
   "outputs": [
    {
     "data": {
      "text/plain": [
       "dict_keys(['last_modified', 'expires', 'updated_at', 'units', 'intervals'])"
      ]
     },
     "execution_count": 23,
     "metadata": {},
     "output_type": "execute_result"
    }
   ],
   "source": [
    "vars(kvitenova_forecast.data).keys()"
   ]
  },
  {
   "cell_type": "code",
   "execution_count": 35,
   "metadata": {},
   "outputs": [
    {
     "name": "stdout",
     "output_type": "stream",
     "text": [
      "('{\"status_code\":200,\"headers\":{\"Server\": \"nginx/1.18.0 (Ubuntu)\", \"Date\": '\n",
      " '\"Mon, 11 Dec 2023 09:53:10 GMT\", \"Content-Type\": \"application/json\", '\n",
      " '\"Content-Length\": \"2555\", \"Connection\": \"keep-alive\", \"Expires\": \"Mon, 11 '\n",
      " 'Dec 2023 10:24:44 GMT\", \"Last-Modified\": \"Mon, 11 Dec 2023 09:53:10 GMT\", '\n",
      " '\"X-Backend-Host\": \"b_157_249_76_16_loc\", \"Access-Control-Allow-Origin\": \"*\", '\n",
      " '\"Access-Control-Allow-Methods\": \"GET\", \"Access-Control-Allow-Headers\": '\n",
      " '\"Origin\", \"Content-Encoding\": \"gzip\", \"Vary\": \"Accept, Accept-Encoding\", '\n",
      " '\"X-Varnish\": \"473995937\", \"Age\": \"0\", \"Via\": \"1.1 varnish (Varnish/7.0)\", '\n",
      " '\"Accept-Ranges\": '\n",
      " '\"bytes\"},\"data\":{\"type\":\"Feature\",\"geometry\":{\"type\":\"Point\",\"coordinates\":[7.33,61.98,10]},\"properties\":{\"meta\":{\"updated_at\":\"2023-12-11T09:37:17Z\",\"units\":{\"air_pressure_at_sea_level\":\"hPa\",\"air_temperature\":\"celsius\",\"cloud_area_fraction\":\"%\",\"precipitation_amount\":\"mm\",\"relative_humidity\":\"%\",\"wind_from_direction\":\"degrees\",\"wind_speed\":\"m/s\"}},\"timeseries\":[{\"time\":\"2023-12-11T09:00:00Z\",\"data\":{\"instant\":{\"details\":{\"air_pressure_at_sea_level\":1004.9,\"air_temperature\":-1.8,\"cloud_area_fraction\":0.0,\"relative_humidity\":71.5,\"wind_from_direction\":118.6,\"wind_speed\":6.3}},\"next_12_hours\":{\"summary\":{\"symbol_code\":\"clearsky_day\"},\"details\":{}},\"next_1_hours\":{\"summary\":{\"symbol_code\":\"clearsky_day\"},\"details\":{\"precipitation_amount\":0.0}},\"next_6_hours\":{\"summary\":{\"symbol_code\":\"clearsky_day\"},\"details\":{\"precipitation_amount\":0.0}}}},{\"time\":\"2023-12-11T10:00:00Z\",\"data\":{\"instant\":{\"details\":{\"air_pressure_at_sea_level\":1005.0,\"air_temperature\":-1.7,\"cloud_area_fraction\":0.0,\"relative_humidity\":71.3,\"wind_from_direction\":115.9,\"wind_speed\":6.2}},\"next_12_hours\":{\"summary\":{\"symbol_code\":\"clearsky_day\"},\"details\":{}},\"next_1_hours\":{\"summary\":{\"symbol_code\":\"clearsky_day\"},\"details\":{\"precipitation_amount\":0.0}},\"next_6_hours\":{\"summary\":{\"symbol_code\":\"clearsky_day\"},\"details\":{\"precipitation_amount\":0.0}}}},{\"time\":\"2023-12-11T11:00:00Z\",\"data\":{\"instant\":{\"details\":{\"air_pressure_at_sea_level\":1005.0,\"air_temperature\":-1.7,\"cloud_area_fraction\":0.0,\"relative_humidity\":71.2,\"wind_from_direction\":106.3,\"wind_speed\":6.0}},\"next_12_hours\":{\"summary\":{\"symbol_code\":\"clearsky_day\"},\"details\":{}},\"next_1_hours\":{\"summary\":{\"symbol_code\":\"clearsky_day\"},\"details\":{\"precipitation_amount\":0.0}},\"next_6_hours\":{\"summary\":{\"symbol_code\":\"clearsky_day\"},\"details\":{\"precipitation_amount\":0.0}}}},{\"time\":\"2023-12-11T12:00:00Z\",\"data\":{\"instant\":{\"details\":{\"air_pressure_at_sea_level\":1005.1,\"air_temperature\":-1.4,\"cloud_area_fraction\":0.0,\"relative_humidity\":70.0,\"wind_from_direction\":109.6,\"wind_speed\":5.9}},\"next_12_hours\":{\"summary\":{\"symbol_code\":\"clearsky_day\"},\"details\":{}},\"next_1_hours\":{\"summary\":{\"symbol_code\":\"clearsky_day\"},\"details\":{\"precipitation_amount\":0.0}},\"next_6_hours\":{\"summary\":{\"symbol_code\":\"clearsky_day\"},\"details\":{\"precipitation_amount\":0.0}}}},{\"time\":\"2023-12-11T13:00:00Z\",\"data\":{\"instant\":{\"details\":{\"air_pressure_at_sea_level\":1005.4,\"air_temperature\":-1.3,\"cloud_area_fraction\":0.2,\"relative_humidity\":69.3,\"wind_from_direction\":114.2,\"wind_speed\":5.6}},\"next_12_hours\":{\"summary\":{\"symbol_code\":\"clearsky_day\"},\"details\":{}},\"next_1_hours\":{\"summary\":{\"symbol_code\":\"clearsky_day\"},\"details\":{\"precipitation_amount\":0.0}},\"next_6_hours\":{\"summary\":{\"symbol_code\":\"clearsky_day\"},\"details\":{\"precipitation_amount\":0.0}}}},{\"time\":\"2023-12-11T14:00:00Z\",\"data\":{\"instant\":{\"details\":{\"air_pressure_at_sea_level\":1005.7,\"air_temperature\":-1.2,\"cloud_area_fraction\":0.5,\"relative_humidity\":68.0,\"wind_from_direction\":118.3,\"wind_speed\":5.3}},\"next_12_hours\":{\"summary\":{\"symbol_code\":\"clearsky_day\"},\"details\":{}},\"next_1_hours\":{\"summary\":{\"symbol_code\":\"clearsky_night\"},\"details\":{\"precipitation_amount\":0.0}},\"next_6_hours\":{\"summary\":{\"symbol_code\":\"clearsky_day\"},\"details\":{\"precipitation_amount\":0.0}}}},{\"time\":\"2023-12-11T15:00:00Z\",\"data\":{\"instant\":{\"details\":{\"air_pressure_at_sea_level\":1006.1,\"air_temperature\":-1.8,\"cloud_area_fraction\":2.3,\"relative_humidity\":68.7,\"wind_from_direction\":121.9,\"wind_speed\":4.6}},\"next_12_hours\":{\"summary\":{\"symbol_code\":\"clearsky_night\"},\"details\":{}},\"next_1_hours\":{\"summary\":{\"symbol_code\":\"clearsky_night\"},\"details\":{\"precipitation_amount\":0.0}},\"next_6_hours\":{\"summary\":{\"symbol_code\":\"clearsky_night\"},\"details\":{\"precipitation_amount\":0.0}}}},{\"time\":\"2023-12-11T16:00:00Z\",\"data\":{\"instant\":{\"details\":{\"air_pressure_at_sea_level\":1006.5,\"air_temperature\":-2.7,\"cloud_area_fraction\":1.3,\"relative_humidity\":69.8,\"wind_from_direction\":116.3,\"wind_speed\":4.5}},\"next_12_hours\":{\"summary\":{\"symbol_code\":\"clearsky_night\"},\"details\":{}},\"next_1_hours\":{\"summary\":{\"symbol_code\":\"clearsky_night\"},\"details\":{\"precipitation_amount\":0.0}},\"next_6_hours\":{\"summary\":{\"symbol_code\":\"clearsky_night\"},\"details\":{\"precipitation_amount\":0.0}}}},{\"time\":\"2023-12-11T17:00:00Z\",\"data\":{\"instant\":{\"details\":{\"air_pressure_at_sea_level\":1006.9,\"air_temperature\":-3.9,\"cloud_area_fraction\":0.0,\"relative_humidity\":71.0,\"wind_from_direction\":120.3,\"wind_speed\":4.3}},\"next_12_hours\":{\"summary\":{\"symbol_code\":\"clearsky_night\"},\"details\":{}},\"next_1_hours\":{\"summary\":{\"symbol_code\":\"clearsky_night\"},\"details\":{\"precipitation_amount\":0.0}},\"next_6_hours\":{\"summary\":{\"symbol_code\":\"clearsky_night\"},\"details\":{\"precipitation_amount\":0.0}}}},{\"time\":\"2023-12-11T18:00:00Z\",\"data\":{\"instant\":{\"details\":{\"air_pressure_at_sea_level\":1007.3,\"air_temperature\":-5.4,\"cloud_area_fraction\":0.0,\"relative_humidity\":71.9,\"wind_from_direction\":130.6,\"wind_speed\":3.8}},\"next_12_hours\":{\"summary\":{\"symbol_code\":\"clearsky_night\"},\"details\":{}},\"next_1_hours\":{\"summary\":{\"symbol_code\":\"clearsky_night\"},\"details\":{\"precipitation_amount\":0.0}},\"next_6_hours\":{\"summary\":{\"symbol_code\":\"clearsky_night\"},\"details\":{\"precipitation_amount\":0.0}}}},{\"time\":\"2023-12-11T19:00:00Z\",\"data\":{\"instant\":{\"details\":{\"air_pressure_at_sea_level\":1007.6,\"air_temperature\":-6.8,\"cloud_area_fraction\":0.0,\"relative_humidity\":73.3,\"wind_from_direction\":141.1,\"wind_speed\":3.0}},\"next_12_hours\":{\"summary\":{\"symbol_code\":\"clearsky_night\"},\"details\":{}},\"next_1_hours\":{\"summary\":{\"symbol_code\":\"clearsky_night\"},\"details\":{\"precipitation_amount\":0.0}},\"next_6_hours\":{\"summary\":{\"symbol_code\":\"clearsky_night\"},\"details\":{\"precipitation_amount\":0.0}}}},{\"time\":\"2023-12-11T20:00:00Z\",\"data\":{\"instant\":{\"details\":{\"air_pressure_at_sea_level\":1008.2,\"air_temperature\":-8.2,\"cloud_area_fraction\":0.0,\"relative_humidity\":75.6,\"wind_from_direction\":124.6,\"wind_speed\":2.7}},\"next_12_hours\":{\"summary\":{\"symbol_code\":\"clearsky_night\"},\"details\":{}},\"next_1_hours\":{\"summary\":{\"symbol_code\":\"clearsky_night\"},\"details\":{\"precipitation_amount\":0.0}},\"next_6_hours\":{\"summary\":{\"symbol_code\":\"clearsky_night\"},\"details\":{\"precipitation_amount\":0.0}}}},{\"time\":\"2023-12-11T21:00:00Z\",\"data\":{\"instant\":{\"details\":{\"air_pressure_at_sea_level\":1008.6,\"air_temperature\":-8.9,\"cloud_area_fraction\":0.0,\"relative_humidity\":76.3,\"wind_from_direction\":129.0,\"wind_speed\":2.5}},\"next_12_hours\":{\"summary\":{\"symbol_code\":\"clearsky_night\"},\"details\":{}},\"next_1_hours\":{\"summary\":{\"symbol_code\":\"clearsky_night\"},\"details\":{\"precipitation_amount\":0.0}},\"next_6_hours\":{\"summary\":{\"symbol_code\":\"clearsky_night\"},\"details\":{\"precipitation_amount\":0.0}}}},{\"time\":\"2023-12-11T22:00:00Z\",\"data\":{\"instant\":{\"details\":{\"air_pressure_at_sea_level\":1008.9,\"air_temperature\":-9.4,\"cloud_area_fraction\":0.0,\"relative_humidity\":77.5,\"wind_from_direction\":106.3,\"wind_speed\":1.8}},\"next_12_hours\":{\"summary\":{\"symbol_code\":\"clearsky_day\"},\"details\":{}},\"next_1_hours\":{\"summary\":{\"symbol_code\":\"clearsky_night\"},\"details\":{\"precipitation_amount\":0.0}},\"next_6_hours\":{\"summary\":{\"symbol_code\":\"clearsky_night\"},\"details\":{\"precipitation_amount\":0.0}}}},{\"time\":\"2023-12-11T23:00:00Z\",\"data\":{\"instant\":{\"details\":{\"air_pressure_at_sea_level\":1009.3,\"air_temperature\":-10.3,\"cloud_area_fraction\":0.0,\"relative_humidity\":79.4,\"wind_from_direction\":71.8,\"wind_speed\":2.3}},\"next_12_hours\":{\"summary\":{\"symbol_code\":\"clearsky_day\"},\"details\":{}},\"next_1_hours\":{\"summary\":{\"symbol_code\":\"clearsky_night\"},\"details\":{\"precipitation_amount\":0.0}},\"next_6_hours\":{\"summary\":{\"symbol_code\":\"clearsky_night\"},\"details\":{\"precipitation_amount\":0.0}}}},{\"time\":\"2023-12-12T00:00:00Z\",\"data\":{\"instant\":{\"details\":{\"air_pressure_at_sea_level\":1009.4,\"air_temperature\":-10.5,\"cloud_area_fraction\":0.0,\"relative_humidity\":80.0,\"wind_from_direction\":73.0,\"wind_speed\":2.6}},\"next_12_hours\":{\"summary\":{\"symbol_code\":\"clearsky_day\"},\"details\":{}},\"next_1_hours\":{\"summary\":{\"symbol_code\":\"clearsky_night\"},\"details\":{\"precipitation_amount\":0.0}},\"next_6_hours\":{\"summary\":{\"symbol_code\":\"clearsky_night\"},\"details\":{\"precipitation_amount\":0.0}}}},{\"time\":\"2023-12-12T01:00:00Z\",\"data\":{\"instant\":{\"details\":{\"air_pressure_at_sea_level\":1009.4,\"air_temperature\":-10.8,\"cloud_area_fraction\":0.0,\"relative_humidity\":80.6,\"wind_from_direction\":69.1,\"wind_speed\":2.3}},\"next_12_hours\":{\"summary\":{\"symbol_code\":\"clearsky_day\"},\"details\":{}},\"next_1_hours\":{\"summary\":{\"symbol_code\":\"clearsky_night\"},\"details\":{\"precipitation_amount\":0.0}},\"next_6_hours\":{\"summary\":{\"symbol_code\":\"clearsky_night\"},\"details\":{\"precipitation_amount\":0.0}}}},{\"time\":\"2023-12-12T02:00:00Z\",\"data\":{\"instant\":{\"details\":{\"air_pressure_at_sea_level\":1009.5,\"air_temperature\":-11.2,\"cloud_area_fraction\":0.0,\"relative_humidity\":81.4,\"wind_from_direction\":59.7,\"wind_speed\":1.8}},\"next_12_hours\":{\"summary\":{\"symbol_code\":\"clearsky_day\"},\"details\":{}},\"next_1_hours\":{\"summary\":{\"symbol_code\":\"clearsky_night\"},\"details\":{\"precipitation_amount\":0.0}},\"next_6_hours\":{\"summary\":{\"symbol_code\":\"clearsky_night\"},\"details\":{\"precipitation_amount\":0.0}}}},{\"time\":\"2023-12-12T03:00:00Z\",\"data\":{\"instant\":{\"details\":{\"air_pressure_at_sea_level\":1009.6,\"air_temperature\":-11.5,\"cloud_area_fraction\":0.0,\"relative_humidity\":81.9,\"wind_from_direction\":53.2,\"wind_speed\":1.4}},\"next_12_hours\":{\"summary\":{\"symbol_code\":\"clearsky_day\"},\"details\":{}},\"next_1_hours\":{\"summary\":{\"symbol_code\":\"clearsky_night\"},\"details\":{\"precipitation_amount\":0.0}},\"next_6_hours\":{\"summary\":{\"symbol_code\":\"clearsky_night\"},\"details\":{\"precipitation_amount\":0.0}}}},{\"time\":\"2023-12-12T04:00:00Z\",\"data\":{\"instant\":{\"details\":{\"air_pressure_at_sea_level\":1009.6,\"air_temperature\":-11.8,\"cloud_area_fraction\":0.0,\"relative_humidity\":82.4,\"wind_from_direction\":56.2,\"wind_speed\":1.2}},\"next_12_hours\":{\"summary\":{\"symbol_code\":\"clearsky_day\"},\"details\":{}},\"next_1_hours\":{\"summary\":{\"symbol_code\":\"clearsky_night\"},\"details\":{\"precipitation_amount\":0.0}},\"next_6_hours\":{\"summary\":{\"symbol_code\":\"clearsky_day\"},\"details\":{\"precipitation_amount\":0.0}}}},{\"time\":\"2023-12-12T05:00:00Z\",\"data\":{\"instant\":{\"details\":{\"air_pressure_at_sea_level\":1009.8,\"air_temperature\":-12.1,\"cloud_area_fraction\":0.0,\"relative_humidity\":82.9,\"wind_from_direction\":59.0,\"wind_speed\":1.1}},\"next_12_hours\":{\"summary\":{\"symbol_code\":\"clearsky_day\"},\"details\":{}},\"next_1_hours\":{\"summary\":{\"symbol_code\":\"clearsky_night\"},\"details\":{\"precipitation_amount\":0.0}},\"next_6_hours\":{\"summary\":{\"symbol_code\":\"clearsky_day\"},\"details\":{\"precipitation_amount\":0.0}}}},{\"time\":\"2023-12-12T06:00:00Z\",\"data\":{\"instant\":{\"details\":{\"air_pressure_at_sea_level\":1009.9,\"air_temperature\":-12.2,\"cloud_area_fraction\":0.0,\"relative_humidity\":83.5,\"wind_from_direction\":72.1,\"wind_speed\":1.2}},\"next_12_hours\":{\"summary\":{\"symbol_code\":\"fair_day\"},\"details\":{}},\"next_1_hours\":{\"summary\":{\"symbol_code\":\"clearsky_night\"},\"details\":{\"precipitation_amount\":0.0}},\"next_6_hours\":{\"summary\":{\"symbol_code\":\"clearsky_day\"},\"details\":{\"precipitation_amount\":0.0}}}},{\"time\":\"2023-12-12T07:00:00Z\",\"data\":{\"instant\":{\"details\":{\"air_pressure_at_sea_level\":1010.2,\"air_temperature\":-12.4,\"cloud_area_fraction\":0.0,\"relative_humidity\":83.7,\"wind_from_direction\":68.7,\"wind_speed\":1.2}},\"next_12_hours\":{\"summary\":{\"symbol_code\":\"fair_day\"},\"details\":{}},\"next_1_hours\":{\"summary\":{\"symbol_code\":\"clearsky_night\"},\"details\":{\"precipitation_amount\":0.0}},\"next_6_hours\":{\"summary\":{\"symbol_code\":\"clearsky_day\"},\"details\":{\"precipitation_amount\":0.0}}}},{\"time\":\"2023-12-12T08:00:00Z\",\"data\":{\"instant\":{\"details\":{\"air_pressure_at_sea_level\":1010.3,\"air_temperature\":-12.5,\"cloud_area_fraction\":0.0,\"relative_humidity\":83.3,\"wind_from_direction\":77.7,\"wind_speed\":1.6}},\"next_12_hours\":{\"summary\":{\"symbol_code\":\"fair_day\"},\"details\":{}},\"next_1_hours\":{\"summary\":{\"symbol_code\":\"clearsky_night\"},\"details\":{\"precipitation_amount\":0.0}},\"next_6_hours\":{\"summary\":{\"symbol_code\":\"clearsky_day\"},\"details\":{\"precipitation_amount\":0.0}}}},{\"time\":\"2023-12-12T09:00:00Z\",\"data\":{\"instant\":{\"details\":{\"air_pressure_at_sea_level\":1010.5,\"air_temperature\":-12.6,\"cloud_area_fraction\":0.0,\"relative_humidity\":83.0,\"wind_from_direction\":78.7,\"wind_speed\":1.5}},\"next_12_hours\":{\"summary\":{\"symbol_code\":\"fair_day\"},\"details\":{}},\"next_1_hours\":{\"summary\":{\"symbol_code\":\"clearsky_day\"},\"details\":{\"precipitation_amount\":0.0}},\"next_6_hours\":{\"summary\":{\"symbol_code\":\"clearsky_day\"},\"details\":{\"precipitation_amount\":0.0}}}},{\"time\":\"2023-12-12T10:00:00Z\",\"data\":{\"instant\":{\"details\":{\"air_pressure_at_sea_level\":1010.6,\"air_temperature\":-12.5,\"cloud_area_fraction\":0.0,\"relative_humidity\":82.2,\"wind_from_direction\":76.1,\"wind_speed\":1.1}},\"next_12_hours\":{\"summary\":{\"symbol_code\":\"fair_day\"},\"details\":{}},\"next_1_hours\":{\"summary\":{\"symbol_code\":\"clearsky_day\"},\"details\":{\"precipitation_amount\":0.0}},\"next_6_hours\":{\"summary\":{\"symbol_code\":\"clearsky_day\"},\"details\":{\"precipitation_amount\":0.0}}}},{\"time\":\"2023-12-12T11:00:00Z\",\"data\":{\"instant\":{\"details\":{\"air_pressure_at_sea_level\":1010.4,\"air_temperature\":-12.1,\"cloud_area_fraction\":0.2,\"relative_humidity\":80.3,\"wind_from_direction\":66.0,\"wind_speed\":1.2}},\"next_12_hours\":{\"summary\":{\"symbol_code\":\"fair_day\"},\"details\":{}},\"next_1_hours\":{\"summary\":{\"symbol_code\":\"clearsky_day\"},\"details\":{\"precipitation_amount\":0.0}},\"next_6_hours\":{\"summary\":{\"symbol_code\":\"fair_day\"},\"details\":{\"precipitation_amount\":0.0}}}},{\"time\":\"2023-12-12T12:00:00Z\",\"data\":{\"instant\":{\"details\":{\"air_pressure_at_sea_level\":1010.2,\"air_temperature\":-11.8,\"cloud_area_fraction\":4.6,\"relative_humidity\":79.2,\"wind_from_direction\":54.9,\"wind_speed\":1.2}},\"next_12_hours\":{\"summary\":{\"symbol_code\":\"partlycloudy_day\"},\"details\":{}},\"next_1_hours\":{\"summary\":{\"symbol_code\":\"clearsky_day\"},\"details\":{\"precipitation_amount\":0.0}},\"next_6_hours\":{\"summary\":{\"symbol_code\":\"fair_day\"},\"details\":{\"precipitation_amount\":0.0}}}},{\"time\":\"2023-12-12T13:00:00Z\",\"data\":{\"instant\":{\"details\":{\"air_pressure_at_sea_level\":1010.2,\"air_temperature\":-11.9,\"cloud_area_fraction\":6.6,\"relative_humidity\":79.1,\"wind_from_direction\":63.9,\"wind_speed\":1.1}},\"next_12_hours\":{\"summary\":{\"symbol_code\":\"partlycloudy_day\"},\"details\":{}},\"next_1_hours\":{\"summary\":{\"symbol_code\":\"clearsky_day\"},\"details\":{\"precipitation_amount\":0.0}},\"next_6_hours\":{\"summary\":{\"symbol_code\":\"fair_day\"},\"details\":{\"precipitation_amount\":0.0}}}},{\"time\":\"2023-12-12T14:00:00Z\",\"data\":{\"instant\":{\"details\":{\"air_pressure_at_sea_level\":1010.0,\"air_temperature\":-12.4,\"cloud_area_fraction\":12.5,\"relative_humidity\":80.4,\"wind_from_direction\":70.5,\"wind_speed\":1.5}},\"next_12_hours\":{\"summary\":{\"symbol_code\":\"partlycloudy_day\"},\"details\":{}},\"next_1_hours\":{\"summary\":{\"symbol_code\":\"clearsky_night\"},\"details\":{\"precipitation_amount\":0.0}},\"next_6_hours\":{\"summary\":{\"symbol_code\":\"fair_day\"},\"details\":{\"precipitation_amount\":0.0}}}},{\"time\":\"2023-12-12T15:00:00Z\",\"data\":{\"instant\":{\"details\":{\"air_pressure_at_sea_level\":1009.6,\"air_temperature\":-12.8,\"cloud_area_fraction\":16.8,\"relative_humidity\":82.7,\"wind_from_direction\":76.2,\"wind_speed\":1.8}},\"next_12_hours\":{\"summary\":{\"symbol_code\":\"partlycloudy_night\"},\"details\":{}},\"next_1_hours\":{\"summary\":{\"symbol_code\":\"fair_night\"},\"details\":{\"precipitation_amount\":0.0}},\"next_6_hours\":{\"summary\":{\"symbol_code\":\"partlycloudy_night\"},\"details\":{\"precipitation_amount\":0.0}}}},{\"time\":\"2023-12-12T16:00:00Z\",\"data\":{\"instant\":{\"details\":{\"air_pressure_at_sea_level\":1009.5,\"air_temperature\":-13.0,\"cloud_area_fraction\":32.0,\"relative_humidity\":85.0,\"wind_from_direction\":74.1,\"wind_speed\":2.0}},\"next_12_hours\":{\"summary\":{\"symbol_code\":\"partlycloudy_night\"},\"details\":{}},\"next_1_hours\":{\"summary\":{\"symbol_code\":\"fair_night\"},\"details\":{\"precipitation_amount\":0.0}},\"next_6_hours\":{\"summary\":{\"symbol_code\":\"partlycloudy_night\"},\"details\":{\"precipitation_amount\":0.0}}}},{\"time\":\"2023-12-12T17:00:00Z\",\"data\":{\"instant\":{\"details\":{\"air_pressure_at_sea_level\":1009.5,\"air_temperature\":-13.0,\"cloud_area_fraction\":81.4,\"relative_humidity\":87.0,\"wind_from_direction\":83.6,\"wind_speed\":1.9}},\"next_12_hours\":{\"summary\":{\"symbol_code\":\"partlycloudy_night\"},\"details\":{}},\"next_1_hours\":{\"summary\":{\"symbol_code\":\"partlycloudy_night\"},\"details\":{\"precipitation_amount\":0.0}},\"next_6_hours\":{\"summary\":{\"symbol_code\":\"partlycloudy_night\"},\"details\":{\"precipitation_amount\":0.0}}}},{\"time\":\"2023-12-12T18:00:00Z\",\"data\":{\"instant\":{\"details\":{\"air_pressure_at_sea_level\":1009.6,\"air_temperature\":-12.8,\"cloud_area_fraction\":53.1,\"relative_humidity\":88.1,\"wind_from_direction\":102.3,\"wind_speed\":1.7}},\"next_12_hours\":{\"summary\":{\"symbol_code\":\"partlycloudy_night\"},\"details\":{}},\"next_1_hours\":{\"summary\":{\"symbol_code\":\"partlycloudy_night\"},\"details\":{\"precipitation_amount\":0.0}},\"next_6_hours\":{\"summary\":{\"symbol_code\":\"partlycloudy_night\"},\"details\":{\"precipitation_amount\":0.0}}}},{\"time\":\"2023-12-12T19:00:00Z\",\"data\":{\"instant\":{\"details\":{\"air_pressure_at_sea_level\":1009.6,\"air_temperature\":-12.6,\"cloud_area_fraction\":14.6,\"relative_humidity\":87.5,\"wind_from_direction\":107.0,\"wind_speed\":2.6}},\"next_12_hours\":{\"summary\":{\"symbol_code\":\"partlycloudy_night\"},\"details\":{}},\"next_1_hours\":{\"summary\":{\"symbol_code\":\"fair_night\"},\"details\":{\"precipitation_amount\":0.0}},\"next_6_hours\":{\"summary\":{\"symbol_code\":\"partlycloudy_night\"},\"details\":{\"precipitation_amount\":0.0}}}},{\"time\":\"2023-12-12T20:00:00Z\",\"data\":{\"instant\":{\"details\":{\"air_pressure_at_sea_level\":1009.6,\"air_temperature\":-12.1,\"cloud_area_fraction\":16.6,\"relative_humidity\":85.6,\"wind_from_direction\":113.0,\"wind_speed\":3.5}},\"next_12_hours\":{\"summary\":{\"symbol_code\":\"partlycloudy_night\"},\"details\":{}},\"next_1_hours\":{\"summary\":{\"symbol_code\":\"fair_night\"},\"details\":{\"precipitation_amount\":0.0}},\"next_6_hours\":{\"summary\":{\"symbol_code\":\"partlycloudy_night\"},\"details\":{\"precipitation_amount\":0.0}}}},{\"time\":\"2023-12-12T21:00:00Z\",\"data\":{\"instant\":{\"details\":{\"air_pressure_at_sea_level\":1009.8,\"air_temperature\":-11.5,\"cloud_area_fraction\":42.0,\"relative_humidity\":84.6,\"wind_from_direction\":124.9,\"wind_speed\":3.3}},\"next_12_hours\":{\"summary\":{\"symbol_code\":\"partlycloudy_night\"},\"details\":{}},\"next_1_hours\":{\"summary\":{\"symbol_code\":\"partlycloudy_night\"},\"details\":{\"precipitation_amount\":0.0}},\"next_6_hours\":{\"summary\":{\"symbol_code\":\"partlycloudy_night\"},\"details\":{\"precipitation_amount\":0.0}}}},{\"time\":\"2023-12-12T22:00:00Z\",\"data\":{\"instant\":{\"details\":{\"air_pressure_at_sea_level\":1009.6,\"air_temperature\":-11.2,\"cloud_area_fraction\":58.3,\"relative_humidity\":84.0,\"wind_from_direction\":104.4,\"wind_speed\":2.5}},\"next_12_hours\":{\"summary\":{\"symbol_code\":\"partlycloudy_day\"},\"details\":{}},\"next_1_hours\":{\"summary\":{\"symbol_code\":\"partlycloudy_night\"},\"details\":{\"precipitation_amount\":0.0}},\"next_6_hours\":{\"summary\":{\"symbol_code\":\"partlycloudy_night\"},\"details\":{\"precipitation_amount\":0.0}}}},{\"time\":\"2023-12-12T23:00:00Z\",\"data\":{\"instant\":{\"details\":{\"air_pressure_at_sea_level\":1009.4,\"air_temperature\":-11.5,\"cloud_area_fraction\":60.3,\"relative_humidity\":84.2,\"wind_from_direction\":100.6,\"wind_speed\":2.2}},\"next_12_hours\":{\"summary\":{\"symbol_code\":\"partlycloudy_day\"},\"details\":{}},\"next_1_hours\":{\"summary\":{\"symbol_code\":\"partlycloudy_night\"},\"details\":{\"precipitation_amount\":0.0}},\"next_6_hours\":{\"summary\":{\"symbol_code\":\"partlycloudy_night\"},\"details\":{\"precipitation_amount\":0.0}}}},{\"time\":\"2023-12-13T00:00:00Z\",\"data\":{\"instant\":{\"details\":{\"air_pressure_at_sea_level\":1009.3,\"air_temperature\":-12.0,\"cloud_area_fraction\":60.6,\"relative_humidity\":86.6,\"wind_from_direction\":69.0,\"wind_speed\":2.0}},\"next_12_hours\":{\"summary\":{\"symbol_code\":\"partlycloudy_day\"},\"details\":{}},\"next_1_hours\":{\"summary\":{\"symbol_code\":\"partlycloudy_night\"},\"details\":{\"precipitation_amount\":0.0}},\"next_6_hours\":{\"summary\":{\"symbol_code\":\"partlycloudy_night\"},\"details\":{\"precipitation_amount\":0.0}}}},{\"time\":\"2023-12-13T01:00:00Z\",\"data\":{\"instant\":{\"details\":{\"air_pressure_at_sea_level\":1009.5,\"air_temperature\":-11.8,\"cloud_area_fraction\":53.8,\"relative_humidity\":88.2,\"wind_from_direction\":69.9,\"wind_speed\":2.1}},\"next_1_hours\":{\"summary\":{\"symbol_code\":\"partlycloudy_night\"},\"details\":{\"precipitation_amount\":0.0}},\"next_6_hours\":{\"summary\":{\"symbol_code\":\"partlycloudy_night\"},\"details\":{\"precipitation_amount\":0.0}}}},{\"time\":\"2023-12-13T02:00:00Z\",\"data\":{\"instant\":{\"details\":{\"air_pressure_at_sea_level\":1009.8,\"air_temperature\":-11.1,\"cloud_area_fraction\":56.4,\"relative_humidity\":87.1,\"wind_from_direction\":62.0,\"wind_speed\":1.4}},\"next_1_hours\":{\"summary\":{\"symbol_code\":\"partlycloudy_night\"},\"details\":{\"precipitation_amount\":0.0}},\"next_6_hours\":{\"summary\":{\"symbol_code\":\"partlycloudy_night\"},\"details\":{\"precipitation_amount\":0.0}}}},{\"time\":\"2023-12-13T03:00:00Z\",\"data\":{\"instant\":{\"details\":{\"air_pressure_at_sea_level\":1009.8,\"air_temperature\":-10.6,\"cloud_area_fraction\":55.5,\"relative_humidity\":87.4,\"wind_from_direction\":64.0,\"wind_speed\":1.2}},\"next_1_hours\":{\"summary\":{\"symbol_code\":\"partlycloudy_night\"},\"details\":{\"precipitation_amount\":0.0}},\"next_6_hours\":{\"summary\":{\"symbol_code\":\"partlycloudy_night\"},\"details\":{\"precipitation_amount\":0.0}}}},{\"time\":\"2023-12-13T04:00:00Z\",\"data\":{\"instant\":{\"details\":{\"air_pressure_at_sea_level\":1009.8,\"air_temperature\":-10.5,\"cloud_area_fraction\":43.0,\"relative_humidity\":89.5,\"wind_from_direction\":109.4,\"wind_speed\":1.1}},\"next_1_hours\":{\"summary\":{\"symbol_code\":\"partlycloudy_night\"},\"details\":{\"precipitation_amount\":0.0}},\"next_6_hours\":{\"summary\":{\"symbol_code\":\"partlycloudy_day\"},\"details\":{\"precipitation_amount\":0.0}}}},{\"time\":\"2023-12-13T05:00:00Z\",\"data\":{\"instant\":{\"details\":{\"air_pressure_at_sea_level\":1009.8,\"air_temperature\":-10.6,\"cloud_area_fraction\":40.3,\"relative_humidity\":91.8,\"wind_from_direction\":149.9,\"wind_speed\":1.5}},\"next_1_hours\":{\"summary\":{\"symbol_code\":\"partlycloudy_night\"},\"details\":{\"precipitation_amount\":0.0}},\"next_6_hours\":{\"summary\":{\"symbol_code\":\"partlycloudy_day\"},\"details\":{\"precipitation_amount\":0.0}}}},{\"time\":\"2023-12-13T06:00:00Z\",\"data\":{\"instant\":{\"details\":{\"air_pressure_at_sea_level\":1009.9,\"air_temperature\":-10.4,\"cloud_area_fraction\":47.0,\"relative_humidity\":92.5,\"wind_from_direction\":162.8,\"wind_speed\":1.9}},\"next_12_hours\":{\"summary\":{\"symbol_code\":\"cloudy\"},\"details\":{}},\"next_1_hours\":{\"summary\":{\"symbol_code\":\"partlycloudy_night\"},\"details\":{\"precipitation_amount\":0.0}},\"next_6_hours\":{\"summary\":{\"symbol_code\":\"partlycloudy_day\"},\"details\":{\"precipitation_amount\":0.0}}}},{\"time\":\"2023-12-13T07:00:00Z\",\"data\":{\"instant\":{\"details\":{\"air_pressure_at_sea_level\":1010.1,\"air_temperature\":-9.7,\"cloud_area_fraction\":58.0,\"relative_humidity\":90.4,\"wind_from_direction\":165.5,\"wind_speed\":1.8}},\"next_1_hours\":{\"summary\":{\"symbol_code\":\"partlycloudy_night\"},\"details\":{\"precipitation_amount\":0.0}}}},{\"time\":\"2023-12-13T08:00:00Z\",\"data\":{\"instant\":{\"details\":{\"air_pressure_at_sea_level\":1010.5,\"air_temperature\":-8.5,\"cloud_area_fraction\":72.7,\"relative_humidity\":89.4,\"wind_from_direction\":189.1,\"wind_speed\":1.9}},\"next_1_hours\":{\"summary\":{\"symbol_code\":\"partlycloudy_night\"},\"details\":{\"precipitation_amount\":0.0}}}},{\"time\":\"2023-12-13T09:00:00Z\",\"data\":{\"instant\":{\"details\":{\"air_pressure_at_sea_level\":1010.9,\"air_temperature\":-8.3,\"cloud_area_fraction\":68.0,\"relative_humidity\":90.5,\"wind_from_direction\":195.0,\"wind_speed\":2.7}},\"next_1_hours\":{\"summary\":{\"symbol_code\":\"partlycloudy_day\"},\"details\":{\"precipitation_amount\":0.0}}}},{\"time\":\"2023-12-13T10:00:00Z\",\"data\":{\"instant\":{\"details\":{\"air_pressure_at_sea_level\":1011.1,\"air_temperature\":-8.4,\"cloud_area_fraction\":50.4,\"relative_humidity\":89.8,\"wind_from_direction\":200.3,\"wind_speed\":2.8}},\"next_1_hours\":{\"summary\":{\"symbol_code\":\"partlycloudy_day\"},\"details\":{\"precipitation_amount\":0.0}}}},{\"time\":\"2023-12-13T11:00:00Z\",\"data\":{\"instant\":{\"details\":{\"air_pressure_at_sea_level\":1011.4,\"air_temperature\":-8.6,\"cloud_area_fraction\":28.7,\"relative_humidity\":88.8,\"wind_from_direction\":202.0,\"wind_speed\":2.6}},\"next_1_hours\":{\"summary\":{\"symbol_code\":\"fair_day\"},\"details\":{\"precipitation_amount\":0.0}}}},{\"time\":\"2023-12-13T12:00:00Z\",\"data\":{\"instant\":{\"details\":{\"air_pressure_at_sea_level\":1011.7,\"air_temperature\":-9.2,\"cloud_area_fraction\":14.4,\"relative_humidity\":90.6,\"wind_from_direction\":205.0,\"wind_speed\":2.3}},\"next_12_hours\":{\"summary\":{\"symbol_code\":\"cloudy\"},\"details\":{}},\"next_6_hours\":{\"summary\":{\"symbol_code\":\"cloudy\"},\"details\":{\"precipitation_amount\":0.0}}}},{\"time\":\"2023-12-13T18:00:00Z\",\"data\":{\"instant\":{\"details\":{\"air_pressure_at_sea_level\":1013.3,\"air_temperature\":-2.0,\"cloud_area_fraction\":93.7,\"relative_humidity\":88.3,\"wind_from_direction\":116.0,\"wind_speed\":3.2}},\"next_12_hours\":{\"summary\":{\"symbol_code\":\"cloudy\"},\"details\":{}},\"next_6_hours\":{\"summary\":{\"symbol_code\":\"cloudy\"},\"details\":{\"precipitation_amount\":0.0}}}},{\"time\":\"2023-12-14T00:00:00Z\",\"data\":{\"instant\":{\"details\":{\"air_pressure_at_sea_level\":1013.2,\"air_temperature\":-3.0,\"cloud_area_fraction\":80.1,\"relative_humidity\":83.2,\"wind_from_direction\":118.6,\"wind_speed\":4.8}},\"next_12_hours\":{\"summary\":{\"symbol_code\":\"cloudy\"},\"details\":{}},\"next_6_hours\":{\"summary\":{\"symbol_code\":\"partlycloudy_night\"},\"details\":{\"precipitation_amount\":0.0}}}},{\"time\":\"2023-12-14T06:00:00Z\",\"data\":{\"instant\":{\"details\":{\"air_pressure_at_sea_level\":1011.8,\"air_temperature\":-1.2,\"cloud_area_fraction\":100.0,\"relative_humidity\":85.6,\"wind_from_direction\":119.9,\"wind_speed\":7.7}},\"next_12_hours\":{\"summary\":{\"symbol_code\":\"cloudy\"},\"details\":{}},\"next_6_hours\":{\"summary\":{\"symbol_code\":\"cloudy\"},\"details\":{\"precipitation_amount\":0.0}}}},{\"time\":\"2023-12-14T12:00:00Z\",\"data\":{\"instant\":{\"details\":{\"air_pressure_at_sea_level\":1012.0,\"air_temperature\":0.2,\"cloud_area_fraction\":100.0,\"relative_humidity\":85.7,\"wind_from_direction\":148.5,\"wind_speed\":8.9}},\"next_12_hours\":{\"summary\":{\"symbol_code\":\"lightsnow\"},\"details\":{}},\"next_6_hours\":{\"summary\":{\"symbol_code\":\"cloudy\"},\"details\":{\"precipitation_amount\":0.0}}}},{\"time\":\"2023-12-14T18:00:00Z\",\"data\":{\"instant\":{\"details\":{\"air_pressure_at_sea_level\":1013.1,\"air_temperature\":1.2,\"cloud_area_fraction\":100.0,\"relative_humidity\":87.1,\"wind_from_direction\":150.8,\"wind_speed\":8.2}},\"next_12_hours\":{\"summary\":{\"symbol_code\":\"snow\"},\"details\":{}},\"next_6_hours\":{\"summary\":{\"symbol_code\":\"sleet\"},\"details\":{\"precipitation_amount\":1.9}}}},{\"time\":\"2023-12-15T00:00:00Z\",\"data\":{\"instant\":{\"details\":{\"air_pressure_at_sea_level\":1014.3,\"air_temperature\":1.9,\"cloud_area_fraction\":100.0,\"relative_humidity\":89.6,\"wind_from_direction\":149.4,\"wind_speed\":7.3}},\"next_12_hours\":{\"summary\":{\"symbol_code\":\"lightsnow\"},\"details\":{}},\"next_6_hours\":{\"summary\":{\"symbol_code\":\"rain\"},\"details\":{\"precipitation_amount\":2.3}}}},{\"time\":\"2023-12-15T06:00:00Z\",\"data\":{\"instant\":{\"details\":{\"air_pressure_at_sea_level\":1016.4,\"air_temperature\":3.1,\"cloud_area_fraction\":100.0,\"relative_humidity\":91.1,\"wind_from_direction\":153.8,\"wind_speed\":7.7}},\"next_12_hours\":{\"summary\":{\"symbol_code\":\"lightsnow\"},\"details\":{}},\"next_6_hours\":{\"summary\":{\"symbol_code\":\"cloudy\"},\"details\":{\"precipitation_amount\":0.0}}}},{\"time\":\"2023-12-15T12:00:00Z\",\"data\":{\"instant\":{\"details\":{\"air_pressure_at_sea_level\":1017.7,\"air_temperature\":3.4,\"cloud_area_fraction\":100.0,\"relative_humidity\":91.6,\"wind_from_direction\":158.0,\"wind_speed\":9.3}},\"next_12_hours\":{\"summary\":{\"symbol_code\":\"snow\"},\"details\":{}},\"next_6_hours\":{\"summary\":{\"symbol_code\":\"rain\"},\"details\":{\"precipitation_amount\":3.2}}}},{\"time\":\"2023-12-15T18:00:00Z\",\"data\":{\"instant\":{\"details\":{\"air_pressure_at_sea_level\":1016.3,\"air_temperature\":4.3,\"cloud_area_fraction\":100.0,\"relative_humidity\":93.6,\"wind_from_direction\":164.5,\"wind_speed\":11.0}},\"next_12_hours\":{\"summary\":{\"symbol_code\":\"lightsnow\"},\"details\":{}},\"next_6_hours\":{\"summary\":{\"symbol_code\":\"rain\"},\"details\":{\"precipitation_amount\":4.8}}}},{\"time\":\"2023-12-16T00:00:00Z\",\"data\":{\"instant\":{\"details\":{\"air_pressure_at_sea_level\":1013.1,\"air_temperature\":5.6,\"cloud_area_fraction\":100.0,\"relative_humidity\":94.8,\"wind_from_direction\":168.0,\"wind_speed\":12.4}},\"next_12_hours\":{\"summary\":{\"symbol_code\":\"snow\"},\"details\":{}},\"next_6_hours\":{\"summary\":{\"symbol_code\":\"cloudy\"},\"details\":{\"precipitation_amount\":0.0}}}},{\"time\":\"2023-12-16T06:00:00Z\",\"data\":{\"instant\":{\"details\":{\"air_pressure_at_sea_level\":1009.5,\"air_temperature\":7.3,\"cloud_area_fraction\":100.0,\"relative_humidity\":95.6,\"wind_from_direction\":198.8,\"wind_speed\":12.9}},\"next_12_hours\":{\"summary\":{\"symbol_code\":\"heavysnow\"},\"details\":{}},\"next_6_hours\":{\"summary\":{\"symbol_code\":\"heavyrain\"},\"details\":{\"precipitation_amount\":13.4}}}},{\"time\":\"2023-12-16T12:00:00Z\",\"data\":{\"instant\":{\"details\":{\"air_pressure_at_sea_level\":1005.7,\"air_temperature\":7.6,\"cloud_area_fraction\":100.0,\"relative_humidity\":96.1,\"wind_from_direction\":253.1,\"wind_speed\":14.7}},\"next_12_hours\":{\"summary\":{\"symbol_code\":\"heavysnow\"},\"details\":{}},\"next_6_hours\":{\"summary\":{\"symbol_code\":\"heavyrain\"},\"details\":{\"precipitation_amount\":6.7}}}},{\"time\":\"2023-12-16T18:00:00Z\",\"data\":{\"instant\":{\"details\":{\"air_pressure_at_sea_level\":1007.6,\"air_temperature\":5.4,\"cloud_area_fraction\":100.0,\"relative_humidity\":96.1,\"wind_from_direction\":245.2,\"wind_speed\":13.4}},\"next_12_hours\":{\"summary\":{\"symbol_code\":\"heavysnow\"},\"details\":{}},\"next_6_hours\":{\"summary\":{\"symbol_code\":\"heavyrain\"},\"details\":{\"precipitation_amount\":5.7}}}},{\"time\":\"2023-12-17T00:00:00Z\",\"data\":{\"instant\":{\"details\":{\"air_pressure_at_sea_level\":1008.0,\"air_temperature\":4.3,\"cloud_area_fraction\":100.0,\"relative_humidity\":96.6,\"wind_from_direction\":246.7,\"wind_speed\":12.3}},\"next_12_hours\":{\"summary\":{\"symbol_code\":\"heavysnow\"},\"details\":{}},\"next_6_hours\":{\"summary\":{\"symbol_code\":\"heavyrain\"},\"details\":{\"precipitation_amount\":5.7}}}},{\"time\":\"2023-12-17T06:00:00Z\",\"data\":{\"instant\":{\"details\":{\"air_pressure_at_sea_level\":1005.7,\"air_temperature\":4.7,\"cloud_area_fraction\":100.0,\"relative_humidity\":96.6,\"wind_from_direction\":246.3,\"wind_speed\":12.1}},\"next_12_hours\":{\"summary\":{\"symbol_code\":\"snow\"},\"details\":{}},\"next_6_hours\":{\"summary\":{\"symbol_code\":\"heavyrain\"},\"details\":{\"precipitation_amount\":5.6}}}},{\"time\":\"2023-12-17T12:00:00Z\",\"data\":{\"instant\":{\"details\":{\"air_pressure_at_sea_level\":1009.6,\"air_temperature\":4.1,\"cloud_area_fraction\":100.0,\"relative_humidity\":95.7,\"wind_from_direction\":252.8,\"wind_speed\":12.6}},\"next_12_hours\":{\"summary\":{\"symbol_code\":\"snow\"},\"details\":{}},\"next_6_hours\":{\"summary\":{\"symbol_code\":\"rain\"},\"details\":{\"precipitation_amount\":3.7}}}},{\"time\":\"2023-12-17T18:00:00Z\",\"data\":{\"instant\":{\"details\":{\"air_pressure_at_sea_level\":1013.2,\"air_temperature\":4.2,\"cloud_area_fraction\":100.0,\"relative_humidity\":95.9,\"wind_from_direction\":253.6,\"wind_speed\":12.2}},\"next_12_hours\":{\"summary\":{\"symbol_code\":\"lightsnow\"},\"details\":{}},\"next_6_hours\":{\"summary\":{\"symbol_code\":\"rain\"},\"details\":{\"precipitation_amount\":3.0}}}},{\"time\":\"2023-12-18T00:00:00Z\",\"data\":{\"instant\":{\"details\":{\"air_pressure_at_sea_level\":1014.1,\"air_temperature\":4.4,\"cloud_area_fraction\":100.0,\"relative_humidity\":96.2,\"wind_from_direction\":251.6,\"wind_speed\":12.1}},\"next_12_hours\":{\"summary\":{\"symbol_code\":\"lightsnow\"},\"details\":{}},\"next_6_hours\":{\"summary\":{\"symbol_code\":\"cloudy\"},\"details\":{\"precipitation_amount\":0.0}}}},{\"time\":\"2023-12-18T06:00:00Z\",\"data\":{\"instant\":{\"details\":{\"air_pressure_at_sea_level\":1011.9,\"air_temperature\":4.7,\"cloud_area_fraction\":100.0,\"relative_humidity\":95.9,\"wind_from_direction\":211.2,\"wind_speed\":10.0}},\"next_12_hours\":{\"summary\":{\"symbol_code\":\"snow\"},\"details\":{}},\"next_6_hours\":{\"summary\":{\"symbol_code\":\"rain\"},\"details\":{\"precipitation_amount\":4.2}}}},{\"time\":\"2023-12-18T12:00:00Z\",\"data\":{\"instant\":{\"details\":{\"air_pressure_at_sea_level\":1006.3,\"air_temperature\":5.8,\"cloud_area_fraction\":100.0,\"relative_humidity\":94.9,\"wind_from_direction\":202.7,\"wind_speed\":11.2}},\"next_12_hours\":{\"summary\":{\"symbol_code\":\"snow\"},\"details\":{}},\"next_6_hours\":{\"summary\":{\"symbol_code\":\"rain\"},\"details\":{\"precipitation_amount\":3.1}}}},{\"time\":\"2023-12-18T18:00:00Z\",\"data\":{\"instant\":{\"details\":{\"air_pressure_at_sea_level\":1002.4,\"air_temperature\":6.1,\"cloud_area_fraction\":100.0,\"relative_humidity\":95.2,\"wind_from_direction\":245.2,\"wind_speed\":12.4}},\"next_12_hours\":{\"summary\":{\"symbol_code\":\"snow\"},\"details\":{}},\"next_6_hours\":{\"summary\":{\"symbol_code\":\"rain\"},\"details\":{\"precipitation_amount\":4.0}}}},{\"time\":\"2023-12-19T00:00:00Z\",\"data\":{\"instant\":{\"details\":{\"air_pressure_at_sea_level\":998.6,\"air_temperature\":5.4,\"cloud_area_fraction\":100.0,\"relative_humidity\":94.9,\"wind_from_direction\":242.8,\"wind_speed\":12.4}},\"next_12_hours\":{\"summary\":{\"symbol_code\":\"lightsnow\"},\"details\":{}},\"next_6_hours\":{\"summary\":{\"symbol_code\":\"heavyrain\"},\"details\":{\"precipitation_amount\":5.8}}}},{\"time\":\"2023-12-19T06:00:00Z\",\"data\":{\"instant\":{\"details\":{\"air_pressure_at_sea_level\":995.7,\"air_temperature\":4.1,\"cloud_area_fraction\":100.0,\"relative_humidity\":93.7,\"wind_from_direction\":250.6,\"wind_speed\":13.6}},\"next_12_hours\":{\"summary\":{\"symbol_code\":\"lightsnow\"},\"details\":{}},\"next_6_hours\":{\"summary\":{\"symbol_code\":\"cloudy\"},\"details\":{\"precipitation_amount\":0.0}}}},{\"time\":\"2023-12-19T12:00:00Z\",\"data\":{\"instant\":{\"details\":{\"air_pressure_at_sea_level\":1000.1,\"air_temperature\":2.7,\"cloud_area_fraction\":100.0,\"relative_humidity\":94.0,\"wind_from_direction\":244.6,\"wind_speed\":13.6}},\"next_12_hours\":{\"summary\":{\"symbol_code\":\"snow\"},\"details\":{}},\"next_6_hours\":{\"summary\":{\"symbol_code\":\"rain\"},\"details\":{\"precipitation_amount\":3.8}}}},{\"time\":\"2023-12-19T18:00:00Z\",\"data\":{\"instant\":{\"details\":{\"air_pressure_at_sea_level\":1000.8,\"air_temperature\":2.1,\"cloud_area_fraction\":100.0,\"relative_humidity\":93.3,\"wind_from_direction\":256.5,\"wind_speed\":13.1}},\"next_12_hours\":{\"summary\":{\"symbol_code\":\"snow\"},\"details\":{}},\"next_6_hours\":{\"summary\":{\"symbol_code\":\"rain\"},\"details\":{\"precipitation_amount\":4.0}}}},{\"time\":\"2023-12-20T00:00:00Z\",\"data\":{\"instant\":{\"details\":{\"air_pressure_at_sea_level\":1004.1,\"air_temperature\":2.0,\"cloud_area_fraction\":100.0,\"relative_humidity\":93.9,\"wind_from_direction\":259.3,\"wind_speed\":11.8}},\"next_12_hours\":{\"summary\":{\"symbol_code\":\"snow\"},\"details\":{}},\"next_6_hours\":{\"summary\":{\"symbol_code\":\"sleet\"},\"details\":{\"precipitation_amount\":3.6}}}},{\"time\":\"2023-12-20T06:00:00Z\",\"data\":{\"instant\":{\"details\":{\"air_pressure_at_sea_level\":1006.3,\"air_temperature\":2.2,\"cloud_area_fraction\":100.0,\"relative_humidity\":92.8,\"wind_from_direction\":282.0,\"wind_speed\":12.7}},\"next_12_hours\":{\"summary\":{\"symbol_code\":\"lightsnow\"},\"details\":{}},\"next_6_hours\":{\"summary\":{\"symbol_code\":\"sleet\"},\"details\":{\"precipitation_amount\":3.5}}}},{\"time\":\"2023-12-20T12:00:00Z\",\"data\":{\"instant\":{\"details\":{\"air_pressure_at_sea_level\":1010.2,\"air_temperature\":1.9,\"cloud_area_fraction\":100.0,\"relative_humidity\":93.9,\"wind_from_direction\":257.6,\"wind_speed\":12.5}},\"next_12_hours\":{\"summary\":{\"symbol_code\":\"lightsnow\"},\"details\":{}},\"next_6_hours\":{\"summary\":{\"symbol_code\":\"cloudy\"},\"details\":{\"precipitation_amount\":0.0}}}},{\"time\":\"2023-12-20T18:00:00Z\",\"data\":{\"instant\":{\"details\":{\"air_pressure_at_sea_level\":1013.0,\"air_temperature\":1.6,\"cloud_area_fraction\":100.0,\"relative_humidity\":93.1,\"wind_from_direction\":251.6,\"wind_speed\":11.4}},\"next_12_hours\":{\"summary\":{\"symbol_code\":\"snow\"},\"details\":{}},\"next_6_hours\":{\"summary\":{\"symbol_code\":\"rain\"},\"details\":{\"precipitation_amount\":2.9}}}},{\"time\":\"2023-12-21T00:00:00Z\",\"data\":{\"instant\":{\"details\":{\"air_pressure_at_sea_level\":1008.2,\"air_temperature\":2.3,\"cloud_area_fraction\":100.0,\"relative_humidity\":93.9,\"wind_from_direction\":211.4,\"wind_speed\":8.8}},\"next_6_hours\":{\"summary\":{\"symbol_code\":\"rain\"},\"details\":{\"precipitation_amount\":2.6}}}},{\"time\":\"2023-12-21T06:00:00Z\",\"data\":{\"instant\":{\"details\":{\"air_pressure_at_sea_level\":1005.8,\"air_temperature\":2.9,\"cloud_area_fraction\":100.0,\"relative_humidity\":93.0,\"wind_from_direction\":246.6,\"wind_speed\":9.3}}}}]}}}')\n"
     ]
    }
   ],
   "source": [
    "pprint(kvitenova_forecast.json_string)"
   ]
  },
  {
   "cell_type": "code",
   "execution_count": 55,
   "metadata": {},
   "outputs": [
    {
     "name": "stdout",
     "output_type": "stream",
     "text": [
      "dict_keys(['air_pressure_at_sea_level', 'air_temperature', 'cloud_area_fraction', 'relative_humidity', 'wind_from_direction', 'wind_speed', 'precipitation_amount'])\n",
      "dict_keys(['air_pressure_at_sea_level', 'air_temperature', 'cloud_area_fraction', 'relative_humidity', 'wind_from_direction', 'wind_speed', 'precipitation_amount'])\n",
      "dict_keys(['air_pressure_at_sea_level', 'air_temperature', 'cloud_area_fraction', 'relative_humidity', 'wind_from_direction', 'wind_speed', 'precipitation_amount'])\n",
      "dict_keys(['air_pressure_at_sea_level', 'air_temperature', 'cloud_area_fraction', 'relative_humidity', 'wind_from_direction', 'wind_speed', 'precipitation_amount'])\n",
      "dict_keys(['air_pressure_at_sea_level', 'air_temperature', 'cloud_area_fraction', 'relative_humidity', 'wind_from_direction', 'wind_speed', 'precipitation_amount'])\n",
      "dict_keys(['air_pressure_at_sea_level', 'air_temperature', 'cloud_area_fraction', 'relative_humidity', 'wind_from_direction', 'wind_speed', 'precipitation_amount'])\n",
      "dict_keys(['air_pressure_at_sea_level', 'air_temperature', 'cloud_area_fraction', 'relative_humidity', 'wind_from_direction', 'wind_speed', 'precipitation_amount'])\n",
      "dict_keys(['air_pressure_at_sea_level', 'air_temperature', 'cloud_area_fraction', 'relative_humidity', 'wind_from_direction', 'wind_speed', 'precipitation_amount'])\n",
      "dict_keys(['air_pressure_at_sea_level', 'air_temperature', 'cloud_area_fraction', 'relative_humidity', 'wind_from_direction', 'wind_speed', 'precipitation_amount'])\n",
      "dict_keys(['air_pressure_at_sea_level', 'air_temperature', 'cloud_area_fraction', 'relative_humidity', 'wind_from_direction', 'wind_speed', 'precipitation_amount'])\n",
      "dict_keys(['air_pressure_at_sea_level', 'air_temperature', 'cloud_area_fraction', 'relative_humidity', 'wind_from_direction', 'wind_speed', 'precipitation_amount'])\n",
      "dict_keys(['air_pressure_at_sea_level', 'air_temperature', 'cloud_area_fraction', 'relative_humidity', 'wind_from_direction', 'wind_speed', 'precipitation_amount'])\n",
      "dict_keys(['air_pressure_at_sea_level', 'air_temperature', 'cloud_area_fraction', 'relative_humidity', 'wind_from_direction', 'wind_speed', 'precipitation_amount'])\n",
      "dict_keys(['air_pressure_at_sea_level', 'air_temperature', 'cloud_area_fraction', 'relative_humidity', 'wind_from_direction', 'wind_speed', 'precipitation_amount'])\n",
      "dict_keys(['air_pressure_at_sea_level', 'air_temperature', 'cloud_area_fraction', 'relative_humidity', 'wind_from_direction', 'wind_speed', 'precipitation_amount'])\n",
      "dict_keys(['air_pressure_at_sea_level', 'air_temperature', 'cloud_area_fraction', 'relative_humidity', 'wind_from_direction', 'wind_speed', 'precipitation_amount'])\n",
      "dict_keys(['air_pressure_at_sea_level', 'air_temperature', 'cloud_area_fraction', 'relative_humidity', 'wind_from_direction', 'wind_speed', 'precipitation_amount'])\n",
      "dict_keys(['air_pressure_at_sea_level', 'air_temperature', 'cloud_area_fraction', 'relative_humidity', 'wind_from_direction', 'wind_speed', 'precipitation_amount'])\n",
      "dict_keys(['air_pressure_at_sea_level', 'air_temperature', 'cloud_area_fraction', 'relative_humidity', 'wind_from_direction', 'wind_speed', 'precipitation_amount'])\n",
      "dict_keys(['air_pressure_at_sea_level', 'air_temperature', 'cloud_area_fraction', 'relative_humidity', 'wind_from_direction', 'wind_speed', 'precipitation_amount'])\n",
      "dict_keys(['air_pressure_at_sea_level', 'air_temperature', 'cloud_area_fraction', 'relative_humidity', 'wind_from_direction', 'wind_speed', 'precipitation_amount'])\n",
      "dict_keys(['air_pressure_at_sea_level', 'air_temperature', 'cloud_area_fraction', 'relative_humidity', 'wind_from_direction', 'wind_speed', 'precipitation_amount'])\n",
      "dict_keys(['air_pressure_at_sea_level', 'air_temperature', 'cloud_area_fraction', 'relative_humidity', 'wind_from_direction', 'wind_speed', 'precipitation_amount'])\n",
      "dict_keys(['air_pressure_at_sea_level', 'air_temperature', 'cloud_area_fraction', 'relative_humidity', 'wind_from_direction', 'wind_speed', 'precipitation_amount'])\n",
      "dict_keys(['air_pressure_at_sea_level', 'air_temperature', 'cloud_area_fraction', 'relative_humidity', 'wind_from_direction', 'wind_speed', 'precipitation_amount'])\n",
      "dict_keys(['air_pressure_at_sea_level', 'air_temperature', 'cloud_area_fraction', 'relative_humidity', 'wind_from_direction', 'wind_speed', 'precipitation_amount'])\n",
      "dict_keys(['air_pressure_at_sea_level', 'air_temperature', 'cloud_area_fraction', 'relative_humidity', 'wind_from_direction', 'wind_speed', 'precipitation_amount'])\n",
      "dict_keys(['air_pressure_at_sea_level', 'air_temperature', 'cloud_area_fraction', 'relative_humidity', 'wind_from_direction', 'wind_speed', 'precipitation_amount'])\n",
      "dict_keys(['air_pressure_at_sea_level', 'air_temperature', 'cloud_area_fraction', 'relative_humidity', 'wind_from_direction', 'wind_speed', 'precipitation_amount'])\n",
      "dict_keys(['air_pressure_at_sea_level', 'air_temperature', 'cloud_area_fraction', 'relative_humidity', 'wind_from_direction', 'wind_speed', 'precipitation_amount'])\n",
      "dict_keys(['air_pressure_at_sea_level', 'air_temperature', 'cloud_area_fraction', 'relative_humidity', 'wind_from_direction', 'wind_speed', 'precipitation_amount'])\n",
      "dict_keys(['air_pressure_at_sea_level', 'air_temperature', 'cloud_area_fraction', 'relative_humidity', 'wind_from_direction', 'wind_speed', 'precipitation_amount'])\n",
      "dict_keys(['air_pressure_at_sea_level', 'air_temperature', 'cloud_area_fraction', 'relative_humidity', 'wind_from_direction', 'wind_speed', 'precipitation_amount'])\n",
      "dict_keys(['air_pressure_at_sea_level', 'air_temperature', 'cloud_area_fraction', 'relative_humidity', 'wind_from_direction', 'wind_speed', 'precipitation_amount'])\n",
      "dict_keys(['air_pressure_at_sea_level', 'air_temperature', 'cloud_area_fraction', 'relative_humidity', 'wind_from_direction', 'wind_speed', 'precipitation_amount'])\n",
      "dict_keys(['air_pressure_at_sea_level', 'air_temperature', 'cloud_area_fraction', 'relative_humidity', 'wind_from_direction', 'wind_speed', 'precipitation_amount'])\n",
      "dict_keys(['air_pressure_at_sea_level', 'air_temperature', 'cloud_area_fraction', 'relative_humidity', 'wind_from_direction', 'wind_speed', 'precipitation_amount'])\n",
      "dict_keys(['air_pressure_at_sea_level', 'air_temperature', 'cloud_area_fraction', 'relative_humidity', 'wind_from_direction', 'wind_speed', 'precipitation_amount'])\n",
      "dict_keys(['air_pressure_at_sea_level', 'air_temperature', 'cloud_area_fraction', 'relative_humidity', 'wind_from_direction', 'wind_speed', 'precipitation_amount'])\n",
      "dict_keys(['air_pressure_at_sea_level', 'air_temperature', 'cloud_area_fraction', 'relative_humidity', 'wind_from_direction', 'wind_speed', 'precipitation_amount'])\n",
      "dict_keys(['air_pressure_at_sea_level', 'air_temperature', 'cloud_area_fraction', 'relative_humidity', 'wind_from_direction', 'wind_speed', 'precipitation_amount'])\n",
      "dict_keys(['air_pressure_at_sea_level', 'air_temperature', 'cloud_area_fraction', 'relative_humidity', 'wind_from_direction', 'wind_speed', 'precipitation_amount'])\n",
      "dict_keys(['air_pressure_at_sea_level', 'air_temperature', 'cloud_area_fraction', 'relative_humidity', 'wind_from_direction', 'wind_speed', 'precipitation_amount'])\n",
      "dict_keys(['air_pressure_at_sea_level', 'air_temperature', 'cloud_area_fraction', 'relative_humidity', 'wind_from_direction', 'wind_speed', 'precipitation_amount'])\n",
      "dict_keys(['air_pressure_at_sea_level', 'air_temperature', 'cloud_area_fraction', 'relative_humidity', 'wind_from_direction', 'wind_speed', 'precipitation_amount'])\n",
      "dict_keys(['air_pressure_at_sea_level', 'air_temperature', 'cloud_area_fraction', 'relative_humidity', 'wind_from_direction', 'wind_speed', 'precipitation_amount'])\n",
      "dict_keys(['air_pressure_at_sea_level', 'air_temperature', 'cloud_area_fraction', 'relative_humidity', 'wind_from_direction', 'wind_speed', 'precipitation_amount'])\n",
      "dict_keys(['air_pressure_at_sea_level', 'air_temperature', 'cloud_area_fraction', 'relative_humidity', 'wind_from_direction', 'wind_speed', 'precipitation_amount'])\n",
      "dict_keys(['air_pressure_at_sea_level', 'air_temperature', 'cloud_area_fraction', 'relative_humidity', 'wind_from_direction', 'wind_speed', 'precipitation_amount'])\n",
      "dict_keys(['air_pressure_at_sea_level', 'air_temperature', 'cloud_area_fraction', 'relative_humidity', 'wind_from_direction', 'wind_speed', 'precipitation_amount'])\n",
      "dict_keys(['air_pressure_at_sea_level', 'air_temperature', 'cloud_area_fraction', 'relative_humidity', 'wind_from_direction', 'wind_speed', 'precipitation_amount'])\n",
      "dict_keys(['air_pressure_at_sea_level', 'air_temperature', 'cloud_area_fraction', 'relative_humidity', 'wind_from_direction', 'wind_speed', 'precipitation_amount'])\n",
      "dict_keys(['air_pressure_at_sea_level', 'air_temperature', 'cloud_area_fraction', 'relative_humidity', 'wind_from_direction', 'wind_speed', 'precipitation_amount'])\n",
      "dict_keys(['air_pressure_at_sea_level', 'air_temperature', 'cloud_area_fraction', 'relative_humidity', 'wind_from_direction', 'wind_speed', 'precipitation_amount'])\n",
      "dict_keys(['air_pressure_at_sea_level', 'air_temperature', 'cloud_area_fraction', 'relative_humidity', 'wind_from_direction', 'wind_speed', 'precipitation_amount'])\n",
      "dict_keys(['air_pressure_at_sea_level', 'air_temperature', 'cloud_area_fraction', 'relative_humidity', 'wind_from_direction', 'wind_speed', 'precipitation_amount'])\n",
      "dict_keys(['air_pressure_at_sea_level', 'air_temperature', 'cloud_area_fraction', 'relative_humidity', 'wind_from_direction', 'wind_speed', 'precipitation_amount'])\n",
      "dict_keys(['air_pressure_at_sea_level', 'air_temperature', 'cloud_area_fraction', 'relative_humidity', 'wind_from_direction', 'wind_speed', 'precipitation_amount'])\n",
      "dict_keys(['air_pressure_at_sea_level', 'air_temperature', 'cloud_area_fraction', 'relative_humidity', 'wind_from_direction', 'wind_speed', 'precipitation_amount'])\n",
      "dict_keys(['air_pressure_at_sea_level', 'air_temperature', 'cloud_area_fraction', 'relative_humidity', 'wind_from_direction', 'wind_speed', 'precipitation_amount'])\n",
      "dict_keys(['air_pressure_at_sea_level', 'air_temperature', 'cloud_area_fraction', 'relative_humidity', 'wind_from_direction', 'wind_speed', 'precipitation_amount'])\n",
      "dict_keys(['air_pressure_at_sea_level', 'air_temperature', 'cloud_area_fraction', 'relative_humidity', 'wind_from_direction', 'wind_speed', 'precipitation_amount'])\n",
      "dict_keys(['air_pressure_at_sea_level', 'air_temperature', 'cloud_area_fraction', 'relative_humidity', 'wind_from_direction', 'wind_speed', 'precipitation_amount'])\n",
      "dict_keys(['air_pressure_at_sea_level', 'air_temperature', 'cloud_area_fraction', 'relative_humidity', 'wind_from_direction', 'wind_speed', 'precipitation_amount'])\n",
      "dict_keys(['air_pressure_at_sea_level', 'air_temperature', 'cloud_area_fraction', 'relative_humidity', 'wind_from_direction', 'wind_speed', 'precipitation_amount'])\n",
      "dict_keys(['air_pressure_at_sea_level', 'air_temperature', 'cloud_area_fraction', 'relative_humidity', 'wind_from_direction', 'wind_speed', 'precipitation_amount'])\n",
      "dict_keys(['air_pressure_at_sea_level', 'air_temperature', 'cloud_area_fraction', 'relative_humidity', 'wind_from_direction', 'wind_speed', 'precipitation_amount'])\n",
      "dict_keys(['air_pressure_at_sea_level', 'air_temperature', 'cloud_area_fraction', 'relative_humidity', 'wind_from_direction', 'wind_speed', 'precipitation_amount'])\n",
      "dict_keys(['air_pressure_at_sea_level', 'air_temperature', 'cloud_area_fraction', 'relative_humidity', 'wind_from_direction', 'wind_speed', 'precipitation_amount'])\n",
      "dict_keys(['air_pressure_at_sea_level', 'air_temperature', 'cloud_area_fraction', 'relative_humidity', 'wind_from_direction', 'wind_speed', 'precipitation_amount'])\n",
      "dict_keys(['air_pressure_at_sea_level', 'air_temperature', 'cloud_area_fraction', 'relative_humidity', 'wind_from_direction', 'wind_speed', 'precipitation_amount'])\n",
      "dict_keys(['air_pressure_at_sea_level', 'air_temperature', 'cloud_area_fraction', 'relative_humidity', 'wind_from_direction', 'wind_speed', 'precipitation_amount'])\n",
      "dict_keys(['air_pressure_at_sea_level', 'air_temperature', 'cloud_area_fraction', 'relative_humidity', 'wind_from_direction', 'wind_speed', 'precipitation_amount'])\n",
      "dict_keys(['air_pressure_at_sea_level', 'air_temperature', 'cloud_area_fraction', 'relative_humidity', 'wind_from_direction', 'wind_speed', 'precipitation_amount'])\n",
      "dict_keys(['air_pressure_at_sea_level', 'air_temperature', 'cloud_area_fraction', 'relative_humidity', 'wind_from_direction', 'wind_speed', 'precipitation_amount'])\n",
      "dict_keys(['air_pressure_at_sea_level', 'air_temperature', 'cloud_area_fraction', 'relative_humidity', 'wind_from_direction', 'wind_speed', 'precipitation_amount'])\n",
      "dict_keys(['air_pressure_at_sea_level', 'air_temperature', 'cloud_area_fraction', 'relative_humidity', 'wind_from_direction', 'wind_speed', 'precipitation_amount'])\n",
      "dict_keys(['air_pressure_at_sea_level', 'air_temperature', 'cloud_area_fraction', 'relative_humidity', 'wind_from_direction', 'wind_speed', 'precipitation_amount'])\n",
      "dict_keys(['air_pressure_at_sea_level', 'air_temperature', 'cloud_area_fraction', 'relative_humidity', 'wind_from_direction', 'wind_speed', 'precipitation_amount'])\n",
      "dict_keys(['air_pressure_at_sea_level', 'air_temperature', 'cloud_area_fraction', 'relative_humidity', 'wind_from_direction', 'wind_speed', 'precipitation_amount'])\n",
      "dict_keys(['air_pressure_at_sea_level', 'air_temperature', 'cloud_area_fraction', 'relative_humidity', 'wind_from_direction', 'wind_speed', 'precipitation_amount'])\n",
      "dict_keys(['air_pressure_at_sea_level', 'air_temperature', 'cloud_area_fraction', 'relative_humidity', 'wind_from_direction', 'wind_speed', 'precipitation_amount'])\n",
      "dict_keys(['air_pressure_at_sea_level', 'air_temperature', 'cloud_area_fraction', 'relative_humidity', 'wind_from_direction', 'wind_speed'])\n"
     ]
    }
   ],
   "source": [
    "tidspunkt_temp = []\n",
    "tidspunkt_nedbor = []\n",
    "temperatur = []\n",
    "nedbor = []\n",
    "for i in kvitenova_forecast.data.intervals:\n",
    "    print(i.variables.keys())\n",
    "    try:\n",
    "        temperatur.append(i.variables['air_temperature'].value)\n",
    "        tidspunkt_temp.append(i.start_time)\n",
    "    except:\n",
    "        continue\n",
    "    try:\n",
    "        nedbor.append(i.variables['precipitation_amount'].value)\n",
    "        tidspunkt_nedbor.append(i.start_time)\n",
    "    except:\n",
    "        continue\n",
    "\n",
    "\n"
   ]
  },
  {
   "cell_type": "code",
   "execution_count": 59,
   "metadata": {},
   "outputs": [
    {
     "data": {
      "image/png": "[encoded data removed]",
      "text/plain": [
       "<Figure size 640x480 with 1 Axes>"
      ]
     },
     "metadata": {},
     "output_type": "display_data"
    }
   ],
   "source": [
    "plt.plot(tidspunkt_temp, temperatur)\n",
    "plt.bar(tidspunkt_nedbor, nedbor)\n",
    "plt.show()"
   ]
  },
  {
   "cell_type": "code",
   "execution_count": 60,
   "metadata": {},
   "outputs": [],
   "source": [
    "from regobslib import *"
   ]
  },
  {
   "cell_type": "code",
   "execution_count": 61,
   "metadata": {},
   "outputs": [
    {
     "name": "stdout",
     "output_type": "stream",
     "text": [
      "Length of results: 3147\n",
      "\n",
      "First result\n",
      "{'avalanche_activities': [{'avalanche_type': 0,\n",
      "                           'comment': None,\n",
      "                           'distribution': 0,\n",
      "                           'elevation': {'elev_max': 0,\n",
      "                                         'elev_min': 0,\n",
      "                                         'format': 0},\n",
      "                           'end': None,\n",
      "                           'expositions': None,\n",
      "                           'quantity': <Quantity.NO_ACTIVITY: 1>,\n",
      "                           'sensitivity': 0,\n",
      "                           'size': 0,\n",
      "                           'start': None}],\n",
      " 'avalanche_obs': None,\n",
      " 'avalanche_problems': [],\n",
      " 'compression_tests': [],\n",
      " 'danger_assessment': {'comment': None,\n",
      "                       'danger_assessment': 'Liten skredfare (vurdert fra '\n",
      "                                            'veg). Lite snø . ',\n",
      "                       'danger_development': 'Uforandret skredfare neste '\n",
      "                                             'døgn. ',\n",
      "                       'danger_level': <DangerLevel.ONE_LOW: 1>,\n",
      "                       'forecast_evaluation': 0},\n",
      " 'danger_signs': [{'comment': None, 'sign': <Sign.NO_SIGNS: 1>}],\n",
      " 'id': 358383,\n",
      " 'images': {},\n",
      " 'incident': None,\n",
      " 'note': None,\n",
      " 'obs_time': datetime.datetime(2023, 12, 11, 14, 6, tzinfo=datetime.timezone(datetime.timedelta(seconds=3600))),\n",
      " 'observer': {'competence': <Competence.UNKNOWN: 0>,\n",
      "              'group_id': 139,\n",
      "              'group_name': 'SVV drift',\n",
      "              'id': 42503,\n",
      "              'nickname': 'vegdrift@vegvesen'},\n",
      " 'position': {'lat': 68.4809279341,\n",
      "              'lon': 17.9794858667,\n",
      "              'region': <SnowRegion.OFOTEN: 3015>},\n",
      " 'snow_cover': None,\n",
      " 'snow_profile': None,\n",
      " 'source': 0,\n",
      " 'spatial_precision': None,\n",
      " 'weather': {'air_temp': -11.0,\n",
      "             'cloud_cover_percent': None,\n",
      "             'comment': 'Urdalen  (300moh) kl 14:07 ',\n",
      "             'precipitation': <Precipitation.NO_PRECIPITATION: 1>,\n",
      "             'wind_dir': None,\n",
      "             'wind_speed': None}}\n",
      "\n",
      "Iterates over results\n",
      "Id: 358383, Observer: vegdrift@vegvesen, Date: 2023-12-11 14:06:00+01:00\n",
      "Id: 358245, Observer: tuh@nve, Date: 2023-12-10 11:15:46+01:00\n",
      "Id: 358224, Observer: vegdrift@vegvesen, Date: 2023-12-10 08:40:00+01:00\n",
      "Id: 358178, Observer: vegdrift@vegvesen, Date: 2023-12-09 18:52:00+01:00\n",
      "Id: 358185, Observer: widforss@nve, Date: 2023-12-09 16:37:16+01:00\n",
      "Id: 358135, Observer: tuh@nve, Date: 2023-12-09 13:02:04+01:00\n",
      "Id: 358087, Observer: jan arild@obskorps, Date: 2023-12-09 09:33:12+01:00\n",
      "Id: 357980, Observer: vegdrift@vegvesen, Date: 2023-12-08 09:09:00+01:00\n",
      "Id: 357882, Observer: vegdrift@vegvesen, Date: 2023-12-07 10:51:00+01:00\n",
      "Id: 357773, Observer: tuh@nve, Date: 2023-12-06 11:44:18+01:00\n",
      "Id: 357766, Observer: jan arild@obskorps, Date: 2023-12-06 11:23:44+01:00\n",
      "Id: 357798, Observer: tuh@nve, Date: 2023-12-06 09:41:43+01:00\n",
      "Id: 357730, Observer: jan arild@obskorps, Date: 2023-12-06 09:23:34+01:00\n",
      "Id: 357728, Observer: tuh@nve, Date: 2023-12-06 08:47:02+01:00\n",
      "Id: 357604, Observer: vegdrift@vegvesen, Date: 2023-12-05 10:16:00+01:00\n",
      "Id: 357526, Observer: widforss@nve, Date: 2023-12-04 17:10:00+01:00\n",
      "Id: 356972, Observer: jan arild@obskorps, Date: 2023-11-30 12:39:47+01:00\n",
      "Id: 356843, Observer: Kaj@obskorps, Date: 2023-11-29 11:52:19+01:00\n",
      "Id: 356776, Observer: jan arild@obskorps, Date: 2023-11-28 20:14:59+01:00\n",
      "Id: 356757, Observer: Linn, Date: 2023-11-28 10:59:27+01:00\n",
      "Id: 356690, Observer: Marius@obskorps, Date: 2023-11-27 20:56:00+01:00\n",
      "Id: 356637, Observer: jan arild@obskorps, Date: 2023-11-27 10:45:09+01:00\n",
      "Id: 356420, Observer: tuh@nve, Date: 2023-11-24 15:12:29+01:00\n",
      "Id: 356404, Observer: jan arild@obskorps, Date: 2023-11-24 12:08:37+01:00\n",
      "Id: 356244, Observer: vegdrift@vegvesen, Date: 2023-11-22 14:46:00+01:00\n",
      "Id: 356175, Observer: jan arild@obskorps, Date: 2023-11-21 18:15:21+01:00\n",
      "Id: 356103, Observer: widforss@nve, Date: 2023-11-19 12:00:00+01:00\n",
      "Id: 355950, Observer: calle@obskorps, Date: 2023-11-19 10:46:06+01:00\n",
      "Id: 353453, Observer: jan arild@obskorps, Date: 2023-10-05 22:21:23+02:00\n",
      "Id: 350867, Observer: widforss@nve, Date: 2023-06-04 12:52:21+02:00\n",
      "Id: 349527, Observer: Marius@obskorps, Date: 2023-05-29 17:53:40+02:00\n",
      "Id: 349526, Observer: Kaj@obskorps, Date: 2023-05-29 13:16:18+02:00\n",
      "Id: 349401, Observer: Kaj@obskorps, Date: 2023-05-27 11:48:31+02:00\n",
      "Id: 348018, Observer: Marius@obskorps, Date: 2023-05-23 23:15:51+02:00\n",
      "Id: 346886, Observer: Kaj@obskorps, Date: 2023-05-22 10:23:29+02:00\n",
      "Id: 346580, Observer: Marius@obskorps, Date: 2023-05-18 23:27:20+02:00\n",
      "Id: 346565, Observer: Kaj@obskorps, Date: 2023-05-18 12:30:00+02:00\n",
      "Id: 346235, Observer: jan arild@obskorps, Date: 2023-05-15 20:43:14+02:00\n",
      "Id: 346233, Observer: Kaj@obskorps, Date: 2023-05-15 14:19:06+02:00\n",
      "Id: 346112, Observer: tuh@nve, Date: 2023-05-14 16:10:41+02:00\n",
      "Id: 345823, Observer: Marius@obskorps, Date: 2023-05-11 22:37:44+02:00\n",
      "Id: 345667, Observer: Kaj@obskorps, Date: 2023-05-10 11:41:20+02:00\n",
      "Id: 345427, Observer: Kaj@obskorps, Date: 2023-05-08 12:15:58+02:00\n",
      "Id: 345362, Observer: Kaj@obskorps, Date: 2023-05-08 07:36:54+02:00\n",
      "Id: 345333, Observer: Marius@obskorps, Date: 2023-05-07 22:42:08+02:00\n",
      "Id: 345321, Observer: Kaj@obskorps, Date: 2023-05-07 15:00:00+02:00\n",
      "Id: 345114, Observer: Kaj@obskorps, Date: 2023-05-05 12:17:58+02:00\n",
      "Id: 345104, Observer: Thomas BN, Date: 2023-05-05 10:00:00+02:00\n",
      "Id: 346823, Observer: widforss@nve, Date: 2023-05-04 16:17:00+02:00\n",
      "Id: 344982, Observer: Kaj@obskorps, Date: 2023-05-04 12:30:40+02:00\n",
      "Id: 344716, Observer: Kaj@obskorps, Date: 2023-05-02 17:00:00+02:00\n",
      "Id: 344581, Observer: Kaj@obskorps, Date: 2023-05-01 12:30:54+02:00\n",
      "Id: 344490, Observer: vegdrift@vegvesen, Date: 2023-04-30 20:23:00+02:00\n",
      "Id: 344495, Observer: tuh@nve, Date: 2023-04-30 18:31:50+02:00\n",
      "Id: 344552, Observer: vegdrift@vegvesen, Date: 2023-04-30 10:38:00+02:00\n",
      "Id: 344416, Observer: vegdrift@vegvesen, Date: 2023-04-30 10:36:00+02:00\n",
      "Id: 344332, Observer: vegdrift@vegvesen, Date: 2023-04-29 12:54:00+02:00\n",
      "Id: 344309, Observer: vegdrift@vegvesen, Date: 2023-04-29 10:39:00+02:00\n",
      "Id: 344294, Observer: tuh@nve, Date: 2023-04-29 07:42:16+02:00\n",
      "Id: 344292, Observer: vegdrift@vegvesen, Date: 2023-04-29 06:29:00+02:00\n",
      "Id: 344238, Observer: vegdrift@vegvesen, Date: 2023-04-28 14:33:00+02:00\n",
      "Id: 344181, Observer: vegdrift@vegvesen, Date: 2023-04-28 10:30:00+02:00\n",
      "Id: 344088, Observer: Marius@obskorps, Date: 2023-04-27 18:25:07+02:00\n",
      "Id: 344085, Observer: vegdrift@vegvesen, Date: 2023-04-27 17:34:00+02:00\n",
      "Id: 344068, Observer: Kaj@obskorps, Date: 2023-04-27 12:00:00+02:00\n",
      "Id: 343902, Observer: vegdrift@vegvesen, Date: 2023-04-26 11:44:00+02:00\n",
      "Id: 343859, Observer: vegdrift@vegvesen, Date: 2023-04-26 08:12:00+02:00\n",
      "Id: 343855, Observer: vegdrift@vegvesen, Date: 2023-04-26 07:40:00+02:00\n",
      "Id: 343811, Observer: outsei, Date: 2023-04-25 16:58:38+02:00\n",
      "Id: 343807, Observer: vegdrift@vegvesen, Date: 2023-04-25 15:59:00+02:00\n",
      "Id: 343770, Observer: vegdrift@vegvesen, Date: 2023-04-25 12:32:00+02:00\n",
      "Id: 343818, Observer: Thomas BN, Date: 2023-04-25 10:05:00+02:00\n",
      "Id: 343901, Observer: vegdrift@vegvesen, Date: 2023-04-25 07:43:00+02:00\n",
      "Id: 343727, Observer: vegdrift@vegvesen, Date: 2023-04-25 07:23:00+02:00\n",
      "Id: 343695, Observer: vegdrift@vegvesen, Date: 2023-04-24 22:11:00+02:00\n",
      "Id: 343597, Observer: Kaj@obskorps, Date: 2023-04-24 12:38:29+02:00\n",
      "Id: 343681, Observer: vegdrift@vegvesen, Date: 2023-04-24 12:31:00+02:00\n",
      "Id: 343545, Observer: tuh@nve, Date: 2023-04-24 09:18:10+02:00\n",
      "Id: 343654, Observer: vegdrift@vegvesen, Date: 2023-04-24 08:45:00+02:00\n",
      "Id: 343462, Observer: Kaj@obskorps, Date: 2023-04-23 13:11:57+02:00\n",
      "Id: 343666, Observer: vegdrift@vegvesen, Date: 2023-04-23 11:09:00+02:00\n",
      "Id: 343669, Observer: vegdrift@vegvesen, Date: 2023-04-23 08:15:00+02:00\n",
      "Id: 343667, Observer: vegdrift@vegvesen, Date: 2023-04-23 00:00:00+02:00\n",
      "Id: 343371, Observer: Kaj@obskorps, Date: 2023-04-22 21:33:46+02:00\n",
      "Id: 343372, Observer: outsei, Date: 2023-04-22 16:30:24+02:00\n",
      "Id: 343664, Observer: vegdrift@vegvesen, Date: 2023-04-22 11:17:00+02:00\n",
      "Id: 343430, Observer: EB, Date: 2023-04-22 11:15:00+02:00\n",
      "Id: 343656, Observer: vegdrift@vegvesen, Date: 2023-04-22 10:37:00+02:00\n",
      "Id: 343657, Observer: vegdrift@vegvesen, Date: 2023-04-21 23:02:00+02:00\n",
      "Id: 343226, Observer: Kaj@obskorps, Date: 2023-04-21 14:00:00+02:00\n",
      "Id: 343197, Observer: vegdrift@vegvesen, Date: 2023-04-21 12:50:00+02:00\n",
      "Id: 343186, Observer: vegdrift@vegvesen, Date: 2023-04-21 12:13:00+02:00\n",
      "Id: 343126, Observer: vegdrift@vegvesen, Date: 2023-04-21 07:46:00+02:00\n",
      "Id: 343058, Observer: vegdrift@vegvesen, Date: 2023-04-20 14:13:00+02:00\n",
      "Id: 343054, Observer: vegdrift@vegvesen, Date: 2023-04-20 13:57:00+02:00\n",
      "Id: 343044, Observer: vegdrift@vegvesen, Date: 2023-04-20 13:06:00+02:00\n",
      "Id: 343030, Observer: vegdrift@vegvesen, Date: 2023-04-20 12:09:00+02:00\n",
      "Id: 342848, Observer: vegdrift@vegvesen, Date: 2023-04-19 08:34:00+02:00\n",
      "Id: 342839, Observer: vegdrift@vegvesen, Date: 2023-04-19 07:51:00+02:00\n",
      "Id: 342836, Observer: vegdrift@vegvesen, Date: 2023-04-19 07:33:00+02:00\n",
      "Id: 342776, Observer: vegdrift@vegvesen, Date: 2023-04-18 12:26:00+02:00\n",
      "Id: 342799, Observer: KRPE, Date: 2023-04-18 10:55:15+02:00\n",
      "Id: 342703, Observer: vegdrift@vegvesen, Date: 2023-04-18 07:46:00+02:00\n",
      "Id: 342838, Observer: vegdrift@vegvesen, Date: 2023-04-18 06:29:00+02:00\n",
      "Id: 342671, Observer: outsei, Date: 2023-04-17 17:25:00+02:00\n",
      "Id: 342592, Observer: jan arild@obskorps, Date: 2023-04-17 11:20:26+02:00\n",
      "Id: 342577, Observer: vegdrift@vegvesen, Date: 2023-04-17 10:26:00+02:00\n",
      "Id: 342555, Observer: vegdrift@vegvesen, Date: 2023-04-17 09:16:00+02:00\n",
      "Id: 342675, Observer: vegdrift@vegvesen, Date: 2023-04-17 07:56:00+02:00\n",
      "Id: 342541, Observer: vegdrift@vegvesen, Date: 2023-04-17 07:37:00+02:00\n",
      "Id: 342495, Observer: vegdrift@vegvesen, Date: 2023-04-16 18:44:00+02:00\n",
      "Id: 342486, Observer: vegdrift@vegvesen, Date: 2023-04-16 16:45:00+02:00\n",
      "Id: 342494, Observer: vegdrift@vegvesen, Date: 2023-04-15 18:43:00+02:00\n",
      "Id: 342390, Observer: tuh@nve, Date: 2023-04-15 14:46:58+02:00\n",
      "Id: 342317, Observer: vegdrift@vegvesen, Date: 2023-04-15 10:16:00+02:00\n",
      "Id: 342279, Observer: Matt, Date: 2023-04-14 22:05:45+02:00\n",
      "Id: 342213, Observer: jan arild@obskorps, Date: 2023-04-14 12:21:48+02:00\n",
      "Id: 342177, Observer: vegdrift@vegvesen, Date: 2023-04-14 10:03:00+02:00\n",
      "Id: 342150, Observer: vegdrift@vegvesen, Date: 2023-04-14 08:14:00+02:00\n",
      "Id: 342134, Observer: vegdrift@vegvesen, Date: 2023-04-14 07:11:00+02:00\n",
      "Id: 342130, Observer: vegdrift@vegvesen, Date: 2023-04-14 07:02:00+02:00\n",
      "Id: 342093, Observer: Marius@obskorps, Date: 2023-04-13 20:01:54+02:00\n",
      "Id: 342066, Observer: vegdrift@vegvesen, Date: 2023-04-13 14:40:00+02:00\n",
      "Id: 342059, Observer: vegdrift@vegvesen, Date: 2023-04-13 13:55:00+02:00\n",
      "Id: 342008, Observer: vegdrift@vegvesen, Date: 2023-04-13 10:25:00+02:00\n",
      "Id: 341977, Observer: vegdrift@vegvesen, Date: 2023-04-13 08:59:00+02:00\n",
      "Id: 341967, Observer: vegdrift@vegvesen, Date: 2023-04-13 07:23:00+02:00\n",
      "Id: 341907, Observer: vegdrift@vegvesen, Date: 2023-04-12 17:02:00+02:00\n",
      "Id: 341891, Observer: vegdrift@vegvesen, Date: 2023-04-12 15:06:00+02:00\n",
      "Id: 341841, Observer: vegdrift@vegvesen, Date: 2023-04-12 13:00:00+02:00\n",
      "Id: 341837, Observer: Kaj@obskorps, Date: 2023-04-12 10:08:50+02:00\n",
      "Id: 341748, Observer: vegdrift@vegvesen, Date: 2023-04-12 08:50:00+02:00\n",
      "Id: 340682, Observer: KRPE, Date: 2023-04-11 12:29:00+02:00\n",
      "Id: 340594, Observer: vegdrift@vegvesen, Date: 2023-04-11 11:26:00+02:00\n",
      "Id: 340587, Observer: vegdrift@vegvesen, Date: 2023-04-11 11:03:00+02:00\n",
      "Id: 340557, Observer: vegdrift@vegvesen, Date: 2023-04-11 09:44:00+02:00\n",
      "Id: 340536, Observer: vegdrift@vegvesen, Date: 2023-04-11 08:42:00+02:00\n",
      "Id: 340490, Observer: Marius@obskorps, Date: 2023-04-10 12:45:20+02:00\n",
      "Id: 340465, Observer: Kaj@obskorps, Date: 2023-04-10 12:00:00+02:00\n",
      "Id: 340399, Observer: vegdrift@vegvesen, Date: 2023-04-10 10:11:00+02:00\n",
      "Id: 340518, Observer: vegdrift@vegvesen, Date: 2023-04-10 07:17:00+02:00\n",
      "Id: 340320, Observer: vegdrift@vegvesen, Date: 2023-04-09 16:52:00+02:00\n",
      "Id: 340412, Observer: EB, Date: 2023-04-09 16:00:00+02:00\n",
      "Id: 340233, Observer: vegdrift@vegvesen, Date: 2023-04-09 09:19:00+02:00\n",
      "Id: 340105, Observer: vegdrift@vegvesen, Date: 2023-04-08 08:57:00+02:00\n",
      "Id: 340100, Observer: vegdrift@vegvesen, Date: 2023-04-08 08:45:00+02:00\n",
      "Id: 340104, Observer: vegdrift@vegvesen, Date: 2023-04-07 11:55:00+02:00\n",
      "Id: 340099, Observer: vegdrift@vegvesen, Date: 2023-04-07 08:44:00+02:00\n",
      "Id: 339911, Observer: Marius@obskorps, Date: 2023-04-06 15:43:08+02:00\n",
      "Id: 339847, Observer: vegdrift@vegvesen, Date: 2023-04-06 14:21:00+02:00\n",
      "Id: 340101, Observer: vegdrift@vegvesen, Date: 2023-04-06 08:47:00+02:00\n",
      "Id: 339655, Observer: vegdrift@vegvesen, Date: 2023-04-05 13:23:00+02:00\n",
      "Id: 339632, Observer: Kaj@obskorps, Date: 2023-04-05 10:40:44+02:00\n",
      "Id: 339555, Observer: vegdrift@vegvesen, Date: 2023-04-04 21:31:00+02:00\n",
      "Id: 339537, Observer: KRPE, Date: 2023-04-04 13:41:00+02:00\n",
      "Id: 339526, Observer: KRPE, Date: 2023-04-04 12:04:00+02:00\n",
      "Id: 339404, Observer: vegdrift@vegvesen, Date: 2023-04-04 07:24:00+02:00\n",
      "Id: 339299, Observer: vegdrift@vegvesen, Date: 2023-04-03 13:12:00+02:00\n",
      "Id: 339316, Observer: Kaj@obskorps, Date: 2023-04-03 12:45:19+02:00\n",
      "Id: 339169, Observer: Marius@obskorps, Date: 2023-04-02 20:42:28+02:00\n",
      "Id: 339052, Observer: vegdrift@vegvesen, Date: 2023-04-02 12:20:00+02:00\n",
      "Id: 339007, Observer: vegdrift@vegvesen, Date: 2023-04-02 09:53:00+02:00\n",
      "Id: 339000, Observer: vegdrift@vegvesen, Date: 2023-04-02 08:50:00+02:00\n",
      "Id: 338875, Observer: vegdrift@vegvesen, Date: 2023-04-01 14:24:00+02:00\n",
      "Id: 338863, Observer: vegdrift@vegvesen, Date: 2023-04-01 13:58:00+02:00\n",
      "Id: 338716, Observer: vegdrift@vegvesen, Date: 2023-03-31 21:54:00+02:00\n",
      "Id: 338707, Observer: tuh@nve, Date: 2023-03-31 18:14:43+02:00\n",
      "Id: 338717, Observer: vegdrift@vegvesen, Date: 2023-03-30 21:56:00+02:00\n",
      "Id: 338475, Observer: Kaj@obskorps, Date: 2023-03-30 18:10:00+02:00\n",
      "Id: 338256, Observer: Kaj@obskorps, Date: 2023-03-29 13:21:37+02:00\n",
      "Id: 338166, Observer: vegdrift@vegvesen, Date: 2023-03-29 07:51:00+02:00\n",
      "Id: 338128, Observer: Kaj@obskorps, Date: 2023-03-28 17:33:00+02:00\n",
      "Id: 338129, Observer: KRPE, Date: 2023-03-28 12:36:18+02:00\n",
      "Id: 338125, Observer: KRPE, Date: 2023-03-28 10:04:00+02:00\n",
      "Id: 337890, Observer: vegdrift@vegvesen, Date: 2023-03-27 13:13:00+02:00\n",
      "Id: 337905, Observer: Kaj@obskorps, Date: 2023-03-27 12:00:00+02:00\n",
      "Id: 337789, Observer: Marius@obskorps, Date: 2023-03-26 17:35:21+02:00\n",
      "Id: 337735, Observer: Kaj@obskorps, Date: 2023-03-26 12:00:00+02:00\n",
      "Id: 337673, Observer: Kaj@obskorps, Date: 2023-03-25 17:46:00+01:00\n",
      "Id: 337444, Observer: Kaj@obskorps, Date: 2023-03-24 13:38:47+01:00\n",
      "Id: 337091, Observer: KRPE, Date: 2023-03-22 18:00:00+01:00\n",
      "Id: 337137, Observer: vegdrift@vegvesen, Date: 2023-03-22 14:32:00+01:00\n",
      "Id: 337060, Observer: vegdrift@vegvesen, Date: 2023-03-22 14:32:00+01:00\n",
      "Id: 337097, Observer: KRPE, Date: 2023-03-22 13:31:59+01:00\n",
      "Id: 337101, Observer: KRPE, Date: 2023-03-22 12:34:00+01:00\n",
      "Id: 337028, Observer: vegdrift@vegvesen, Date: 2023-03-22 12:07:00+01:00\n",
      "Id: 337000, Observer: Kaj@obskorps, Date: 2023-03-22 10:16:30+01:00\n",
      "Id: 336976, Observer: vegdrift@vegvesen, Date: 2023-03-22 07:08:00+01:00\n",
      "Id: 336859, Observer: vegdrift@vegvesen, Date: 2023-03-21 12:12:00+01:00\n",
      "Id: 336848, Observer: vegdrift@vegvesen, Date: 2023-03-21 11:45:00+01:00\n",
      "Id: 336813, Observer: vegdrift@vegvesen, Date: 2023-03-21 10:52:00+01:00\n",
      "Id: 336721, Observer: widforss@nve, Date: 2023-03-20 18:00:00+01:00\n",
      "Id: 336720, Observer: Kaj@obskorps, Date: 2023-03-20 17:45:00+01:00\n",
      "Id: 336660, Observer: vegdrift@vegvesen, Date: 2023-03-20 12:41:00+01:00\n",
      "Id: 336729, Observer: MarenHT, Date: 2023-03-20 12:30:00+01:00\n",
      "Id: 336632, Observer: vegdrift@vegvesen, Date: 2023-03-20 11:01:00+01:00\n",
      "Id: 336611, Observer: jan arild@obskorps, Date: 2023-03-20 10:19:50+01:00\n",
      "Id: 336597, Observer: vegdrift@vegvesen, Date: 2023-03-20 09:18:00+01:00\n",
      "Id: 336572, Observer: vegdrift@vegvesen, Date: 2023-03-20 07:19:00+01:00\n",
      "Id: 336507, Observer: vegdrift@vegvesen, Date: 2023-03-19 16:30:00+01:00\n",
      "Id: 336480, Observer: vegdrift@vegvesen, Date: 2023-03-19 13:31:00+01:00\n",
      "Id: 336493, Observer: tuh@nve, Date: 2023-03-19 11:28:09+01:00\n",
      "Id: 336631, Observer: vegdrift@vegvesen, Date: 2023-03-19 11:00:00+01:00\n",
      "Id: 336347, Observer: EB, Date: 2023-03-18 14:35:00+01:00\n",
      "Id: 336171, Observer: vegdrift@vegvesen, Date: 2023-03-18 09:58:00+01:00\n",
      "Id: 336011, Observer: widforss@nve, Date: 2023-03-17 12:56:23+01:00\n",
      "Id: 336007, Observer: widforss@nve, Date: 2023-03-17 12:48:36+01:00\n",
      "Id: 335987, Observer: Kaj@obskorps, Date: 2023-03-17 11:49:27+01:00\n",
      "Id: 335983, Observer: vegdrift@vegvesen, Date: 2023-03-17 11:36:00+01:00\n",
      "Id: 335980, Observer: vegdrift@vegvesen, Date: 2023-03-17 11:30:00+01:00\n",
      "Id: 336478, Observer: vegdrift@vegvesen, Date: 2023-03-17 11:20:00+01:00\n",
      "Id: 335811, Observer: vegdrift@vegvesen, Date: 2023-03-16 14:55:00+01:00\n",
      "Id: 335759, Observer: vegdrift@vegvesen, Date: 2023-03-16 12:36:00+01:00\n",
      "Id: 335875, Observer: Thomas BN, Date: 2023-03-16 12:34:00+01:00\n",
      "Id: 335830, Observer: tuh@nve, Date: 2023-03-16 12:09:19+01:00\n",
      "Id: 335797, Observer: widforss@nve, Date: 2023-03-16 12:07:42+01:00\n",
      "Id: 335713, Observer: vegdrift@vegvesen, Date: 2023-03-16 11:01:00+01:00\n",
      "Id: 335872, Observer: Thomas BN, Date: 2023-03-16 09:40:00+01:00\n",
      "Id: 335667, Observer: tuh@nve, Date: 2023-03-16 08:01:50+01:00\n",
      "Id: 335656, Observer: vegdrift@vegvesen, Date: 2023-03-16 07:17:00+01:00\n",
      "Id: 335532, Observer: vegdrift@vegvesen, Date: 2023-03-15 13:16:00+01:00\n",
      "Id: 335517, Observer: vegdrift@vegvesen, Date: 2023-03-15 12:37:00+01:00\n",
      "Id: 335606, Observer: Kaj@obskorps, Date: 2023-03-15 12:34:00+01:00\n",
      "Id: 335489, Observer: vegdrift@vegvesen, Date: 2023-03-15 10:52:00+01:00\n",
      "Id: 337009, Observer: vegdrift@vegvesen, Date: 2023-03-15 05:59:00+01:00\n",
      "Id: 335294, Observer: vegdrift@vegvesen, Date: 2023-03-14 10:40:00+01:00\n",
      "Id: 335192, Observer: Kaj@obskorps, Date: 2023-03-13 17:52:48+01:00\n",
      "Id: 335163, Observer: vegdrift@vegvesen, Date: 2023-03-13 15:03:00+01:00\n",
      "Id: 335118, Observer: vegdrift@vegvesen, Date: 2023-03-13 12:14:00+01:00\n",
      "Id: 335140, Observer: Kaj@obskorps, Date: 2023-03-13 11:34:04+01:00\n",
      "Id: 335077, Observer: vegdrift@vegvesen, Date: 2023-03-13 09:25:00+01:00\n",
      "Id: 335049, Observer: vegdrift@vegvesen, Date: 2023-03-13 08:15:00+01:00\n",
      "Id: 334988, Observer: vegdrift@vegvesen, Date: 2023-03-12 18:26:00+01:00\n",
      "Id: 335003, Observer: Kaj@obskorps, Date: 2023-03-12 12:12:00+01:00\n",
      "Id: 334883, Observer: vegdrift@vegvesen, Date: 2023-03-12 11:38:00+01:00\n",
      "Id: 334743, Observer: vegdrift@vegvesen, Date: 2023-03-11 15:57:00+01:00\n",
      "Id: 335013, Observer: vegdrift@vegvesen, Date: 2023-03-11 13:36:00+01:00\n",
      "Id: 334710, Observer: vegdrift@vegvesen, Date: 2023-03-11 12:55:00+01:00\n",
      "Id: 334654, Observer: vegdrift@vegvesen, Date: 2023-03-11 10:06:00+01:00\n",
      "Id: 334633, Observer: tuh@nve, Date: 2023-03-11 07:44:10+01:00\n",
      "Id: 334488, Observer: vegdrift@vegvesen, Date: 2023-03-10 12:47:00+01:00\n",
      "Id: 334486, Observer: vegdrift@vegvesen, Date: 2023-03-10 12:45:00+01:00\n",
      "Id: 334388, Observer: vegdrift@vegvesen, Date: 2023-03-10 08:53:00+01:00\n",
      "Id: 334600, Observer: vegdrift@vegvesen, Date: 2023-03-10 08:53:00+01:00\n",
      "Id: 334365, Observer: vegdrift@vegvesen, Date: 2023-03-10 07:10:00+01:00\n",
      "Id: 334318, Observer: vegdrift@vegvesen, Date: 2023-03-09 22:00:00+01:00\n",
      "Id: 334229, Observer: Ståle@FORSVARET, Date: 2023-03-09 12:22:47+01:00\n",
      "Id: 334062, Observer: KRPE, Date: 2023-03-08 14:05:00+01:00\n",
      "Id: 333969, Observer: jan arild@obskorps, Date: 2023-03-08 11:05:29+01:00\n",
      "Id: 334056, Observer: KRPE, Date: 2023-03-08 10:30:00+01:00\n",
      "Id: 333934, Observer: vegdrift@vegvesen, Date: 2023-03-08 08:22:00+01:00\n",
      "Id: 333822, Observer: Linn, Date: 2023-03-07 14:33:29+01:00\n",
      "Id: 333693, Observer: vegdrift@vegvesen, Date: 2023-03-07 08:31:00+01:00\n",
      "Id: 333624, Observer: jan arild@obskorps, Date: 2023-03-06 18:37:56+01:00\n",
      "Id: 333574, Observer: vegdrift@vegvesen, Date: 2023-03-06 13:02:00+01:00\n",
      "Id: 333569, Observer: vegdrift@vegvesen, Date: 2023-03-06 12:49:00+01:00\n",
      "Id: 333555, Observer: vegdrift@vegvesen, Date: 2023-03-06 11:55:00+01:00\n",
      "Id: 333448, Observer: vegdrift@vegvesen, Date: 2023-03-06 01:18:00+01:00\n",
      "Id: 333403, Observer: vegdrift@vegvesen, Date: 2023-03-05 15:59:00+01:00\n",
      "Id: 333352, Observer: Marius@obskorps, Date: 2023-03-05 12:00:38+01:00\n",
      "Id: 333294, Observer: vegdrift@vegvesen, Date: 2023-03-05 09:09:00+01:00\n",
      "Id: 333202, Observer: Kaj@obskorps, Date: 2023-03-04 16:00:00+01:00\n",
      "Id: 333230, Observer: rori, Date: 2023-03-04 12:30:00+01:00\n",
      "Id: 333119, Observer: vegdrift@vegvesen, Date: 2023-03-04 11:44:00+01:00\n",
      "Id: 333083, Observer: vegdrift@vegvesen, Date: 2023-03-04 09:54:00+01:00\n",
      "Id: 333069, Observer: vegdrift@vegvesen, Date: 2023-03-04 08:44:00+01:00\n",
      "Id: 332981, Observer: vegdrift@vegvesen, Date: 2023-03-03 15:04:00+01:00\n",
      "Id: 332977, Observer: Kaj@obskorps, Date: 2023-03-03 12:20:00+01:00\n",
      "Id: 332829, Observer: vegdrift@vegvesen, Date: 2023-03-03 08:13:00+01:00\n",
      "Id: 332825, Observer: vegdrift@vegvesen, Date: 2023-03-03 07:40:00+01:00\n",
      "Id: 351094, Observer: widforss@nve, Date: 2023-03-02 16:02:00+01:00\n",
      "Id: 332823, Observer: saaj@nortind, Date: 2023-03-02 12:11:00+01:00\n",
      "Id: 332730, Observer: Kaj@obskorps, Date: 2023-03-02 12:00:00+01:00\n",
      "Id: 332705, Observer: vegdrift@vegvesen, Date: 2023-03-02 11:50:00+01:00\n",
      "Id: 332679, Observer: vegdrift@vegvesen, Date: 2023-03-02 10:32:00+01:00\n",
      "Id: 332491, Observer: vegdrift@vegvesen, Date: 2023-03-01 13:10:00+01:00\n",
      "Id: 332481, Observer: Kaj@obskorps, Date: 2023-03-01 11:16:15+01:00\n",
      "Id: 332441, Observer: vegdrift@vegvesen, Date: 2023-03-01 08:35:00+01:00\n",
      "Id: 332439, Observer: vegdrift@vegvesen, Date: 2023-03-01 08:23:00+01:00\n",
      "Id: 332553, Observer: vegdrift@vegvesen, Date: 2023-03-01 06:01:00+01:00\n",
      "Id: 332550, Observer: vegdrift@vegvesen, Date: 2023-02-28 21:53:00+01:00\n",
      "Id: 332395, Observer: Kaj@obskorps, Date: 2023-02-28 17:15:00+01:00\n",
      "Id: 332341, Observer: vegdrift@vegvesen, Date: 2023-02-28 11:52:00+01:00\n",
      "Id: 332331, Observer: KRPE, Date: 2023-02-28 11:37:00+01:00\n",
      "Id: 332545, Observer: vegdrift@vegvesen, Date: 2023-02-28 10:24:00+01:00\n",
      "Id: 332316, Observer: vegdrift@vegvesen, Date: 2023-02-27 12:31:00+01:00\n",
      "Id: 332317, Observer: vegdrift@vegvesen, Date: 2023-02-27 12:11:00+01:00\n",
      "Id: 332021, Observer: jan arild@obskorps, Date: 2023-02-27 10:06:22+01:00\n",
      "Id: 332287, Observer: vegdrift@vegvesen, Date: 2023-02-27 08:52:00+01:00\n",
      "Id: 332301, Observer: vegdrift@vegvesen, Date: 2023-02-27 07:58:00+01:00\n",
      "Id: 332303, Observer: vegdrift@vegvesen, Date: 2023-02-27 07:41:00+01:00\n",
      "Id: 332255, Observer: vegdrift@vegvesen, Date: 2023-02-26 15:17:00+01:00\n",
      "Id: 332249, Observer: vegdrift@vegvesen, Date: 2023-02-26 12:22:00+01:00\n",
      "Id: 331913, Observer: widforss@nve, Date: 2023-02-26 11:41:52+01:00\n",
      "Id: 331909, Observer: widforss@nve, Date: 2023-02-26 11:16:30+01:00\n",
      "Id: 332278, Observer: vegdrift@vegvesen, Date: 2023-02-26 02:04:00+01:00\n",
      "Id: 331782, Observer: widforss@nve, Date: 2023-02-25 13:39:05+01:00\n",
      "Id: 332263, Observer: vegdrift@vegvesen, Date: 2023-02-25 13:27:00+01:00\n",
      "Id: 331770, Observer: widforss@nve, Date: 2023-02-25 12:15:30+01:00\n",
      "Id: 332242, Observer: vegdrift@vegvesen, Date: 2023-02-25 11:24:00+01:00\n",
      "Id: 332270, Observer: vegdrift@vegvesen, Date: 2023-02-25 01:06:00+01:00\n",
      "Id: 332279, Observer: vegdrift@vegvesen, Date: 2023-02-25 00:00:00+01:00\n",
      "Id: 332261, Observer: vegdrift@vegvesen, Date: 2023-02-24 14:39:00+01:00\n",
      "Id: 331601, Observer: Kaj@obskorps, Date: 2023-02-24 12:00:00+01:00\n",
      "Id: 332221, Observer: vegdrift@vegvesen, Date: 2023-02-24 08:31:00+01:00\n",
      "Id: 332235, Observer: vegdrift@vegvesen, Date: 2023-02-24 08:23:00+01:00\n",
      "Id: 332236, Observer: vegdrift@vegvesen, Date: 2023-02-24 08:00:00+01:00\n",
      "Id: 332232, Observer: vegdrift@vegvesen, Date: 2023-02-23 13:50:00+01:00\n",
      "Id: 331419, Observer: Kaj@obskorps, Date: 2023-02-23 13:39:00+01:00\n",
      "Id: 331218, Observer: Sigurd, Date: 2023-02-23 09:20:43+01:00\n",
      "Id: 331215, Observer: vegdrift@vegvesen, Date: 2023-02-23 09:00:00+01:00\n",
      "Id: 331150, Observer: KRPE, Date: 2023-02-22 13:25:00+01:00\n",
      "Id: 331077, Observer: vegdrift@vegvesen, Date: 2023-02-22 12:28:00+01:00\n",
      "Id: 331092, Observer: Kaj@obskorps, Date: 2023-02-22 12:00:00+01:00\n",
      "Id: 331045, Observer: vegdrift@vegvesen, Date: 2023-02-22 10:28:00+01:00\n",
      "Id: 331016, Observer: vegdrift@vegvesen, Date: 2023-02-22 08:53:00+01:00\n",
      "Id: 331005, Observer: vegdrift@vegvesen, Date: 2023-02-22 07:11:00+01:00\n",
      "Id: 330956, Observer: tuh@nve, Date: 2023-02-21 17:34:12+01:00\n",
      "Id: 330858, Observer: vegdrift@vegvesen, Date: 2023-02-21 12:08:00+01:00\n",
      "Id: 330849, Observer: vegdrift@vegvesen, Date: 2023-02-21 11:15:00+01:00\n",
      "Id: 330793, Observer: vegdrift@vegvesen, Date: 2023-02-21 07:41:00+01:00\n",
      "Id: 330649, Observer: vegdrift@vegvesen, Date: 2023-02-20 12:56:00+01:00\n",
      "Id: 330642, Observer: vegdrift@vegvesen, Date: 2023-02-20 12:43:00+01:00\n",
      "Id: 330614, Observer: vegdrift@vegvesen, Date: 2023-02-20 11:39:00+01:00\n",
      "Id: 330471, Observer: vegdrift@vegvesen, Date: 2023-02-19 15:26:00+01:00\n",
      "Id: 330721, Observer: Kaj@obskorps, Date: 2023-02-19 12:00:00+01:00\n",
      "Id: 330372, Observer: vegdrift@vegvesen, Date: 2023-02-19 07:53:00+01:00\n",
      "Id: 330494, Observer: vegdrift@vegvesen, Date: 2023-02-18 17:41:00+01:00\n",
      "Id: 330273, Observer: vegdrift@vegvesen, Date: 2023-02-18 14:24:00+01:00\n",
      "Id: 330099, Observer: Kaj@obskorps, Date: 2023-02-17 13:53:37+01:00\n",
      "Id: 330056, Observer: vegdrift@vegvesen, Date: 2023-02-17 11:02:00+01:00\n",
      "Id: 330036, Observer: vegdrift@vegvesen, Date: 2023-02-17 09:53:00+01:00\n",
      "Id: 330030, Observer: vegdrift@vegvesen, Date: 2023-02-17 09:18:00+01:00\n",
      "Id: 330004, Observer: vegdrift@vegvesen, Date: 2023-02-17 07:44:00+01:00\n",
      "Id: 329952, Observer: vegdrift@vegvesen, Date: 2023-02-16 15:10:00+01:00\n",
      "Id: 329932, Observer: vegdrift@vegvesen, Date: 2023-02-16 14:05:00+01:00\n",
      "Id: 329881, Observer: vegdrift@vegvesen, Date: 2023-02-16 10:50:00+01:00\n",
      "Id: 329834, Observer: vegdrift@vegvesen, Date: 2023-02-16 07:41:00+01:00\n",
      "Id: 329747, Observer: Kaj@obskorps, Date: 2023-02-15 15:05:58+01:00\n",
      "Id: 329646, Observer: vegdrift@vegvesen, Date: 2023-02-15 11:18:00+01:00\n",
      "Id: 329732, Observer: Kaj@obskorps, Date: 2023-02-15 10:17:35+01:00\n",
      "Id: 329572, Observer: vegdrift@vegvesen, Date: 2023-02-15 07:20:00+01:00\n",
      "Id: 329419, Observer: vegdrift@vegvesen, Date: 2023-02-14 12:02:00+01:00\n",
      "Id: 329484, Observer: Kaj@obskorps, Date: 2023-02-14 11:31:46+01:00\n",
      "Id: 329395, Observer: vegdrift@vegvesen, Date: 2023-02-14 10:17:00+01:00\n",
      "Id: 329242, Observer: Kaj@obskorps, Date: 2023-02-13 12:25:08+01:00\n",
      "Id: 329192, Observer: vegdrift@vegvesen, Date: 2023-02-13 10:03:00+01:00\n",
      "Id: 329166, Observer: vegdrift@vegvesen, Date: 2023-02-13 07:46:00+01:00\n",
      "Id: 329359, Observer: vegdrift@vegvesen, Date: 2023-02-13 07:18:00+01:00\n",
      "Id: 329048, Observer: Kaj@obskorps, Date: 2023-02-12 11:33:50+01:00\n"
     ]
    },
    {
     "ename": "KeyboardInterrupt",
     "evalue": "",
     "output_type": "error",
     "traceback": [
      "\u001b[1;31m---------------------------------------------------------------------------\u001b[0m",
      "\u001b[1;31mKeyboardInterrupt\u001b[0m                         Traceback (most recent call last)",
      "Cell \u001b[1;32mIn[61], line 10\u001b[0m\n\u001b[0;32m      7\u001b[0m \u001b[38;5;28mprint\u001b[39m(results[\u001b[38;5;241m0\u001b[39m])\n\u001b[0;32m      9\u001b[0m \u001b[38;5;28mprint\u001b[39m(\u001b[38;5;124m\"\u001b[39m\u001b[38;5;130;01m\\n\u001b[39;00m\u001b[38;5;124mIterates over results\u001b[39m\u001b[38;5;124m\"\u001b[39m)\n\u001b[1;32m---> 10\u001b[0m \u001b[38;5;28;01mfor\u001b[39;00m result \u001b[38;5;129;01min\u001b[39;00m results:\n\u001b[0;32m     11\u001b[0m     \u001b[38;5;28mprint\u001b[39m(\u001b[38;5;124mf\u001b[39m\u001b[38;5;124m\"\u001b[39m\u001b[38;5;124mId: \u001b[39m\u001b[38;5;132;01m{\u001b[39;00mresult\u001b[38;5;241m.\u001b[39mid\u001b[38;5;132;01m}\u001b[39;00m\u001b[38;5;124m, Observer: \u001b[39m\u001b[38;5;132;01m{\u001b[39;00mresult\u001b[38;5;241m.\u001b[39mobserver\u001b[38;5;241m.\u001b[39mnickname\u001b[38;5;132;01m}\u001b[39;00m\u001b[38;5;124m, Date: \u001b[39m\u001b[38;5;132;01m{\u001b[39;00mresult\u001b[38;5;241m.\u001b[39mobs_time\u001b[38;5;132;01m}\u001b[39;00m\u001b[38;5;124m\"\u001b[39m)\n",
      "File \u001b[1;32mc:\\Users\\janaal\\AppData\\Local\\anaconda3\\envs\\varslingsdata\\Lib\\site-packages\\regobslib\\connection.py:318\u001b[0m, in \u001b[0;36mResult.ResultIter.__next__\u001b[1;34m(self)\u001b[0m\n\u001b[0;32m    316\u001b[0m failed \u001b[38;5;241m=\u001b[39m \u001b[38;5;241m0\u001b[39m\n\u001b[0;32m    317\u001b[0m \u001b[38;5;28;01mwhile\u001b[39;00m \u001b[38;5;28;01mTrue\u001b[39;00m:\n\u001b[1;32m--> 318\u001b[0m     returned_result \u001b[38;5;241m=\u001b[39m \u001b[38;5;28mself\u001b[39m\u001b[38;5;241m.\u001b[39mparent\u001b[38;5;241m.\u001b[39mconnection\u001b[38;5;241m.\u001b[39msession\u001b[38;5;241m.\u001b[39mpost(url, json\u001b[38;5;241m=\u001b[39msearch_body)\n\u001b[0;32m    319\u001b[0m     \u001b[38;5;28;01mif\u001b[39;00m returned_result\u001b[38;5;241m.\u001b[39mstatus_code \u001b[38;5;241m!=\u001b[39m \u001b[38;5;241m200\u001b[39m:\n\u001b[0;32m    320\u001b[0m         failed \u001b[38;5;241m+\u001b[39m\u001b[38;5;241m=\u001b[39m \u001b[38;5;241m1\u001b[39m\n",
      "File \u001b[1;32mc:\\Users\\janaal\\AppData\\Local\\anaconda3\\envs\\varslingsdata\\Lib\\site-packages\\requests\\sessions.py:637\u001b[0m, in \u001b[0;36mSession.post\u001b[1;34m(self, url, data, json, **kwargs)\u001b[0m\n\u001b[0;32m    626\u001b[0m \u001b[38;5;28;01mdef\u001b[39;00m \u001b[38;5;21mpost\u001b[39m(\u001b[38;5;28mself\u001b[39m, url, data\u001b[38;5;241m=\u001b[39m\u001b[38;5;28;01mNone\u001b[39;00m, json\u001b[38;5;241m=\u001b[39m\u001b[38;5;28;01mNone\u001b[39;00m, \u001b[38;5;241m*\u001b[39m\u001b[38;5;241m*\u001b[39mkwargs):\n\u001b[0;32m    627\u001b[0m \u001b[38;5;250m    \u001b[39m\u001b[38;5;124mr\u001b[39m\u001b[38;5;124;03m\"\"\"Sends a POST request. Returns :class:`Response` object.\u001b[39;00m\n\u001b[0;32m    628\u001b[0m \n\u001b[0;32m    629\u001b[0m \u001b[38;5;124;03m    :param url: URL for the new :class:`Request` object.\u001b[39;00m\n\u001b[1;32m   (...)\u001b[0m\n\u001b[0;32m    634\u001b[0m \u001b[38;5;124;03m    :rtype: requests.Response\u001b[39;00m\n\u001b[0;32m    635\u001b[0m \u001b[38;5;124;03m    \"\"\"\u001b[39;00m\n\u001b[1;32m--> 637\u001b[0m     \u001b[38;5;28;01mreturn\u001b[39;00m \u001b[38;5;28mself\u001b[39m\u001b[38;5;241m.\u001b[39mrequest(\u001b[38;5;124m\"\u001b[39m\u001b[38;5;124mPOST\u001b[39m\u001b[38;5;124m\"\u001b[39m, url, data\u001b[38;5;241m=\u001b[39mdata, json\u001b[38;5;241m=\u001b[39mjson, \u001b[38;5;241m*\u001b[39m\u001b[38;5;241m*\u001b[39mkwargs)\n",
      "File \u001b[1;32mc:\\Users\\janaal\\AppData\\Local\\anaconda3\\envs\\varslingsdata\\Lib\\site-packages\\requests\\sessions.py:589\u001b[0m, in \u001b[0;36mSession.request\u001b[1;34m(self, method, url, params, data, headers, cookies, files, auth, timeout, allow_redirects, proxies, hooks, stream, verify, cert, json)\u001b[0m\n\u001b[0;32m    584\u001b[0m send_kwargs \u001b[38;5;241m=\u001b[39m {\n\u001b[0;32m    585\u001b[0m     \u001b[38;5;124m\"\u001b[39m\u001b[38;5;124mtimeout\u001b[39m\u001b[38;5;124m\"\u001b[39m: timeout,\n\u001b[0;32m    586\u001b[0m     \u001b[38;5;124m\"\u001b[39m\u001b[38;5;124mallow_redirects\u001b[39m\u001b[38;5;124m\"\u001b[39m: allow_redirects,\n\u001b[0;32m    587\u001b[0m }\n\u001b[0;32m    588\u001b[0m send_kwargs\u001b[38;5;241m.\u001b[39mupdate(settings)\n\u001b[1;32m--> 589\u001b[0m resp \u001b[38;5;241m=\u001b[39m \u001b[38;5;28mself\u001b[39m\u001b[38;5;241m.\u001b[39msend(prep, \u001b[38;5;241m*\u001b[39m\u001b[38;5;241m*\u001b[39msend_kwargs)\n\u001b[0;32m    591\u001b[0m \u001b[38;5;28;01mreturn\u001b[39;00m resp\n",
      "File \u001b[1;32mc:\\Users\\janaal\\AppData\\Local\\anaconda3\\envs\\varslingsdata\\Lib\\site-packages\\requests\\sessions.py:703\u001b[0m, in \u001b[0;36mSession.send\u001b[1;34m(self, request, **kwargs)\u001b[0m\n\u001b[0;32m    700\u001b[0m start \u001b[38;5;241m=\u001b[39m preferred_clock()\n\u001b[0;32m    702\u001b[0m \u001b[38;5;66;03m# Send the request\u001b[39;00m\n\u001b[1;32m--> 703\u001b[0m r \u001b[38;5;241m=\u001b[39m adapter\u001b[38;5;241m.\u001b[39msend(request, \u001b[38;5;241m*\u001b[39m\u001b[38;5;241m*\u001b[39mkwargs)\n\u001b[0;32m    705\u001b[0m \u001b[38;5;66;03m# Total elapsed time of the request (approximately)\u001b[39;00m\n\u001b[0;32m    706\u001b[0m elapsed \u001b[38;5;241m=\u001b[39m preferred_clock() \u001b[38;5;241m-\u001b[39m start\n",
      "File \u001b[1;32mc:\\Users\\janaal\\AppData\\Local\\anaconda3\\envs\\varslingsdata\\Lib\\site-packages\\requests\\adapters.py:486\u001b[0m, in \u001b[0;36mHTTPAdapter.send\u001b[1;34m(self, request, stream, timeout, verify, cert, proxies)\u001b[0m\n\u001b[0;32m    483\u001b[0m     timeout \u001b[38;5;241m=\u001b[39m TimeoutSauce(connect\u001b[38;5;241m=\u001b[39mtimeout, read\u001b[38;5;241m=\u001b[39mtimeout)\n\u001b[0;32m    485\u001b[0m \u001b[38;5;28;01mtry\u001b[39;00m:\n\u001b[1;32m--> 486\u001b[0m     resp \u001b[38;5;241m=\u001b[39m conn\u001b[38;5;241m.\u001b[39murlopen(\n\u001b[0;32m    487\u001b[0m         method\u001b[38;5;241m=\u001b[39mrequest\u001b[38;5;241m.\u001b[39mmethod,\n\u001b[0;32m    488\u001b[0m         url\u001b[38;5;241m=\u001b[39murl,\n\u001b[0;32m    489\u001b[0m         body\u001b[38;5;241m=\u001b[39mrequest\u001b[38;5;241m.\u001b[39mbody,\n\u001b[0;32m    490\u001b[0m         headers\u001b[38;5;241m=\u001b[39mrequest\u001b[38;5;241m.\u001b[39mheaders,\n\u001b[0;32m    491\u001b[0m         redirect\u001b[38;5;241m=\u001b[39m\u001b[38;5;28;01mFalse\u001b[39;00m,\n\u001b[0;32m    492\u001b[0m         assert_same_host\u001b[38;5;241m=\u001b[39m\u001b[38;5;28;01mFalse\u001b[39;00m,\n\u001b[0;32m    493\u001b[0m         preload_content\u001b[38;5;241m=\u001b[39m\u001b[38;5;28;01mFalse\u001b[39;00m,\n\u001b[0;32m    494\u001b[0m         decode_content\u001b[38;5;241m=\u001b[39m\u001b[38;5;28;01mFalse\u001b[39;00m,\n\u001b[0;32m    495\u001b[0m         retries\u001b[38;5;241m=\u001b[39m\u001b[38;5;28mself\u001b[39m\u001b[38;5;241m.\u001b[39mmax_retries,\n\u001b[0;32m    496\u001b[0m         timeout\u001b[38;5;241m=\u001b[39mtimeout,\n\u001b[0;32m    497\u001b[0m         chunked\u001b[38;5;241m=\u001b[39mchunked,\n\u001b[0;32m    498\u001b[0m     )\n\u001b[0;32m    500\u001b[0m \u001b[38;5;28;01mexcept\u001b[39;00m (ProtocolError, \u001b[38;5;167;01mOSError\u001b[39;00m) \u001b[38;5;28;01mas\u001b[39;00m err:\n\u001b[0;32m    501\u001b[0m     \u001b[38;5;28;01mraise\u001b[39;00m \u001b[38;5;167;01mConnectionError\u001b[39;00m(err, request\u001b[38;5;241m=\u001b[39mrequest)\n",
      "File \u001b[1;32mc:\\Users\\janaal\\AppData\\Local\\anaconda3\\envs\\varslingsdata\\Lib\\site-packages\\urllib3\\connectionpool.py:715\u001b[0m, in \u001b[0;36mHTTPConnectionPool.urlopen\u001b[1;34m(self, method, url, body, headers, retries, redirect, assert_same_host, timeout, pool_timeout, release_conn, chunked, body_pos, **response_kw)\u001b[0m\n\u001b[0;32m    712\u001b[0m     \u001b[38;5;28mself\u001b[39m\u001b[38;5;241m.\u001b[39m_prepare_proxy(conn)\n\u001b[0;32m    714\u001b[0m \u001b[38;5;66;03m# Make the request on the httplib connection object.\u001b[39;00m\n\u001b[1;32m--> 715\u001b[0m httplib_response \u001b[38;5;241m=\u001b[39m \u001b[38;5;28mself\u001b[39m\u001b[38;5;241m.\u001b[39m_make_request(\n\u001b[0;32m    716\u001b[0m     conn,\n\u001b[0;32m    717\u001b[0m     method,\n\u001b[0;32m    718\u001b[0m     url,\n\u001b[0;32m    719\u001b[0m     timeout\u001b[38;5;241m=\u001b[39mtimeout_obj,\n\u001b[0;32m    720\u001b[0m     body\u001b[38;5;241m=\u001b[39mbody,\n\u001b[0;32m    721\u001b[0m     headers\u001b[38;5;241m=\u001b[39mheaders,\n\u001b[0;32m    722\u001b[0m     chunked\u001b[38;5;241m=\u001b[39mchunked,\n\u001b[0;32m    723\u001b[0m )\n\u001b[0;32m    725\u001b[0m \u001b[38;5;66;03m# If we're going to release the connection in ``finally:``, then\u001b[39;00m\n\u001b[0;32m    726\u001b[0m \u001b[38;5;66;03m# the response doesn't need to know about the connection. Otherwise\u001b[39;00m\n\u001b[0;32m    727\u001b[0m \u001b[38;5;66;03m# it will also try to release it and we'll have a double-release\u001b[39;00m\n\u001b[0;32m    728\u001b[0m \u001b[38;5;66;03m# mess.\u001b[39;00m\n\u001b[0;32m    729\u001b[0m response_conn \u001b[38;5;241m=\u001b[39m conn \u001b[38;5;28;01mif\u001b[39;00m \u001b[38;5;129;01mnot\u001b[39;00m release_conn \u001b[38;5;28;01melse\u001b[39;00m \u001b[38;5;28;01mNone\u001b[39;00m\n",
      "File \u001b[1;32mc:\\Users\\janaal\\AppData\\Local\\anaconda3\\envs\\varslingsdata\\Lib\\site-packages\\urllib3\\connectionpool.py:467\u001b[0m, in \u001b[0;36mHTTPConnectionPool._make_request\u001b[1;34m(self, conn, method, url, timeout, chunked, **httplib_request_kw)\u001b[0m\n\u001b[0;32m    462\u001b[0m             httplib_response \u001b[38;5;241m=\u001b[39m conn\u001b[38;5;241m.\u001b[39mgetresponse()\n\u001b[0;32m    463\u001b[0m         \u001b[38;5;28;01mexcept\u001b[39;00m \u001b[38;5;167;01mBaseException\u001b[39;00m \u001b[38;5;28;01mas\u001b[39;00m e:\n\u001b[0;32m    464\u001b[0m             \u001b[38;5;66;03m# Remove the TypeError from the exception chain in\u001b[39;00m\n\u001b[0;32m    465\u001b[0m             \u001b[38;5;66;03m# Python 3 (including for exceptions like SystemExit).\u001b[39;00m\n\u001b[0;32m    466\u001b[0m             \u001b[38;5;66;03m# Otherwise it looks like a bug in the code.\u001b[39;00m\n\u001b[1;32m--> 467\u001b[0m             six\u001b[38;5;241m.\u001b[39mraise_from(e, \u001b[38;5;28;01mNone\u001b[39;00m)\n\u001b[0;32m    468\u001b[0m \u001b[38;5;28;01mexcept\u001b[39;00m (SocketTimeout, BaseSSLError, SocketError) \u001b[38;5;28;01mas\u001b[39;00m e:\n\u001b[0;32m    469\u001b[0m     \u001b[38;5;28mself\u001b[39m\u001b[38;5;241m.\u001b[39m_raise_timeout(err\u001b[38;5;241m=\u001b[39me, url\u001b[38;5;241m=\u001b[39murl, timeout_value\u001b[38;5;241m=\u001b[39mread_timeout)\n",
      "File \u001b[1;32m<string>:3\u001b[0m, in \u001b[0;36mraise_from\u001b[1;34m(value, from_value)\u001b[0m\n",
      "File \u001b[1;32mc:\\Users\\janaal\\AppData\\Local\\anaconda3\\envs\\varslingsdata\\Lib\\site-packages\\urllib3\\connectionpool.py:462\u001b[0m, in \u001b[0;36mHTTPConnectionPool._make_request\u001b[1;34m(self, conn, method, url, timeout, chunked, **httplib_request_kw)\u001b[0m\n\u001b[0;32m    459\u001b[0m \u001b[38;5;28;01mexcept\u001b[39;00m \u001b[38;5;167;01mTypeError\u001b[39;00m:\n\u001b[0;32m    460\u001b[0m     \u001b[38;5;66;03m# Python 3\u001b[39;00m\n\u001b[0;32m    461\u001b[0m     \u001b[38;5;28;01mtry\u001b[39;00m:\n\u001b[1;32m--> 462\u001b[0m         httplib_response \u001b[38;5;241m=\u001b[39m conn\u001b[38;5;241m.\u001b[39mgetresponse()\n\u001b[0;32m    463\u001b[0m     \u001b[38;5;28;01mexcept\u001b[39;00m \u001b[38;5;167;01mBaseException\u001b[39;00m \u001b[38;5;28;01mas\u001b[39;00m e:\n\u001b[0;32m    464\u001b[0m         \u001b[38;5;66;03m# Remove the TypeError from the exception chain in\u001b[39;00m\n\u001b[0;32m    465\u001b[0m         \u001b[38;5;66;03m# Python 3 (including for exceptions like SystemExit).\u001b[39;00m\n\u001b[0;32m    466\u001b[0m         \u001b[38;5;66;03m# Otherwise it looks like a bug in the code.\u001b[39;00m\n\u001b[0;32m    467\u001b[0m         six\u001b[38;5;241m.\u001b[39mraise_from(e, \u001b[38;5;28;01mNone\u001b[39;00m)\n",
      "File \u001b[1;32mc:\\Users\\janaal\\AppData\\Local\\anaconda3\\envs\\varslingsdata\\Lib\\http\\client.py:1378\u001b[0m, in \u001b[0;36mHTTPConnection.getresponse\u001b[1;34m(self)\u001b[0m\n\u001b[0;32m   1376\u001b[0m \u001b[38;5;28;01mtry\u001b[39;00m:\n\u001b[0;32m   1377\u001b[0m     \u001b[38;5;28;01mtry\u001b[39;00m:\n\u001b[1;32m-> 1378\u001b[0m         response\u001b[38;5;241m.\u001b[39mbegin()\n\u001b[0;32m   1379\u001b[0m     \u001b[38;5;28;01mexcept\u001b[39;00m \u001b[38;5;167;01mConnectionError\u001b[39;00m:\n\u001b[0;32m   1380\u001b[0m         \u001b[38;5;28mself\u001b[39m\u001b[38;5;241m.\u001b[39mclose()\n",
      "File \u001b[1;32mc:\\Users\\janaal\\AppData\\Local\\anaconda3\\envs\\varslingsdata\\Lib\\http\\client.py:318\u001b[0m, in \u001b[0;36mHTTPResponse.begin\u001b[1;34m(self)\u001b[0m\n\u001b[0;32m    316\u001b[0m \u001b[38;5;66;03m# read until we get a non-100 response\u001b[39;00m\n\u001b[0;32m    317\u001b[0m \u001b[38;5;28;01mwhile\u001b[39;00m \u001b[38;5;28;01mTrue\u001b[39;00m:\n\u001b[1;32m--> 318\u001b[0m     version, status, reason \u001b[38;5;241m=\u001b[39m \u001b[38;5;28mself\u001b[39m\u001b[38;5;241m.\u001b[39m_read_status()\n\u001b[0;32m    319\u001b[0m     \u001b[38;5;28;01mif\u001b[39;00m status \u001b[38;5;241m!=\u001b[39m CONTINUE:\n\u001b[0;32m    320\u001b[0m         \u001b[38;5;28;01mbreak\u001b[39;00m\n",
      "File \u001b[1;32mc:\\Users\\janaal\\AppData\\Local\\anaconda3\\envs\\varslingsdata\\Lib\\http\\client.py:279\u001b[0m, in \u001b[0;36mHTTPResponse._read_status\u001b[1;34m(self)\u001b[0m\n\u001b[0;32m    278\u001b[0m \u001b[38;5;28;01mdef\u001b[39;00m \u001b[38;5;21m_read_status\u001b[39m(\u001b[38;5;28mself\u001b[39m):\n\u001b[1;32m--> 279\u001b[0m     line \u001b[38;5;241m=\u001b[39m \u001b[38;5;28mstr\u001b[39m(\u001b[38;5;28mself\u001b[39m\u001b[38;5;241m.\u001b[39mfp\u001b[38;5;241m.\u001b[39mreadline(_MAXLINE \u001b[38;5;241m+\u001b[39m \u001b[38;5;241m1\u001b[39m), \u001b[38;5;124m\"\u001b[39m\u001b[38;5;124miso-8859-1\u001b[39m\u001b[38;5;124m\"\u001b[39m)\n\u001b[0;32m    280\u001b[0m     \u001b[38;5;28;01mif\u001b[39;00m \u001b[38;5;28mlen\u001b[39m(line) \u001b[38;5;241m>\u001b[39m _MAXLINE:\n\u001b[0;32m    281\u001b[0m         \u001b[38;5;28;01mraise\u001b[39;00m LineTooLong(\u001b[38;5;124m\"\u001b[39m\u001b[38;5;124mstatus line\u001b[39m\u001b[38;5;124m\"\u001b[39m)\n",
      "File \u001b[1;32mc:\\Users\\janaal\\AppData\\Local\\anaconda3\\envs\\varslingsdata\\Lib\\socket.py:706\u001b[0m, in \u001b[0;36mSocketIO.readinto\u001b[1;34m(self, b)\u001b[0m\n\u001b[0;32m    704\u001b[0m \u001b[38;5;28;01mwhile\u001b[39;00m \u001b[38;5;28;01mTrue\u001b[39;00m:\n\u001b[0;32m    705\u001b[0m     \u001b[38;5;28;01mtry\u001b[39;00m:\n\u001b[1;32m--> 706\u001b[0m         \u001b[38;5;28;01mreturn\u001b[39;00m \u001b[38;5;28mself\u001b[39m\u001b[38;5;241m.\u001b[39m_sock\u001b[38;5;241m.\u001b[39mrecv_into(b)\n\u001b[0;32m    707\u001b[0m     \u001b[38;5;28;01mexcept\u001b[39;00m timeout:\n\u001b[0;32m    708\u001b[0m         \u001b[38;5;28mself\u001b[39m\u001b[38;5;241m.\u001b[39m_timeout_occurred \u001b[38;5;241m=\u001b[39m \u001b[38;5;28;01mTrue\u001b[39;00m\n",
      "File \u001b[1;32mc:\\Users\\janaal\\AppData\\Local\\anaconda3\\envs\\varslingsdata\\Lib\\ssl.py:1311\u001b[0m, in \u001b[0;36mSSLSocket.recv_into\u001b[1;34m(self, buffer, nbytes, flags)\u001b[0m\n\u001b[0;32m   1307\u001b[0m     \u001b[38;5;28;01mif\u001b[39;00m flags \u001b[38;5;241m!=\u001b[39m \u001b[38;5;241m0\u001b[39m:\n\u001b[0;32m   1308\u001b[0m         \u001b[38;5;28;01mraise\u001b[39;00m \u001b[38;5;167;01mValueError\u001b[39;00m(\n\u001b[0;32m   1309\u001b[0m           \u001b[38;5;124m\"\u001b[39m\u001b[38;5;124mnon-zero flags not allowed in calls to recv_into() on \u001b[39m\u001b[38;5;132;01m%s\u001b[39;00m\u001b[38;5;124m\"\u001b[39m \u001b[38;5;241m%\u001b[39m\n\u001b[0;32m   1310\u001b[0m           \u001b[38;5;28mself\u001b[39m\u001b[38;5;241m.\u001b[39m\u001b[38;5;18m__class__\u001b[39m)\n\u001b[1;32m-> 1311\u001b[0m     \u001b[38;5;28;01mreturn\u001b[39;00m \u001b[38;5;28mself\u001b[39m\u001b[38;5;241m.\u001b[39mread(nbytes, buffer)\n\u001b[0;32m   1312\u001b[0m \u001b[38;5;28;01melse\u001b[39;00m:\n\u001b[0;32m   1313\u001b[0m     \u001b[38;5;28;01mreturn\u001b[39;00m \u001b[38;5;28msuper\u001b[39m()\u001b[38;5;241m.\u001b[39mrecv_into(buffer, nbytes, flags)\n",
      "File \u001b[1;32mc:\\Users\\janaal\\AppData\\Local\\anaconda3\\envs\\varslingsdata\\Lib\\ssl.py:1167\u001b[0m, in \u001b[0;36mSSLSocket.read\u001b[1;34m(self, len, buffer)\u001b[0m\n\u001b[0;32m   1165\u001b[0m \u001b[38;5;28;01mtry\u001b[39;00m:\n\u001b[0;32m   1166\u001b[0m     \u001b[38;5;28;01mif\u001b[39;00m buffer \u001b[38;5;129;01mis\u001b[39;00m \u001b[38;5;129;01mnot\u001b[39;00m \u001b[38;5;28;01mNone\u001b[39;00m:\n\u001b[1;32m-> 1167\u001b[0m         \u001b[38;5;28;01mreturn\u001b[39;00m \u001b[38;5;28mself\u001b[39m\u001b[38;5;241m.\u001b[39m_sslobj\u001b[38;5;241m.\u001b[39mread(\u001b[38;5;28mlen\u001b[39m, buffer)\n\u001b[0;32m   1168\u001b[0m     \u001b[38;5;28;01melse\u001b[39;00m:\n\u001b[0;32m   1169\u001b[0m         \u001b[38;5;28;01mreturn\u001b[39;00m \u001b[38;5;28mself\u001b[39m\u001b[38;5;241m.\u001b[39m_sslobj\u001b[38;5;241m.\u001b[39mread(\u001b[38;5;28mlen\u001b[39m)\n",
      "\u001b[1;31mKeyboardInterrupt\u001b[0m: "
     ]
    }
   ],
   "source": [
    "connection = Connection(prod=True)\n",
    "results = connection.search(SnowRegistration, regions=[SnowRegion.OFOTEN], observation_types=[Weather])\n",
    "\n",
    "print(f\"Length of results: {len(results)}\\n\")\n",
    "\n",
    "print(\"First result\")\n",
    "print(results[0])\n",
    "\n",
    "print(\"\\nIterates over results\")\n",
    "for result in results:\n",
    "    print(f\"Id: {result.id}, Observer: {result.observer.nickname}, Date: {result.obs_time}\")"
   ]
  },
  {
   "cell_type": "code",
   "execution_count": 1,
   "metadata": {},
   "outputs": [],
   "source": [
    "from frost2df import obs2df, frost2df\n",
    "client_id = '382037b2-96a7-4bb7-adfe-5ccb4986aa46'\n",
    "client_secret = 'b51c5973-07ce-4b79-a71f-a817662cc9b3'\n",
    "stasjonsid = 58705"
   ]
  },
  {
   "cell_type": "code",
   "execution_count": 2,
   "metadata": {},
   "outputs": [],
   "source": [
    "from datetime import datetime, timedelta"
   ]
  },
  {
   "cell_type": "code",
   "execution_count": 79,
   "metadata": {},
   "outputs": [
    {
     "name": "stdout",
     "output_type": "stream",
     "text": [
      "Now: 2023-12-11T17:00:00\n",
      "Earlier date: 2023-12-06T17:00:00\n"
     ]
    }
   ],
   "source": [
    "now = datetime.now().replace(minute=0, second=0, microsecond=0)\n",
    "\n",
    "# Get a date a certain number of days earlier\n",
    "days_earlier = 5  # Change this to the number of days you want\n",
    "earlier_date = now - timedelta(days=days_earlier)\n",
    "\n",
    "# Convert the dates to strings in the format 'YYYY-MM-DDTHH:MM:SS'\n",
    "now_str = now.isoformat()\n",
    "earlier_date_str = earlier_date.isoformat()\n",
    "\n",
    "print('Now:', now_str)\n",
    "print('Earlier date:', earlier_date_str)"
   ]
  },
  {
   "cell_type": "code",
   "execution_count": 94,
   "metadata": {},
   "outputs": [
    {
     "name": "stdout",
     "output_type": "stream",
     "text": [
      "https://frost.met.no/observations/v0.jsonld?sources=SN58703&elements=wind_speed%2C+air_temperature%2C+wind_from_direction%2C+sum%28precipitation_amount+PT10M%29&referencetime=2023-12-06T17%3A00%3A00%2F2023-12-11T17%3A00%3A00&timeoffsets=PT0H\n"
     ]
    }
   ],
   "source": [
    "\n",
    "parameters = {\n",
    "    'sources':'SN58703',\n",
    "    'elements': 'wind_speed, air_temperature, wind_from_direction, sum(precipitation_amount PT10M)',\n",
    "    'referencetime': earlier_date_str + '/' + now_str,\n",
    "    'timeoffsets': 'PT0H'\n",
    "}\n",
    "df = obs2df(parameters=parameters, verbose=True)\n",
    "\n",
    "grouped = df.groupby('elementId')\n",
    "\n",
    "wind_speed_df = grouped.get_group('wind_speed')\n",
    "air_temperature_df = grouped.get_group('air_temperature')\n",
    "wind_from_direction_df = grouped.get_group('wind_from_direction')"
   ]
  },
  {
   "cell_type": "code",
   "execution_count": 95,
   "metadata": {},
   "outputs": [
    {
     "data": {
      "text/html": [
       "<div>\n",
       "<style scoped>\n",
       "    .dataframe tbody tr th:only-of-type {\n",
       "        vertical-align: middle;\n",
       "    }\n",
       "\n",
       "    .dataframe tbody tr th {\n",
       "        vertical-align: top;\n",
       "    }\n",
       "\n",
       "    .dataframe thead th {\n",
       "        text-align: right;\n",
       "    }\n",
       "</style>\n",
       "<table border=\"1\" class=\"dataframe\">\n",
       "  <thead>\n",
       "    <tr style=\"text-align: right;\">\n",
       "      <th></th>\n",
       "      <th>sourceId</th>\n",
       "      <th>elementId</th>\n",
       "      <th>referenceTime</th>\n",
       "      <th>value</th>\n",
       "      <th>unit</th>\n",
       "      <th>qualityCode</th>\n",
       "      <th>timeOffset</th>\n",
       "      <th>timeResolution</th>\n",
       "      <th>level.value</th>\n",
       "    </tr>\n",
       "  </thead>\n",
       "  <tbody>\n",
       "    <tr>\n",
       "      <th>0</th>\n",
       "      <td>SN58703:0</td>\n",
       "      <td>wind_speed</td>\n",
       "      <td>2023-12-06 17:00:00+00:00</td>\n",
       "      <td>2.9</td>\n",
       "      <td>m/s</td>\n",
       "      <td>0</td>\n",
       "      <td>PT0H</td>\n",
       "      <td>PT10M</td>\n",
       "      <td>10.0</td>\n",
       "    </tr>\n",
       "    <tr>\n",
       "      <th>1</th>\n",
       "      <td>SN58703:0</td>\n",
       "      <td>air_temperature</td>\n",
       "      <td>2023-12-06 17:00:00+00:00</td>\n",
       "      <td>-7.9</td>\n",
       "      <td>degC</td>\n",
       "      <td>0</td>\n",
       "      <td>PT0H</td>\n",
       "      <td>PT10M</td>\n",
       "      <td>2.0</td>\n",
       "    </tr>\n",
       "    <tr>\n",
       "      <th>2</th>\n",
       "      <td>SN58703:0</td>\n",
       "      <td>wind_from_direction</td>\n",
       "      <td>2023-12-06 17:00:00+00:00</td>\n",
       "      <td>327.0</td>\n",
       "      <td>degrees</td>\n",
       "      <td>0</td>\n",
       "      <td>PT0H</td>\n",
       "      <td>PT10M</td>\n",
       "      <td>10.0</td>\n",
       "    </tr>\n",
       "    <tr>\n",
       "      <th>3</th>\n",
       "      <td>SN58703:0</td>\n",
       "      <td>sum(precipitation_amount PT10M)</td>\n",
       "      <td>2023-12-06 17:00:00+00:00</td>\n",
       "      <td>0.0</td>\n",
       "      <td>mm</td>\n",
       "      <td>0</td>\n",
       "      <td>PT0H</td>\n",
       "      <td>PT10M</td>\n",
       "      <td>NaN</td>\n",
       "    </tr>\n",
       "    <tr>\n",
       "      <th>4</th>\n",
       "      <td>SN58703:0</td>\n",
       "      <td>wind_speed</td>\n",
       "      <td>2023-12-06 17:10:00+00:00</td>\n",
       "      <td>3.3</td>\n",
       "      <td>m/s</td>\n",
       "      <td>0</td>\n",
       "      <td>PT0H</td>\n",
       "      <td>PT10M</td>\n",
       "      <td>10.0</td>\n",
       "    </tr>\n",
       "    <tr>\n",
       "      <th>...</th>\n",
       "      <td>...</td>\n",
       "      <td>...</td>\n",
       "      <td>...</td>\n",
       "      <td>...</td>\n",
       "      <td>...</td>\n",
       "      <td>...</td>\n",
       "      <td>...</td>\n",
       "      <td>...</td>\n",
       "      <td>...</td>\n",
       "    </tr>\n",
       "    <tr>\n",
       "      <th>2859</th>\n",
       "      <td>SN58703:0</td>\n",
       "      <td>sum(precipitation_amount PT10M)</td>\n",
       "      <td>2023-12-11 16:40:00+00:00</td>\n",
       "      <td>0.0</td>\n",
       "      <td>mm</td>\n",
       "      <td>0</td>\n",
       "      <td>PT0H</td>\n",
       "      <td>PT10M</td>\n",
       "      <td>NaN</td>\n",
       "    </tr>\n",
       "    <tr>\n",
       "      <th>2860</th>\n",
       "      <td>SN58703:0</td>\n",
       "      <td>wind_speed</td>\n",
       "      <td>2023-12-11 16:50:00+00:00</td>\n",
       "      <td>4.2</td>\n",
       "      <td>m/s</td>\n",
       "      <td>0</td>\n",
       "      <td>PT0H</td>\n",
       "      <td>PT10M</td>\n",
       "      <td>10.0</td>\n",
       "    </tr>\n",
       "    <tr>\n",
       "      <th>2861</th>\n",
       "      <td>SN58703:0</td>\n",
       "      <td>air_temperature</td>\n",
       "      <td>2023-12-11 16:50:00+00:00</td>\n",
       "      <td>-5.4</td>\n",
       "      <td>degC</td>\n",
       "      <td>0</td>\n",
       "      <td>PT0H</td>\n",
       "      <td>PT10M</td>\n",
       "      <td>2.0</td>\n",
       "    </tr>\n",
       "    <tr>\n",
       "      <th>2862</th>\n",
       "      <td>SN58703:0</td>\n",
       "      <td>wind_from_direction</td>\n",
       "      <td>2023-12-11 16:50:00+00:00</td>\n",
       "      <td>317.0</td>\n",
       "      <td>degrees</td>\n",
       "      <td>0</td>\n",
       "      <td>PT0H</td>\n",
       "      <td>PT10M</td>\n",
       "      <td>10.0</td>\n",
       "    </tr>\n",
       "    <tr>\n",
       "      <th>2863</th>\n",
       "      <td>SN58703:0</td>\n",
       "      <td>sum(precipitation_amount PT10M)</td>\n",
       "      <td>2023-12-11 16:50:00+00:00</td>\n",
       "      <td>0.0</td>\n",
       "      <td>mm</td>\n",
       "      <td>0</td>\n",
       "      <td>PT0H</td>\n",
       "      <td>PT10M</td>\n",
       "      <td>NaN</td>\n",
       "    </tr>\n",
       "  </tbody>\n",
       "</table>\n",
       "<p>2864 rows × 9 columns</p>\n",
       "</div>"
      ],
      "text/plain": [
       "       sourceId                        elementId             referenceTime  \\\n",
       "0     SN58703:0                       wind_speed 2023-12-06 17:00:00+00:00   \n",
       "1     SN58703:0                  air_temperature 2023-12-06 17:00:00+00:00   \n",
       "2     SN58703:0              wind_from_direction 2023-12-06 17:00:00+00:00   \n",
       "3     SN58703:0  sum(precipitation_amount PT10M) 2023-12-06 17:00:00+00:00   \n",
       "4     SN58703:0                       wind_speed 2023-12-06 17:10:00+00:00   \n",
       "...         ...                              ...                       ...   \n",
       "2859  SN58703:0  sum(precipitation_amount PT10M) 2023-12-11 16:40:00+00:00   \n",
       "2860  SN58703:0                       wind_speed 2023-12-11 16:50:00+00:00   \n",
       "2861  SN58703:0                  air_temperature 2023-12-11 16:50:00+00:00   \n",
       "2862  SN58703:0              wind_from_direction 2023-12-11 16:50:00+00:00   \n",
       "2863  SN58703:0  sum(precipitation_amount PT10M) 2023-12-11 16:50:00+00:00   \n",
       "\n",
       "      value     unit  qualityCode timeOffset timeResolution  level.value  \n",
       "0       2.9      m/s            0       PT0H          PT10M         10.0  \n",
       "1      -7.9     degC            0       PT0H          PT10M          2.0  \n",
       "2     327.0  degrees            0       PT0H          PT10M         10.0  \n",
       "3       0.0       mm            0       PT0H          PT10M          NaN  \n",
       "4       3.3      m/s            0       PT0H          PT10M         10.0  \n",
       "...     ...      ...          ...        ...            ...          ...  \n",
       "2859    0.0       mm            0       PT0H          PT10M          NaN  \n",
       "2860    4.2      m/s            0       PT0H          PT10M         10.0  \n",
       "2861   -5.4     degC            0       PT0H          PT10M          2.0  \n",
       "2862  317.0  degrees            0       PT0H          PT10M         10.0  \n",
       "2863    0.0       mm            0       PT0H          PT10M          NaN  \n",
       "\n",
       "[2864 rows x 9 columns]"
      ]
     },
     "metadata": {},
     "output_type": "display_data"
    }
   ],
   "source": [
    "display(df)"
   ]
  },
  {
   "cell_type": "code",
   "execution_count": 87,
   "metadata": {},
   "outputs": [
    {
     "data": {
      "text/html": [
       "<div>\n",
       "<style scoped>\n",
       "    .dataframe tbody tr th:only-of-type {\n",
       "        vertical-align: middle;\n",
       "    }\n",
       "\n",
       "    .dataframe tbody tr th {\n",
       "        vertical-align: top;\n",
       "    }\n",
       "\n",
       "    .dataframe thead th {\n",
       "        text-align: right;\n",
       "    }\n",
       "</style>\n",
       "<table border=\"1\" class=\"dataframe\">\n",
       "  <thead>\n",
       "    <tr style=\"text-align: right;\">\n",
       "      <th></th>\n",
       "      <th>sourceId</th>\n",
       "      <th>elementId</th>\n",
       "      <th>referenceTime</th>\n",
       "      <th>value</th>\n",
       "      <th>unit</th>\n",
       "      <th>qualityCode</th>\n",
       "      <th>timeOffset</th>\n",
       "      <th>timeResolution</th>\n",
       "      <th>level.value</th>\n",
       "    </tr>\n",
       "  </thead>\n",
       "  <tbody>\n",
       "    <tr>\n",
       "      <th>0</th>\n",
       "      <td>SN58705:0</td>\n",
       "      <td>wind_speed</td>\n",
       "      <td>2023-12-06 17:00:00+00:00</td>\n",
       "      <td>0.7</td>\n",
       "      <td>m/s</td>\n",
       "      <td>0</td>\n",
       "      <td>PT0H</td>\n",
       "      <td>PT10M</td>\n",
       "      <td>10</td>\n",
       "    </tr>\n",
       "    <tr>\n",
       "      <th>3</th>\n",
       "      <td>SN58705:0</td>\n",
       "      <td>wind_speed</td>\n",
       "      <td>2023-12-06 17:10:00+00:00</td>\n",
       "      <td>0.7</td>\n",
       "      <td>m/s</td>\n",
       "      <td>0</td>\n",
       "      <td>PT0H</td>\n",
       "      <td>PT10M</td>\n",
       "      <td>10</td>\n",
       "    </tr>\n",
       "    <tr>\n",
       "      <th>6</th>\n",
       "      <td>SN58705:0</td>\n",
       "      <td>wind_speed</td>\n",
       "      <td>2023-12-06 17:20:00+00:00</td>\n",
       "      <td>0.8</td>\n",
       "      <td>m/s</td>\n",
       "      <td>0</td>\n",
       "      <td>PT0H</td>\n",
       "      <td>PT10M</td>\n",
       "      <td>10</td>\n",
       "    </tr>\n",
       "    <tr>\n",
       "      <th>9</th>\n",
       "      <td>SN58705:0</td>\n",
       "      <td>wind_speed</td>\n",
       "      <td>2023-12-06 17:30:00+00:00</td>\n",
       "      <td>0.9</td>\n",
       "      <td>m/s</td>\n",
       "      <td>0</td>\n",
       "      <td>PT0H</td>\n",
       "      <td>PT10M</td>\n",
       "      <td>10</td>\n",
       "    </tr>\n",
       "    <tr>\n",
       "      <th>12</th>\n",
       "      <td>SN58705:0</td>\n",
       "      <td>wind_speed</td>\n",
       "      <td>2023-12-06 17:40:00+00:00</td>\n",
       "      <td>0.7</td>\n",
       "      <td>m/s</td>\n",
       "      <td>0</td>\n",
       "      <td>PT0H</td>\n",
       "      <td>PT10M</td>\n",
       "      <td>10</td>\n",
       "    </tr>\n",
       "    <tr>\n",
       "      <th>...</th>\n",
       "      <td>...</td>\n",
       "      <td>...</td>\n",
       "      <td>...</td>\n",
       "      <td>...</td>\n",
       "      <td>...</td>\n",
       "      <td>...</td>\n",
       "      <td>...</td>\n",
       "      <td>...</td>\n",
       "      <td>...</td>\n",
       "    </tr>\n",
       "    <tr>\n",
       "      <th>1868</th>\n",
       "      <td>SN58705:0</td>\n",
       "      <td>wind_speed</td>\n",
       "      <td>2023-12-11 16:10:00+00:00</td>\n",
       "      <td>6.6</td>\n",
       "      <td>m/s</td>\n",
       "      <td>0</td>\n",
       "      <td>PT0H</td>\n",
       "      <td>PT10M</td>\n",
       "      <td>10</td>\n",
       "    </tr>\n",
       "    <tr>\n",
       "      <th>1871</th>\n",
       "      <td>SN58705:0</td>\n",
       "      <td>wind_speed</td>\n",
       "      <td>2023-12-11 16:20:00+00:00</td>\n",
       "      <td>6.8</td>\n",
       "      <td>m/s</td>\n",
       "      <td>0</td>\n",
       "      <td>PT0H</td>\n",
       "      <td>PT10M</td>\n",
       "      <td>10</td>\n",
       "    </tr>\n",
       "    <tr>\n",
       "      <th>1874</th>\n",
       "      <td>SN58705:0</td>\n",
       "      <td>wind_speed</td>\n",
       "      <td>2023-12-11 16:30:00+00:00</td>\n",
       "      <td>7.4</td>\n",
       "      <td>m/s</td>\n",
       "      <td>0</td>\n",
       "      <td>PT0H</td>\n",
       "      <td>PT10M</td>\n",
       "      <td>10</td>\n",
       "    </tr>\n",
       "    <tr>\n",
       "      <th>1877</th>\n",
       "      <td>SN58705:0</td>\n",
       "      <td>wind_speed</td>\n",
       "      <td>2023-12-11 16:40:00+00:00</td>\n",
       "      <td>6.9</td>\n",
       "      <td>m/s</td>\n",
       "      <td>0</td>\n",
       "      <td>PT0H</td>\n",
       "      <td>PT10M</td>\n",
       "      <td>10</td>\n",
       "    </tr>\n",
       "    <tr>\n",
       "      <th>1880</th>\n",
       "      <td>SN58705:0</td>\n",
       "      <td>wind_speed</td>\n",
       "      <td>2023-12-11 16:50:00+00:00</td>\n",
       "      <td>7.0</td>\n",
       "      <td>m/s</td>\n",
       "      <td>0</td>\n",
       "      <td>PT0H</td>\n",
       "      <td>PT10M</td>\n",
       "      <td>10</td>\n",
       "    </tr>\n",
       "  </tbody>\n",
       "</table>\n",
       "<p>630 rows × 9 columns</p>\n",
       "</div>"
      ],
      "text/plain": [
       "       sourceId   elementId             referenceTime  value unit  \\\n",
       "0     SN58705:0  wind_speed 2023-12-06 17:00:00+00:00    0.7  m/s   \n",
       "3     SN58705:0  wind_speed 2023-12-06 17:10:00+00:00    0.7  m/s   \n",
       "6     SN58705:0  wind_speed 2023-12-06 17:20:00+00:00    0.8  m/s   \n",
       "9     SN58705:0  wind_speed 2023-12-06 17:30:00+00:00    0.9  m/s   \n",
       "12    SN58705:0  wind_speed 2023-12-06 17:40:00+00:00    0.7  m/s   \n",
       "...         ...         ...                       ...    ...  ...   \n",
       "1868  SN58705:0  wind_speed 2023-12-11 16:10:00+00:00    6.6  m/s   \n",
       "1871  SN58705:0  wind_speed 2023-12-11 16:20:00+00:00    6.8  m/s   \n",
       "1874  SN58705:0  wind_speed 2023-12-11 16:30:00+00:00    7.4  m/s   \n",
       "1877  SN58705:0  wind_speed 2023-12-11 16:40:00+00:00    6.9  m/s   \n",
       "1880  SN58705:0  wind_speed 2023-12-11 16:50:00+00:00    7.0  m/s   \n",
       "\n",
       "      qualityCode timeOffset timeResolution  level.value  \n",
       "0               0       PT0H          PT10M           10  \n",
       "3               0       PT0H          PT10M           10  \n",
       "6               0       PT0H          PT10M           10  \n",
       "9               0       PT0H          PT10M           10  \n",
       "12              0       PT0H          PT10M           10  \n",
       "...           ...        ...            ...          ...  \n",
       "1868            0       PT0H          PT10M           10  \n",
       "1871            0       PT0H          PT10M           10  \n",
       "1874            0       PT0H          PT10M           10  \n",
       "1877            0       PT0H          PT10M           10  \n",
       "1880            0       PT0H          PT10M           10  \n",
       "\n",
       "[630 rows x 9 columns]"
      ]
     },
     "metadata": {},
     "output_type": "display_data"
    }
   ],
   "source": [
    "display(wind_speed_df)"
   ]
  },
  {
   "cell_type": "code",
   "execution_count": 10,
   "metadata": {},
   "outputs": [],
   "source": [
    "available = frost2df('observations/availableTimeSeries', {'sources': 'SN58703'}).sort_values('validFrom')"
   ]
  },
  {
   "cell_type": "code",
   "execution_count": 11,
   "metadata": {},
   "outputs": [
    {
     "data": {
      "text/html": [
       "<div>\n",
       "<style scoped>\n",
       "    .dataframe tbody tr th:only-of-type {\n",
       "        vertical-align: middle;\n",
       "    }\n",
       "\n",
       "    .dataframe tbody tr th {\n",
       "        vertical-align: top;\n",
       "    }\n",
       "\n",
       "    .dataframe thead th {\n",
       "        text-align: right;\n",
       "    }\n",
       "</style>\n",
       "<table border=\"1\" class=\"dataframe\">\n",
       "  <thead>\n",
       "    <tr style=\"text-align: right;\">\n",
       "      <th></th>\n",
       "      <th>sourceId</th>\n",
       "      <th>validFrom</th>\n",
       "      <th>validTo</th>\n",
       "      <th>timeOffset</th>\n",
       "      <th>timeResolution</th>\n",
       "      <th>timeSeriesId</th>\n",
       "      <th>elementId</th>\n",
       "      <th>unit</th>\n",
       "      <th>performanceCategory</th>\n",
       "      <th>exposureCategory</th>\n",
       "      <th>status</th>\n",
       "      <th>uri</th>\n",
       "      <th>level.levelType</th>\n",
       "      <th>level.unit</th>\n",
       "      <th>level.value</th>\n",
       "    </tr>\n",
       "  </thead>\n",
       "  <tbody>\n",
       "    <tr>\n",
       "      <th>0</th>\n",
       "      <td>SN58703:0</td>\n",
       "      <td>2022-01-11T00:00:00.000Z</td>\n",
       "      <td>2022-02-28T00:00:00.000Z</td>\n",
       "      <td>PT0H</td>\n",
       "      <td>P1D</td>\n",
       "      <td>0</td>\n",
       "      <td>mean(relative_humidity P1D)</td>\n",
       "      <td>percent</td>\n",
       "      <td>C</td>\n",
       "      <td>2</td>\n",
       "      <td>Authoritative</td>\n",
       "      <td>https://frost.met.no/observations/v0.jsonld?so...</td>\n",
       "      <td>height_above_ground</td>\n",
       "      <td>m</td>\n",
       "      <td>2.0</td>\n",
       "    </tr>\n",
       "    <tr>\n",
       "      <th>18</th>\n",
       "      <td>SN58703:0</td>\n",
       "      <td>2022-01-11T00:00:00.000Z</td>\n",
       "      <td>NaN</td>\n",
       "      <td>PT0H</td>\n",
       "      <td>PT10M</td>\n",
       "      <td>0</td>\n",
       "      <td>sum(precipitation_amount PT10M)</td>\n",
       "      <td>mm</td>\n",
       "      <td>C</td>\n",
       "      <td>2</td>\n",
       "      <td>Authoritative</td>\n",
       "      <td>https://frost.met.no/observations/v0.jsonld?so...</td>\n",
       "      <td>NaN</td>\n",
       "      <td>NaN</td>\n",
       "      <td>NaN</td>\n",
       "    </tr>\n",
       "    <tr>\n",
       "      <th>2</th>\n",
       "      <td>SN58703:0</td>\n",
       "      <td>2022-01-11T00:00:00.000Z</td>\n",
       "      <td>NaN</td>\n",
       "      <td>PT0H</td>\n",
       "      <td>PT10M</td>\n",
       "      <td>0</td>\n",
       "      <td>wind_speed</td>\n",
       "      <td>m/s</td>\n",
       "      <td>C</td>\n",
       "      <td>2</td>\n",
       "      <td>Authoritative</td>\n",
       "      <td>https://frost.met.no/observations/v0.jsonld?so...</td>\n",
       "      <td>height_above_ground</td>\n",
       "      <td>m</td>\n",
       "      <td>10.0</td>\n",
       "    </tr>\n",
       "    <tr>\n",
       "      <th>3</th>\n",
       "      <td>SN58703:0</td>\n",
       "      <td>2022-01-11T00:00:00.000Z</td>\n",
       "      <td>NaN</td>\n",
       "      <td>PT0H</td>\n",
       "      <td>PT10M</td>\n",
       "      <td>0</td>\n",
       "      <td>dew_point_temperature</td>\n",
       "      <td>degC</td>\n",
       "      <td>C</td>\n",
       "      <td>2</td>\n",
       "      <td>Authoritative</td>\n",
       "      <td>https://frost.met.no/observations/v0.jsonld?so...</td>\n",
       "      <td>NaN</td>\n",
       "      <td>NaN</td>\n",
       "      <td>NaN</td>\n",
       "    </tr>\n",
       "    <tr>\n",
       "      <th>15</th>\n",
       "      <td>SN58703:0</td>\n",
       "      <td>2022-01-11T00:00:00.000Z</td>\n",
       "      <td>NaN</td>\n",
       "      <td>PT0H</td>\n",
       "      <td>PT10M</td>\n",
       "      <td>0</td>\n",
       "      <td>max(rainfall_rate PT1M)</td>\n",
       "      <td>mm/h</td>\n",
       "      <td>C</td>\n",
       "      <td>2</td>\n",
       "      <td>Authoritative</td>\n",
       "      <td>https://frost.met.no/observations/v0.jsonld?so...</td>\n",
       "      <td>NaN</td>\n",
       "      <td>NaN</td>\n",
       "      <td>NaN</td>\n",
       "    </tr>\n",
       "    <tr>\n",
       "      <th>14</th>\n",
       "      <td>SN58703:0</td>\n",
       "      <td>2022-01-11T00:00:00.000Z</td>\n",
       "      <td>NaN</td>\n",
       "      <td>PT0H</td>\n",
       "      <td>PT10M</td>\n",
       "      <td>0</td>\n",
       "      <td>relative_humidity</td>\n",
       "      <td>percent</td>\n",
       "      <td>C</td>\n",
       "      <td>2</td>\n",
       "      <td>Authoritative</td>\n",
       "      <td>https://frost.met.no/observations/v0.jsonld?so...</td>\n",
       "      <td>height_above_ground</td>\n",
       "      <td>m</td>\n",
       "      <td>2.0</td>\n",
       "    </tr>\n",
       "    <tr>\n",
       "      <th>13</th>\n",
       "      <td>SN58703:0</td>\n",
       "      <td>2022-01-11T00:00:00.000Z</td>\n",
       "      <td>NaN</td>\n",
       "      <td>PT0H</td>\n",
       "      <td>PT10M</td>\n",
       "      <td>0</td>\n",
       "      <td>air_temperature</td>\n",
       "      <td>degC</td>\n",
       "      <td>C</td>\n",
       "      <td>2</td>\n",
       "      <td>Authoritative</td>\n",
       "      <td>https://frost.met.no/observations/v0.jsonld?so...</td>\n",
       "      <td>height_above_ground</td>\n",
       "      <td>m</td>\n",
       "      <td>2.0</td>\n",
       "    </tr>\n",
       "    <tr>\n",
       "      <th>7</th>\n",
       "      <td>SN58703:0</td>\n",
       "      <td>2022-01-11T00:00:00.000Z</td>\n",
       "      <td>NaN</td>\n",
       "      <td>PT0H</td>\n",
       "      <td>PT1H</td>\n",
       "      <td>0</td>\n",
       "      <td>sum(precipitation_amount PT1H)</td>\n",
       "      <td>mm</td>\n",
       "      <td>C</td>\n",
       "      <td>2</td>\n",
       "      <td>Authoritative</td>\n",
       "      <td>https://frost.met.no/observations/v0.jsonld?so...</td>\n",
       "      <td>NaN</td>\n",
       "      <td>NaN</td>\n",
       "      <td>NaN</td>\n",
       "    </tr>\n",
       "    <tr>\n",
       "      <th>8</th>\n",
       "      <td>SN58703:0</td>\n",
       "      <td>2022-01-11T00:00:00.000Z</td>\n",
       "      <td>NaN</td>\n",
       "      <td>PT0H</td>\n",
       "      <td>PT10M</td>\n",
       "      <td>0</td>\n",
       "      <td>wind_from_direction</td>\n",
       "      <td>degrees</td>\n",
       "      <td>C</td>\n",
       "      <td>2</td>\n",
       "      <td>Authoritative</td>\n",
       "      <td>https://frost.met.no/observations/v0.jsonld?so...</td>\n",
       "      <td>height_above_ground</td>\n",
       "      <td>m</td>\n",
       "      <td>10.0</td>\n",
       "    </tr>\n",
       "    <tr>\n",
       "      <th>19</th>\n",
       "      <td>SN58703:0</td>\n",
       "      <td>2022-01-12T00:00:00.000Z</td>\n",
       "      <td>NaN</td>\n",
       "      <td>PT0H</td>\n",
       "      <td>P1D</td>\n",
       "      <td>0</td>\n",
       "      <td>integral_of_deficit(mean(air_temperature P1D) ...</td>\n",
       "      <td>degree-day</td>\n",
       "      <td>C</td>\n",
       "      <td>2</td>\n",
       "      <td>Authoritative</td>\n",
       "      <td>https://frost.met.no/observations/v0.jsonld?so...</td>\n",
       "      <td>height_above_ground</td>\n",
       "      <td>m</td>\n",
       "      <td>2.0</td>\n",
       "    </tr>\n",
       "    <tr>\n",
       "      <th>20</th>\n",
       "      <td>SN58703:0</td>\n",
       "      <td>2022-01-12T00:00:00.000Z</td>\n",
       "      <td>NaN</td>\n",
       "      <td>PT0H</td>\n",
       "      <td>P1D</td>\n",
       "      <td>0</td>\n",
       "      <td>mean(air_temperature P1D)</td>\n",
       "      <td>degC</td>\n",
       "      <td>C</td>\n",
       "      <td>2</td>\n",
       "      <td>Authoritative</td>\n",
       "      <td>https://frost.met.no/observations/v0.jsonld?so...</td>\n",
       "      <td>height_above_ground</td>\n",
       "      <td>m</td>\n",
       "      <td>2.0</td>\n",
       "    </tr>\n",
       "    <tr>\n",
       "      <th>5</th>\n",
       "      <td>SN58703:0</td>\n",
       "      <td>2022-01-12T00:00:00.000Z</td>\n",
       "      <td>NaN</td>\n",
       "      <td>PT0H</td>\n",
       "      <td>P1D</td>\n",
       "      <td>0</td>\n",
       "      <td>integral_of_excess(mean(air_temperature P1D) P...</td>\n",
       "      <td>degree-day</td>\n",
       "      <td>C</td>\n",
       "      <td>2</td>\n",
       "      <td>Authoritative</td>\n",
       "      <td>https://frost.met.no/observations/v0.jsonld?so...</td>\n",
       "      <td>height_above_ground</td>\n",
       "      <td>m</td>\n",
       "      <td>2.0</td>\n",
       "    </tr>\n",
       "    <tr>\n",
       "      <th>4</th>\n",
       "      <td>SN58703:0</td>\n",
       "      <td>2022-01-12T00:00:00.000Z</td>\n",
       "      <td>NaN</td>\n",
       "      <td>PT0H</td>\n",
       "      <td>P1D</td>\n",
       "      <td>0</td>\n",
       "      <td>integral_of_excess(mean(air_temperature P1D) P...</td>\n",
       "      <td>degree-day</td>\n",
       "      <td>C</td>\n",
       "      <td>2</td>\n",
       "      <td>Authoritative</td>\n",
       "      <td>https://frost.met.no/observations/v0.jsonld?so...</td>\n",
       "      <td>height_above_ground</td>\n",
       "      <td>m</td>\n",
       "      <td>2.0</td>\n",
       "    </tr>\n",
       "    <tr>\n",
       "      <th>9</th>\n",
       "      <td>SN58703:0</td>\n",
       "      <td>2022-02-04T00:00:00.000Z</td>\n",
       "      <td>NaN</td>\n",
       "      <td>PT0H</td>\n",
       "      <td>PT10M</td>\n",
       "      <td>0</td>\n",
       "      <td>surface_snow_thickness</td>\n",
       "      <td>cm</td>\n",
       "      <td>C</td>\n",
       "      <td>2</td>\n",
       "      <td>Authoritative</td>\n",
       "      <td>https://frost.met.no/observations/v0.jsonld?so...</td>\n",
       "      <td>NaN</td>\n",
       "      <td>NaN</td>\n",
       "      <td>NaN</td>\n",
       "    </tr>\n",
       "    <tr>\n",
       "      <th>10</th>\n",
       "      <td>SN58703:0</td>\n",
       "      <td>2022-04-05T00:00:00.000Z</td>\n",
       "      <td>NaN</td>\n",
       "      <td>PT6H</td>\n",
       "      <td>P1D</td>\n",
       "      <td>0</td>\n",
       "      <td>surface_snow_thickness</td>\n",
       "      <td>cm</td>\n",
       "      <td>C</td>\n",
       "      <td>2</td>\n",
       "      <td>Authoritative</td>\n",
       "      <td>https://frost.met.no/observations/v0.jsonld?so...</td>\n",
       "      <td>NaN</td>\n",
       "      <td>NaN</td>\n",
       "      <td>NaN</td>\n",
       "    </tr>\n",
       "    <tr>\n",
       "      <th>11</th>\n",
       "      <td>SN58703:0</td>\n",
       "      <td>2022-11-04T00:00:00.000Z</td>\n",
       "      <td>2023-02-28T00:00:00.000Z</td>\n",
       "      <td>PT0H</td>\n",
       "      <td>PT10M</td>\n",
       "      <td>0</td>\n",
       "      <td>max(air_temperature PT10M)</td>\n",
       "      <td>degC</td>\n",
       "      <td>C</td>\n",
       "      <td>2</td>\n",
       "      <td>Authoritative</td>\n",
       "      <td>https://frost.met.no/observations/v0.jsonld?so...</td>\n",
       "      <td>height_above_ground</td>\n",
       "      <td>m</td>\n",
       "      <td>2.0</td>\n",
       "    </tr>\n",
       "    <tr>\n",
       "      <th>12</th>\n",
       "      <td>SN58703:0</td>\n",
       "      <td>2022-11-04T00:00:00.000Z</td>\n",
       "      <td>NaN</td>\n",
       "      <td>PT0H</td>\n",
       "      <td>P1D</td>\n",
       "      <td>0</td>\n",
       "      <td>mean(dew_point_temperature P1D)</td>\n",
       "      <td>degC</td>\n",
       "      <td>C</td>\n",
       "      <td>2</td>\n",
       "      <td>Authoritative</td>\n",
       "      <td>https://frost.met.no/observations/v0.jsonld?so...</td>\n",
       "      <td>NaN</td>\n",
       "      <td>NaN</td>\n",
       "      <td>NaN</td>\n",
       "    </tr>\n",
       "    <tr>\n",
       "      <th>17</th>\n",
       "      <td>SN58703:0</td>\n",
       "      <td>2022-11-04T00:00:00.000Z</td>\n",
       "      <td>2023-02-28T00:00:00.000Z</td>\n",
       "      <td>PT0H</td>\n",
       "      <td>PT10M</td>\n",
       "      <td>0</td>\n",
       "      <td>min(air_temperature PT10M)</td>\n",
       "      <td>degC</td>\n",
       "      <td>C</td>\n",
       "      <td>2</td>\n",
       "      <td>Authoritative</td>\n",
       "      <td>https://frost.met.no/observations/v0.jsonld?so...</td>\n",
       "      <td>height_above_ground</td>\n",
       "      <td>m</td>\n",
       "      <td>2.0</td>\n",
       "    </tr>\n",
       "    <tr>\n",
       "      <th>6</th>\n",
       "      <td>SN58703:0</td>\n",
       "      <td>2022-11-05T00:00:00.000Z</td>\n",
       "      <td>2023-02-28T00:00:00.000Z</td>\n",
       "      <td>PT18H</td>\n",
       "      <td>P1D</td>\n",
       "      <td>0</td>\n",
       "      <td>max(air_temperature P1D)</td>\n",
       "      <td>degC</td>\n",
       "      <td>C</td>\n",
       "      <td>2</td>\n",
       "      <td>Authoritative</td>\n",
       "      <td>https://frost.met.no/observations/v0.jsonld?so...</td>\n",
       "      <td>height_above_ground</td>\n",
       "      <td>m</td>\n",
       "      <td>2.0</td>\n",
       "    </tr>\n",
       "    <tr>\n",
       "      <th>1</th>\n",
       "      <td>SN58703:0</td>\n",
       "      <td>2022-11-05T00:00:00.000Z</td>\n",
       "      <td>2023-02-28T00:00:00.000Z</td>\n",
       "      <td>PT18H</td>\n",
       "      <td>P1D</td>\n",
       "      <td>0</td>\n",
       "      <td>min(air_temperature P1D)</td>\n",
       "      <td>degC</td>\n",
       "      <td>C</td>\n",
       "      <td>2</td>\n",
       "      <td>Authoritative</td>\n",
       "      <td>https://frost.met.no/observations/v0.jsonld?so...</td>\n",
       "      <td>height_above_ground</td>\n",
       "      <td>m</td>\n",
       "      <td>2.0</td>\n",
       "    </tr>\n",
       "    <tr>\n",
       "      <th>16</th>\n",
       "      <td>SN58703:0</td>\n",
       "      <td>2023-07-17T00:00:00.000Z</td>\n",
       "      <td>2023-08-31T00:00:00.000Z</td>\n",
       "      <td>PT0H</td>\n",
       "      <td>PT10M</td>\n",
       "      <td>0</td>\n",
       "      <td>accumulated(precipitation_amount)</td>\n",
       "      <td>mm</td>\n",
       "      <td>C</td>\n",
       "      <td>2</td>\n",
       "      <td>Authoritative</td>\n",
       "      <td>https://frost.met.no/observations/v0.jsonld?so...</td>\n",
       "      <td>NaN</td>\n",
       "      <td>NaN</td>\n",
       "      <td>NaN</td>\n",
       "    </tr>\n",
       "  </tbody>\n",
       "</table>\n",
       "</div>"
      ],
      "text/plain": [
       "     sourceId                 validFrom                   validTo timeOffset  \\\n",
       "0   SN58703:0  2022-01-11T00:00:00.000Z  2022-02-28T00:00:00.000Z       PT0H   \n",
       "18  SN58703:0  2022-01-11T00:00:00.000Z                       NaN       PT0H   \n",
       "2   SN58703:0  2022-01-11T00:00:00.000Z                       NaN       PT0H   \n",
       "3   SN58703:0  2022-01-11T00:00:00.000Z                       NaN       PT0H   \n",
       "15  SN58703:0  2022-01-11T00:00:00.000Z                       NaN       PT0H   \n",
       "14  SN58703:0  2022-01-11T00:00:00.000Z                       NaN       PT0H   \n",
       "13  SN58703:0  2022-01-11T00:00:00.000Z                       NaN       PT0H   \n",
       "7   SN58703:0  2022-01-11T00:00:00.000Z                       NaN       PT0H   \n",
       "8   SN58703:0  2022-01-11T00:00:00.000Z                       NaN       PT0H   \n",
       "19  SN58703:0  2022-01-12T00:00:00.000Z                       NaN       PT0H   \n",
       "20  SN58703:0  2022-01-12T00:00:00.000Z                       NaN       PT0H   \n",
       "5   SN58703:0  2022-01-12T00:00:00.000Z                       NaN       PT0H   \n",
       "4   SN58703:0  2022-01-12T00:00:00.000Z                       NaN       PT0H   \n",
       "9   SN58703:0  2022-02-04T00:00:00.000Z                       NaN       PT0H   \n",
       "10  SN58703:0  2022-04-05T00:00:00.000Z                       NaN       PT6H   \n",
       "11  SN58703:0  2022-11-04T00:00:00.000Z  2023-02-28T00:00:00.000Z       PT0H   \n",
       "12  SN58703:0  2022-11-04T00:00:00.000Z                       NaN       PT0H   \n",
       "17  SN58703:0  2022-11-04T00:00:00.000Z  2023-02-28T00:00:00.000Z       PT0H   \n",
       "6   SN58703:0  2022-11-05T00:00:00.000Z  2023-02-28T00:00:00.000Z      PT18H   \n",
       "1   SN58703:0  2022-11-05T00:00:00.000Z  2023-02-28T00:00:00.000Z      PT18H   \n",
       "16  SN58703:0  2023-07-17T00:00:00.000Z  2023-08-31T00:00:00.000Z       PT0H   \n",
       "\n",
       "   timeResolution  timeSeriesId  \\\n",
       "0             P1D             0   \n",
       "18          PT10M             0   \n",
       "2           PT10M             0   \n",
       "3           PT10M             0   \n",
       "15          PT10M             0   \n",
       "14          PT10M             0   \n",
       "13          PT10M             0   \n",
       "7            PT1H             0   \n",
       "8           PT10M             0   \n",
       "19            P1D             0   \n",
       "20            P1D             0   \n",
       "5             P1D             0   \n",
       "4             P1D             0   \n",
       "9           PT10M             0   \n",
       "10            P1D             0   \n",
       "11          PT10M             0   \n",
       "12            P1D             0   \n",
       "17          PT10M             0   \n",
       "6             P1D             0   \n",
       "1             P1D             0   \n",
       "16          PT10M             0   \n",
       "\n",
       "                                            elementId        unit  \\\n",
       "0                         mean(relative_humidity P1D)     percent   \n",
       "18                    sum(precipitation_amount PT10M)          mm   \n",
       "2                                          wind_speed         m/s   \n",
       "3                               dew_point_temperature        degC   \n",
       "15                            max(rainfall_rate PT1M)        mm/h   \n",
       "14                                  relative_humidity     percent   \n",
       "13                                    air_temperature        degC   \n",
       "7                      sum(precipitation_amount PT1H)          mm   \n",
       "8                                 wind_from_direction     degrees   \n",
       "19  integral_of_deficit(mean(air_temperature P1D) ...  degree-day   \n",
       "20                          mean(air_temperature P1D)        degC   \n",
       "5   integral_of_excess(mean(air_temperature P1D) P...  degree-day   \n",
       "4   integral_of_excess(mean(air_temperature P1D) P...  degree-day   \n",
       "9                              surface_snow_thickness          cm   \n",
       "10                             surface_snow_thickness          cm   \n",
       "11                         max(air_temperature PT10M)        degC   \n",
       "12                    mean(dew_point_temperature P1D)        degC   \n",
       "17                         min(air_temperature PT10M)        degC   \n",
       "6                            max(air_temperature P1D)        degC   \n",
       "1                            min(air_temperature P1D)        degC   \n",
       "16                  accumulated(precipitation_amount)          mm   \n",
       "\n",
       "   performanceCategory exposureCategory         status  \\\n",
       "0                    C                2  Authoritative   \n",
       "18                   C                2  Authoritative   \n",
       "2                    C                2  Authoritative   \n",
       "3                    C                2  Authoritative   \n",
       "15                   C                2  Authoritative   \n",
       "14                   C                2  Authoritative   \n",
       "13                   C                2  Authoritative   \n",
       "7                    C                2  Authoritative   \n",
       "8                    C                2  Authoritative   \n",
       "19                   C                2  Authoritative   \n",
       "20                   C                2  Authoritative   \n",
       "5                    C                2  Authoritative   \n",
       "4                    C                2  Authoritative   \n",
       "9                    C                2  Authoritative   \n",
       "10                   C                2  Authoritative   \n",
       "11                   C                2  Authoritative   \n",
       "12                   C                2  Authoritative   \n",
       "17                   C                2  Authoritative   \n",
       "6                    C                2  Authoritative   \n",
       "1                    C                2  Authoritative   \n",
       "16                   C                2  Authoritative   \n",
       "\n",
       "                                                  uri      level.levelType  \\\n",
       "0   https://frost.met.no/observations/v0.jsonld?so...  height_above_ground   \n",
       "18  https://frost.met.no/observations/v0.jsonld?so...                  NaN   \n",
       "2   https://frost.met.no/observations/v0.jsonld?so...  height_above_ground   \n",
       "3   https://frost.met.no/observations/v0.jsonld?so...                  NaN   \n",
       "15  https://frost.met.no/observations/v0.jsonld?so...                  NaN   \n",
       "14  https://frost.met.no/observations/v0.jsonld?so...  height_above_ground   \n",
       "13  https://frost.met.no/observations/v0.jsonld?so...  height_above_ground   \n",
       "7   https://frost.met.no/observations/v0.jsonld?so...                  NaN   \n",
       "8   https://frost.met.no/observations/v0.jsonld?so...  height_above_ground   \n",
       "19  https://frost.met.no/observations/v0.jsonld?so...  height_above_ground   \n",
       "20  https://frost.met.no/observations/v0.jsonld?so...  height_above_ground   \n",
       "5   https://frost.met.no/observations/v0.jsonld?so...  height_above_ground   \n",
       "4   https://frost.met.no/observations/v0.jsonld?so...  height_above_ground   \n",
       "9   https://frost.met.no/observations/v0.jsonld?so...                  NaN   \n",
       "10  https://frost.met.no/observations/v0.jsonld?so...                  NaN   \n",
       "11  https://frost.met.no/observations/v0.jsonld?so...  height_above_ground   \n",
       "12  https://frost.met.no/observations/v0.jsonld?so...                  NaN   \n",
       "17  https://frost.met.no/observations/v0.jsonld?so...  height_above_ground   \n",
       "6   https://frost.met.no/observations/v0.jsonld?so...  height_above_ground   \n",
       "1   https://frost.met.no/observations/v0.jsonld?so...  height_above_ground   \n",
       "16  https://frost.met.no/observations/v0.jsonld?so...                  NaN   \n",
       "\n",
       "   level.unit  level.value  \n",
       "0           m          2.0  \n",
       "18        NaN          NaN  \n",
       "2           m         10.0  \n",
       "3         NaN          NaN  \n",
       "15        NaN          NaN  \n",
       "14          m          2.0  \n",
       "13          m          2.0  \n",
       "7         NaN          NaN  \n",
       "8           m         10.0  \n",
       "19          m          2.0  \n",
       "20          m          2.0  \n",
       "5           m          2.0  \n",
       "4           m          2.0  \n",
       "9         NaN          NaN  \n",
       "10        NaN          NaN  \n",
       "11          m          2.0  \n",
       "12        NaN          NaN  \n",
       "17          m          2.0  \n",
       "6           m          2.0  \n",
       "1           m          2.0  \n",
       "16        NaN          NaN  "
      ]
     },
     "metadata": {},
     "output_type": "display_data"
    }
   ],
   "source": [
    "display(available)"
   ]
  },
  {
   "cell_type": "code",
   "execution_count": 14,
   "metadata": {},
   "outputs": [
    {
     "data": {
      "application/vnd.plotly.v1+json": {
       "config": {
        "plotlyServerURL": "https://plot.ly"
       },
       "data": [
        {
         "marker": {
          "color": "rgb(106,81,163)"
         },
         "name": "11-14 m/s",
         "r": [
          77.5,
          72.5,
          70,
          45,
          22.5,
          42.5,
          40,
          62.5
         ],
         "text": [
          "North",
          "N-E",
          "East",
          "S-E",
          "South",
          "S-W",
          "West",
          "N-W"
         ],
         "type": "barpolar"
        },
        {
         "marker": {
          "color": "rgb(158,154,200)"
         },
         "name": "8-11 m/s",
         "r": [
          57.5,
          50,
          45,
          35,
          20,
          22.5,
          37.5,
          55
         ],
         "text": [
          "North",
          "N-E",
          "East",
          "S-E",
          "South",
          "S-W",
          "West",
          "N-W"
         ],
         "type": "barpolar"
        },
        {
         "marker": {
          "color": "rgb(203,201,226)"
         },
         "name": "5-8 m/s",
         "r": [
          40,
          30,
          30,
          35,
          7.5,
          7.5,
          32.5,
          40
         ],
         "text": [
          "North",
          "N-E",
          "East",
          "S-E",
          "South",
          "S-W",
          "West",
          "N-W"
         ],
         "type": "barpolar"
        },
        {
         "marker": {
          "color": "rgb(242,240,247)"
         },
         "name": "< 5 m/s",
         "r": [
          20,
          7.5,
          15,
          22.5,
          2.5,
          2.5,
          12.5,
          22.5
         ],
         "text": [
          "North",
          "N-E",
          "East",
          "S-E",
          "South",
          "S-W",
          "West",
          "N-W"
         ],
         "type": "barpolar"
        }
       ],
       "layout": {
        "autosize": true,
        "font": {
         "size": 16
        },
        "legend": {
         "font": {
          "size": 16
         }
        },
        "polar": {
         "angularaxis": {
          "direction": "clockwise",
          "rotation": 90
         },
         "radialaxis": {
          "autorange": true,
          "range": [
           0,
           205.26315789473685
          ],
          "ticksuffix": "%",
          "type": "linear"
         }
        },
        "template": {
         "data": {
          "bar": [
           {
            "error_x": {
             "color": "#2a3f5f"
            },
            "error_y": {
             "color": "#2a3f5f"
            },
            "marker": {
             "line": {
              "color": "#E5ECF6",
              "width": 0.5
             },
             "pattern": {
              "fillmode": "overlay",
              "size": 10,
              "solidity": 0.2
             }
            },
            "type": "bar"
           }
          ],
          "barpolar": [
           {
            "marker": {
             "line": {
              "color": "#E5ECF6",
              "width": 0.5
             },
             "pattern": {
              "fillmode": "overlay",
              "size": 10,
              "solidity": 0.2
             }
            },
            "type": "barpolar"
           }
          ],
          "carpet": [
           {
            "aaxis": {
             "endlinecolor": "#2a3f5f",
             "gridcolor": "white",
             "linecolor": "white",
             "minorgridcolor": "white",
             "startlinecolor": "#2a3f5f"
            },
            "baxis": {
             "endlinecolor": "#2a3f5f",
             "gridcolor": "white",
             "linecolor": "white",
             "minorgridcolor": "white",
             "startlinecolor": "#2a3f5f"
            },
            "type": "carpet"
           }
          ],
          "choropleth": [
           {
            "colorbar": {
             "outlinewidth": 0,
             "ticks": ""
            },
            "type": "choropleth"
           }
          ],
          "contour": [
           {
            "colorbar": {
             "outlinewidth": 0,
             "ticks": ""
            },
            "colorscale": [
             [
              0,
              "#0d0887"
             ],
             [
              0.1111111111111111,
              "#46039f"
             ],
             [
              0.2222222222222222,
              "#7201a8"
             ],
             [
              0.3333333333333333,
              "#9c179e"
             ],
             [
              0.4444444444444444,
              "#bd3786"
             ],
             [
              0.5555555555555556,
              "#d8576b"
             ],
             [
              0.6666666666666666,
              "#ed7953"
             ],
             [
              0.7777777777777778,
              "#fb9f3a"
             ],
             [
              0.8888888888888888,
              "#fdca26"
             ],
             [
              1,
              "#f0f921"
             ]
            ],
            "type": "contour"
           }
          ],
          "contourcarpet": [
           {
            "colorbar": {
             "outlinewidth": 0,
             "ticks": ""
            },
            "type": "contourcarpet"
           }
          ],
          "heatmap": [
           {
            "colorbar": {
             "outlinewidth": 0,
             "ticks": ""
            },
            "colorscale": [
             [
              0,
              "#0d0887"
             ],
             [
              0.1111111111111111,
              "#46039f"
             ],
             [
              0.2222222222222222,
              "#7201a8"
             ],
             [
              0.3333333333333333,
              "#9c179e"
             ],
             [
              0.4444444444444444,
              "#bd3786"
             ],
             [
              0.5555555555555556,
              "#d8576b"
             ],
             [
              0.6666666666666666,
              "#ed7953"
             ],
             [
              0.7777777777777778,
              "#fb9f3a"
             ],
             [
              0.8888888888888888,
              "#fdca26"
             ],
             [
              1,
              "#f0f921"
             ]
            ],
            "type": "heatmap"
           }
          ],
          "heatmapgl": [
           {
            "colorbar": {
             "outlinewidth": 0,
             "ticks": ""
            },
            "colorscale": [
             [
              0,
              "#0d0887"
             ],
             [
              0.1111111111111111,
              "#46039f"
             ],
             [
              0.2222222222222222,
              "#7201a8"
             ],
             [
              0.3333333333333333,
              "#9c179e"
             ],
             [
              0.4444444444444444,
              "#bd3786"
             ],
             [
              0.5555555555555556,
              "#d8576b"
             ],
             [
              0.6666666666666666,
              "#ed7953"
             ],
             [
              0.7777777777777778,
              "#fb9f3a"
             ],
             [
              0.8888888888888888,
              "#fdca26"
             ],
             [
              1,
              "#f0f921"
             ]
            ],
            "type": "heatmapgl"
           }
          ],
          "histogram": [
           {
            "marker": {
             "pattern": {
              "fillmode": "overlay",
              "size": 10,
              "solidity": 0.2
             }
            },
            "type": "histogram"
           }
          ],
          "histogram2d": [
           {
            "colorbar": {
             "outlinewidth": 0,
             "ticks": ""
            },
            "colorscale": [
             [
              0,
              "#0d0887"
             ],
             [
              0.1111111111111111,
              "#46039f"
             ],
             [
              0.2222222222222222,
              "#7201a8"
             ],
             [
              0.3333333333333333,
              "#9c179e"
             ],
             [
              0.4444444444444444,
              "#bd3786"
             ],
             [
              0.5555555555555556,
              "#d8576b"
             ],
             [
              0.6666666666666666,
              "#ed7953"
             ],
             [
              0.7777777777777778,
              "#fb9f3a"
             ],
             [
              0.8888888888888888,
              "#fdca26"
             ],
             [
              1,
              "#f0f921"
             ]
            ],
            "type": "histogram2d"
           }
          ],
          "histogram2dcontour": [
           {
            "colorbar": {
             "outlinewidth": 0,
             "ticks": ""
            },
            "colorscale": [
             [
              0,
              "#0d0887"
             ],
             [
              0.1111111111111111,
              "#46039f"
             ],
             [
              0.2222222222222222,
              "#7201a8"
             ],
             [
              0.3333333333333333,
              "#9c179e"
             ],
             [
              0.4444444444444444,
              "#bd3786"
             ],
             [
              0.5555555555555556,
              "#d8576b"
             ],
             [
              0.6666666666666666,
              "#ed7953"
             ],
             [
              0.7777777777777778,
              "#fb9f3a"
             ],
             [
              0.8888888888888888,
              "#fdca26"
             ],
             [
              1,
              "#f0f921"
             ]
            ],
            "type": "histogram2dcontour"
           }
          ],
          "mesh3d": [
           {
            "colorbar": {
             "outlinewidth": 0,
             "ticks": ""
            },
            "type": "mesh3d"
           }
          ],
          "parcoords": [
           {
            "line": {
             "colorbar": {
              "outlinewidth": 0,
              "ticks": ""
             }
            },
            "type": "parcoords"
           }
          ],
          "pie": [
           {
            "automargin": true,
            "type": "pie"
           }
          ],
          "scatter": [
           {
            "fillpattern": {
             "fillmode": "overlay",
             "size": 10,
             "solidity": 0.2
            },
            "type": "scatter"
           }
          ],
          "scatter3d": [
           {
            "line": {
             "colorbar": {
              "outlinewidth": 0,
              "ticks": ""
             }
            },
            "marker": {
             "colorbar": {
              "outlinewidth": 0,
              "ticks": ""
             }
            },
            "type": "scatter3d"
           }
          ],
          "scattercarpet": [
           {
            "marker": {
             "colorbar": {
              "outlinewidth": 0,
              "ticks": ""
             }
            },
            "type": "scattercarpet"
           }
          ],
          "scattergeo": [
           {
            "marker": {
             "colorbar": {
              "outlinewidth": 0,
              "ticks": ""
             }
            },
            "type": "scattergeo"
           }
          ],
          "scattergl": [
           {
            "marker": {
             "colorbar": {
              "outlinewidth": 0,
              "ticks": ""
             }
            },
            "type": "scattergl"
           }
          ],
          "scattermapbox": [
           {
            "marker": {
             "colorbar": {
              "outlinewidth": 0,
              "ticks": ""
             }
            },
            "type": "scattermapbox"
           }
          ],
          "scatterpolar": [
           {
            "marker": {
             "colorbar": {
              "outlinewidth": 0,
              "ticks": ""
             }
            },
            "type": "scatterpolar"
           }
          ],
          "scatterpolargl": [
           {
            "marker": {
             "colorbar": {
              "outlinewidth": 0,
              "ticks": ""
             }
            },
            "type": "scatterpolargl"
           }
          ],
          "scatterternary": [
           {
            "marker": {
             "colorbar": {
              "outlinewidth": 0,
              "ticks": ""
             }
            },
            "type": "scatterternary"
           }
          ],
          "surface": [
           {
            "colorbar": {
             "outlinewidth": 0,
             "ticks": ""
            },
            "colorscale": [
             [
              0,
              "#0d0887"
             ],
             [
              0.1111111111111111,
              "#46039f"
             ],
             [
              0.2222222222222222,
              "#7201a8"
             ],
             [
              0.3333333333333333,
              "#9c179e"
             ],
             [
              0.4444444444444444,
              "#bd3786"
             ],
             [
              0.5555555555555556,
              "#d8576b"
             ],
             [
              0.6666666666666666,
              "#ed7953"
             ],
             [
              0.7777777777777778,
              "#fb9f3a"
             ],
             [
              0.8888888888888888,
              "#fdca26"
             ],
             [
              1,
              "#f0f921"
             ]
            ],
            "type": "surface"
           }
          ],
          "table": [
           {
            "cells": {
             "fill": {
              "color": "#EBF0F8"
             },
             "line": {
              "color": "white"
             }
            },
            "header": {
             "fill": {
              "color": "#C8D4E3"
             },
             "line": {
              "color": "white"
             }
            },
            "type": "table"
           }
          ]
         },
         "layout": {
          "annotationdefaults": {
           "arrowcolor": "#2a3f5f",
           "arrowhead": 0,
           "arrowwidth": 1
          },
          "autotypenumbers": "strict",
          "coloraxis": {
           "colorbar": {
            "outlinewidth": 0,
            "ticks": ""
           }
          },
          "colorscale": {
           "diverging": [
            [
             0,
             "#8e0152"
            ],
            [
             0.1,
             "#c51b7d"
            ],
            [
             0.2,
             "#de77ae"
            ],
            [
             0.3,
             "#f1b6da"
            ],
            [
             0.4,
             "#fde0ef"
            ],
            [
             0.5,
             "#f7f7f7"
            ],
            [
             0.6,
             "#e6f5d0"
            ],
            [
             0.7,
             "#b8e186"
            ],
            [
             0.8,
             "#7fbc41"
            ],
            [
             0.9,
             "#4d9221"
            ],
            [
             1,
             "#276419"
            ]
           ],
           "sequential": [
            [
             0,
             "#0d0887"
            ],
            [
             0.1111111111111111,
             "#46039f"
            ],
            [
             0.2222222222222222,
             "#7201a8"
            ],
            [
             0.3333333333333333,
             "#9c179e"
            ],
            [
             0.4444444444444444,
             "#bd3786"
            ],
            [
             0.5555555555555556,
             "#d8576b"
            ],
            [
             0.6666666666666666,
             "#ed7953"
            ],
            [
             0.7777777777777778,
             "#fb9f3a"
            ],
            [
             0.8888888888888888,
             "#fdca26"
            ],
            [
             1,
             "#f0f921"
            ]
           ],
           "sequentialminus": [
            [
             0,
             "#0d0887"
            ],
            [
             0.1111111111111111,
             "#46039f"
            ],
            [
             0.2222222222222222,
             "#7201a8"
            ],
            [
             0.3333333333333333,
             "#9c179e"
            ],
            [
             0.4444444444444444,
             "#bd3786"
            ],
            [
             0.5555555555555556,
             "#d8576b"
            ],
            [
             0.6666666666666666,
             "#ed7953"
            ],
            [
             0.7777777777777778,
             "#fb9f3a"
            ],
            [
             0.8888888888888888,
             "#fdca26"
            ],
            [
             1,
             "#f0f921"
            ]
           ]
          },
          "colorway": [
           "#636efa",
           "#EF553B",
           "#00cc96",
           "#ab63fa",
           "#FFA15A",
           "#19d3f3",
           "#FF6692",
           "#B6E880",
           "#FF97FF",
           "#FECB52"
          ],
          "font": {
           "color": "#2a3f5f"
          },
          "geo": {
           "bgcolor": "white",
           "lakecolor": "white",
           "landcolor": "#E5ECF6",
           "showlakes": true,
           "showland": true,
           "subunitcolor": "white"
          },
          "hoverlabel": {
           "align": "left"
          },
          "hovermode": "closest",
          "mapbox": {
           "style": "light"
          },
          "paper_bgcolor": "white",
          "plot_bgcolor": "#E5ECF6",
          "polar": {
           "angularaxis": {
            "gridcolor": "white",
            "linecolor": "white",
            "ticks": ""
           },
           "bgcolor": "#E5ECF6",
           "radialaxis": {
            "gridcolor": "white",
            "linecolor": "white",
            "ticks": ""
           }
          },
          "scene": {
           "xaxis": {
            "backgroundcolor": "#E5ECF6",
            "gridcolor": "white",
            "gridwidth": 2,
            "linecolor": "white",
            "showbackground": true,
            "ticks": "",
            "zerolinecolor": "white"
           },
           "yaxis": {
            "backgroundcolor": "#E5ECF6",
            "gridcolor": "white",
            "gridwidth": 2,
            "linecolor": "white",
            "showbackground": true,
            "ticks": "",
            "zerolinecolor": "white"
           },
           "zaxis": {
            "backgroundcolor": "#E5ECF6",
            "gridcolor": "white",
            "gridwidth": 2,
            "linecolor": "white",
            "showbackground": true,
            "ticks": "",
            "zerolinecolor": "white"
           }
          },
          "shapedefaults": {
           "line": {
            "color": "#2a3f5f"
           }
          },
          "ternary": {
           "aaxis": {
            "gridcolor": "white",
            "linecolor": "white",
            "ticks": ""
           },
           "baxis": {
            "gridcolor": "white",
            "linecolor": "white",
            "ticks": ""
           },
           "bgcolor": "#E5ECF6",
           "caxis": {
            "gridcolor": "white",
            "linecolor": "white",
            "ticks": ""
           }
          },
          "title": {
           "x": 0.05
          },
          "xaxis": {
           "automargin": true,
           "gridcolor": "white",
           "linecolor": "white",
           "ticks": "",
           "title": {
            "standoff": 15
           },
           "zerolinecolor": "white",
           "zerolinewidth": 2
          },
          "yaxis": {
           "automargin": true,
           "gridcolor": "white",
           "linecolor": "white",
           "ticks": "",
           "title": {
            "standoff": 15
           },
           "zerolinecolor": "white",
           "zerolinewidth": 2
          }
         }
        },
        "title": {
         "text": "Wind Speed Distribution in Laurel, NE"
        }
       }
      },
      "image/png": "[encoded data removed]"
     },
     "metadata": {},
     "output_type": "display_data"
    }
   ],
   "source": [
    "import plotly.graph_objects as go\n",
    "\n",
    "fig = go.Figure()\n",
    "\n",
    "fig.add_trace(go.Barpolar(\n",
    "    r=[77.5, 72.5, 70.0, 45.0, 22.5, 42.5, 40.0, 62.5],\n",
    "    name='11-14 m/s',\n",
    "    marker_color='rgb(106,81,163)'\n",
    "))\n",
    "fig.add_trace(go.Barpolar(\n",
    "    r=[57.5, 50.0, 45.0, 35.0, 20.0, 22.5, 37.5, 55.0],\n",
    "    name='8-11 m/s',\n",
    "    marker_color='rgb(158,154,200)'\n",
    "))\n",
    "fig.add_trace(go.Barpolar(\n",
    "    r=[40.0, 30.0, 30.0, 35.0, 7.5, 7.5, 32.5, 40.0],\n",
    "    name='5-8 m/s',\n",
    "    marker_color='rgb(203,201,226)'\n",
    "))\n",
    "fig.add_trace(go.Barpolar(\n",
    "    r=[20.0, 7.5, 15.0, 22.5, 2.5, 2.5, 12.5, 22.5],\n",
    "    name='< 5 m/s',\n",
    "    marker_color='rgb(242,240,247)'\n",
    "))\n",
    "\n",
    "fig.update_traces(text=['North', 'N-E', 'East', 'S-E', 'South', 'S-W', 'West', 'N-W'])\n",
    "fig.update_layout(\n",
    "    title='Wind Speed Distribution in Laurel, NE',\n",
    "    font_size=16,\n",
    "    legend_font_size=16,\n",
    "    polar_radialaxis_ticksuffix='%',\n",
    "    polar_angularaxis_direction='clockwise',\n",
    "    polar_angularaxis_rotation=90,\n",
    "\n",
    ")\n",
    "fig.show()"
   ]
  }
 ],
 "metadata": {
  "kernelspec": {
   "display_name": "Python 3 (ipykernel)",
   "language": "python",
   "name": "python3"
  },
  "language_info": {
   "codemirror_mode": {
    "name": "ipython",
    "version": 3
   },
   "file_extension": ".py",
   "mimetype": "text/x-python",
   "name": "python",
   "nbconvert_exporter": "python",
   "pygments_lexer": "ipython3",
   "version": "3.11.5"
  }
 },
 "nbformat": 4,
 "nbformat_minor": 4
}
